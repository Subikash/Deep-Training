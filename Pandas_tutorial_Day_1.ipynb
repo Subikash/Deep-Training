{
  "cells": [
    {
      "metadata": {
        "_uuid": "8f2839f25d086af736a60e9eeb907d3b93b6e0e5",
        "_cell_guid": "b1076dfc-b9ad-4769-8c92-a6c4dae69d19",
        "trusted": true
      },
      "cell_type": "code",
      "source": "# This Python 3 environment comes with many helpful analytics libraries installed\n# It is defined by the kaggle/python docker image: https://github.com/kaggle/docker-python\n# For example, here's several helpful packages to load in \n\nimport numpy as np # linear algebra\nimport pandas as pd # data processing, CSV file I/O (e.g. pd.read_csv)\n\n# Input data files are available in the \"../input/\" directory.\n# For example, running this (by clicking run or pressing Shift+Enter) will list the files in the input directory\n\nimport os\nprint(os.listdir(\"../input\"))\n\n# Any results you write to the current directory are saved as output.",
      "execution_count": 122,
      "outputs": [
        {
          "output_type": "stream",
          "text": "['titanic_test.csv', 'titanic_train.csv']\n",
          "name": "stdout"
        }
      ]
    },
    {
      "metadata": {
        "_cell_guid": "79c7e3d0-c299-4dcb-8224-4455121ee9b0",
        "_uuid": "d629ff2d2480ee46fbb7e2d37f6b5fab8052498a",
        "trusted": true
      },
      "cell_type": "code",
      "source": "## reading the Input files. We can read any type of data(CSV,HTML,JSON etc)\ntrain = pd.read_csv(\"../input/titanic_train.csv\")\ntest = pd.read_csv(\"../input/titanic_test.csv\")",
      "execution_count": 123,
      "outputs": []
    },
    {
      "metadata": {
        "trusted": true,
        "_uuid": "43dfd62a8c93cf894fbc977ab72ed25b72e68184"
      },
      "cell_type": "code",
      "source": "## Just to get a feel of the train data. \n## head() displays first few rows whether tail() displays last few rows\ntrain.head()",
      "execution_count": 124,
      "outputs": [
        {
          "output_type": "execute_result",
          "execution_count": 124,
          "data": {
            "text/plain": "   PassengerId  Survived  Pclass    ...        Fare Cabin  Embarked\n0            1         0       3    ...      7.2500   NaN         S\n1            2         1       1    ...     71.2833   C85         C\n2            3         1       3    ...      7.9250   NaN         S\n3            4         1       1    ...     53.1000  C123         S\n4            5         0       3    ...      8.0500   NaN         S\n\n[5 rows x 12 columns]",
            "text/html": "<div>\n<style scoped>\n    .dataframe tbody tr th:only-of-type {\n        vertical-align: middle;\n    }\n\n    .dataframe tbody tr th {\n        vertical-align: top;\n    }\n\n    .dataframe thead th {\n        text-align: right;\n    }\n</style>\n<table border=\"1\" class=\"dataframe\">\n  <thead>\n    <tr style=\"text-align: right;\">\n      <th></th>\n      <th>PassengerId</th>\n      <th>Survived</th>\n      <th>Pclass</th>\n      <th>Name</th>\n      <th>Sex</th>\n      <th>Age</th>\n      <th>SibSp</th>\n      <th>Parch</th>\n      <th>Ticket</th>\n      <th>Fare</th>\n      <th>Cabin</th>\n      <th>Embarked</th>\n    </tr>\n  </thead>\n  <tbody>\n    <tr>\n      <th>0</th>\n      <td>1</td>\n      <td>0</td>\n      <td>3</td>\n      <td>Braund, Mr. Owen Harris</td>\n      <td>male</td>\n      <td>22.0</td>\n      <td>1</td>\n      <td>0</td>\n      <td>A/5 21171</td>\n      <td>7.2500</td>\n      <td>NaN</td>\n      <td>S</td>\n    </tr>\n    <tr>\n      <th>1</th>\n      <td>2</td>\n      <td>1</td>\n      <td>1</td>\n      <td>Cumings, Mrs. John Bradley (Florence Briggs Th...</td>\n      <td>female</td>\n      <td>38.0</td>\n      <td>1</td>\n      <td>0</td>\n      <td>PC 17599</td>\n      <td>71.2833</td>\n      <td>C85</td>\n      <td>C</td>\n    </tr>\n    <tr>\n      <th>2</th>\n      <td>3</td>\n      <td>1</td>\n      <td>3</td>\n      <td>Heikkinen, Miss. Laina</td>\n      <td>female</td>\n      <td>26.0</td>\n      <td>0</td>\n      <td>0</td>\n      <td>STON/O2. 3101282</td>\n      <td>7.9250</td>\n      <td>NaN</td>\n      <td>S</td>\n    </tr>\n    <tr>\n      <th>3</th>\n      <td>4</td>\n      <td>1</td>\n      <td>1</td>\n      <td>Futrelle, Mrs. Jacques Heath (Lily May Peel)</td>\n      <td>female</td>\n      <td>35.0</td>\n      <td>1</td>\n      <td>0</td>\n      <td>113803</td>\n      <td>53.1000</td>\n      <td>C123</td>\n      <td>S</td>\n    </tr>\n    <tr>\n      <th>4</th>\n      <td>5</td>\n      <td>0</td>\n      <td>3</td>\n      <td>Allen, Mr. William Henry</td>\n      <td>male</td>\n      <td>35.0</td>\n      <td>0</td>\n      <td>0</td>\n      <td>373450</td>\n      <td>8.0500</td>\n      <td>NaN</td>\n      <td>S</td>\n    </tr>\n  </tbody>\n</table>\n</div>"
          },
          "metadata": {}
        }
      ]
    },
    {
      "metadata": {
        "trusted": true,
        "_uuid": "78b44f78965f0715411ffbde63a13d5cb126a6a5"
      },
      "cell_type": "code",
      "source": "## Just to get a feel of the test data. \ntest.head()",
      "execution_count": 125,
      "outputs": [
        {
          "output_type": "execute_result",
          "execution_count": 125,
          "data": {
            "text/plain": "   PassengerId  Pclass   ...    Cabin Embarked\n0          892       3   ...      NaN        Q\n1          893       3   ...      NaN        S\n2          894       2   ...      NaN        Q\n3          895       3   ...      NaN        S\n4          896       3   ...      NaN        S\n\n[5 rows x 11 columns]",
            "text/html": "<div>\n<style scoped>\n    .dataframe tbody tr th:only-of-type {\n        vertical-align: middle;\n    }\n\n    .dataframe tbody tr th {\n        vertical-align: top;\n    }\n\n    .dataframe thead th {\n        text-align: right;\n    }\n</style>\n<table border=\"1\" class=\"dataframe\">\n  <thead>\n    <tr style=\"text-align: right;\">\n      <th></th>\n      <th>PassengerId</th>\n      <th>Pclass</th>\n      <th>Name</th>\n      <th>Sex</th>\n      <th>Age</th>\n      <th>SibSp</th>\n      <th>Parch</th>\n      <th>Ticket</th>\n      <th>Fare</th>\n      <th>Cabin</th>\n      <th>Embarked</th>\n    </tr>\n  </thead>\n  <tbody>\n    <tr>\n      <th>0</th>\n      <td>892</td>\n      <td>3</td>\n      <td>Kelly, Mr. James</td>\n      <td>male</td>\n      <td>34.5</td>\n      <td>0</td>\n      <td>0</td>\n      <td>330911</td>\n      <td>7.8292</td>\n      <td>NaN</td>\n      <td>Q</td>\n    </tr>\n    <tr>\n      <th>1</th>\n      <td>893</td>\n      <td>3</td>\n      <td>Wilkes, Mrs. James (Ellen Needs)</td>\n      <td>female</td>\n      <td>47.0</td>\n      <td>1</td>\n      <td>0</td>\n      <td>363272</td>\n      <td>7.0000</td>\n      <td>NaN</td>\n      <td>S</td>\n    </tr>\n    <tr>\n      <th>2</th>\n      <td>894</td>\n      <td>2</td>\n      <td>Myles, Mr. Thomas Francis</td>\n      <td>male</td>\n      <td>62.0</td>\n      <td>0</td>\n      <td>0</td>\n      <td>240276</td>\n      <td>9.6875</td>\n      <td>NaN</td>\n      <td>Q</td>\n    </tr>\n    <tr>\n      <th>3</th>\n      <td>895</td>\n      <td>3</td>\n      <td>Wirz, Mr. Albert</td>\n      <td>male</td>\n      <td>27.0</td>\n      <td>0</td>\n      <td>0</td>\n      <td>315154</td>\n      <td>8.6625</td>\n      <td>NaN</td>\n      <td>S</td>\n    </tr>\n    <tr>\n      <th>4</th>\n      <td>896</td>\n      <td>3</td>\n      <td>Hirvonen, Mrs. Alexander (Helga E Lindqvist)</td>\n      <td>female</td>\n      <td>22.0</td>\n      <td>1</td>\n      <td>1</td>\n      <td>3101298</td>\n      <td>12.2875</td>\n      <td>NaN</td>\n      <td>S</td>\n    </tr>\n  </tbody>\n</table>\n</div>"
          },
          "metadata": {}
        }
      ]
    },
    {
      "metadata": {
        "trusted": true,
        "_uuid": "5704ad522818585f2e3ff6f95f02c3d3c199664e"
      },
      "cell_type": "code",
      "source": "## lets check what are the columns in Train.\nprint(train.columns)",
      "execution_count": 126,
      "outputs": [
        {
          "output_type": "stream",
          "text": "Index(['PassengerId', 'Survived', 'Pclass', 'Name', 'Sex', 'Age', 'SibSp',\n       'Parch', 'Ticket', 'Fare', 'Cabin', 'Embarked'],\n      dtype='object')\n",
          "name": "stdout"
        }
      ]
    },
    {
      "metadata": {
        "trusted": true,
        "_uuid": "474c25b04f82f248e4cfe2718a39d205b4df1fbf"
      },
      "cell_type": "code",
      "source": "## lets check what are the columns in Test.\nprint(test.columns)\n## Survived column is missed. WHY?",
      "execution_count": 127,
      "outputs": [
        {
          "output_type": "stream",
          "text": "Index(['PassengerId', 'Pclass', 'Name', 'Sex', 'Age', 'SibSp', 'Parch',\n       'Ticket', 'Fare', 'Cabin', 'Embarked'],\n      dtype='object')\n",
          "name": "stdout"
        }
      ]
    },
    {
      "metadata": {
        "trusted": true,
        "_uuid": "9e022addf8d9e7298cb9d127bf5e764230e04a12"
      },
      "cell_type": "code",
      "source": "## lets try to see the column details in TRAIN\ntrain.info()",
      "execution_count": 128,
      "outputs": [
        {
          "output_type": "stream",
          "text": "<class 'pandas.core.frame.DataFrame'>\nRangeIndex: 891 entries, 0 to 890\nData columns (total 12 columns):\nPassengerId    891 non-null int64\nSurvived       891 non-null int64\nPclass         891 non-null int64\nName           891 non-null object\nSex            891 non-null object\nAge            714 non-null float64\nSibSp          891 non-null int64\nParch          891 non-null int64\nTicket         891 non-null object\nFare           891 non-null float64\nCabin          204 non-null object\nEmbarked       889 non-null object\ndtypes: float64(2), int64(5), object(5)\nmemory usage: 83.6+ KB\n",
          "name": "stdout"
        }
      ]
    },
    {
      "metadata": {
        "trusted": true,
        "_uuid": "6aad4765e9ad9790c69b15d2d8ec066e28cce6fd"
      },
      "cell_type": "code",
      "source": "## lets see the distribution of Target\ntrain['Survived'].value_counts()",
      "execution_count": 129,
      "outputs": [
        {
          "output_type": "execute_result",
          "execution_count": 129,
          "data": {
            "text/plain": "0    549\n1    342\nName: Survived, dtype: int64"
          },
          "metadata": {}
        }
      ]
    },
    {
      "metadata": {
        "trusted": true,
        "_uuid": "f973d834c73083f9725b8cefa432c5830707bf28"
      },
      "cell_type": "code",
      "source": "## lets see some sample of Survived.\ntrain[train['Survived'] == 1]",
      "execution_count": 130,
      "outputs": [
        {
          "output_type": "execute_result",
          "execution_count": 130,
          "data": {
            "text/plain": "     PassengerId  Survived  Pclass    ...         Fare Cabin  Embarked\n1              2         1       1    ...      71.2833   C85         C\n2              3         1       3    ...       7.9250   NaN         S\n3              4         1       1    ...      53.1000  C123         S\n8              9         1       3    ...      11.1333   NaN         S\n9             10         1       2    ...      30.0708   NaN         C\n10            11         1       3    ...      16.7000    G6         S\n11            12         1       1    ...      26.5500  C103         S\n15            16         1       2    ...      16.0000   NaN         S\n17            18         1       2    ...      13.0000   NaN         S\n19            20         1       3    ...       7.2250   NaN         C\n21            22         1       2    ...      13.0000   D56         S\n22            23         1       3    ...       8.0292   NaN         Q\n23            24         1       1    ...      35.5000    A6         S\n25            26         1       3    ...      31.3875   NaN         S\n28            29         1       3    ...       7.8792   NaN         Q\n31            32         1       1    ...     146.5208   B78         C\n32            33         1       3    ...       7.7500   NaN         Q\n36            37         1       3    ...       7.2292   NaN         C\n39            40         1       3    ...      11.2417   NaN         C\n43            44         1       2    ...      41.5792   NaN         C\n44            45         1       3    ...       7.8792   NaN         Q\n47            48         1       3    ...       7.7500   NaN         Q\n52            53         1       1    ...      76.7292   D33         C\n53            54         1       2    ...      26.0000   NaN         S\n55            56         1       1    ...      35.5000   C52         S\n56            57         1       2    ...      10.5000   NaN         S\n58            59         1       2    ...      27.7500   NaN         S\n61            62         1       1    ...      80.0000   B28       NaN\n65            66         1       3    ...      15.2458   NaN         C\n66            67         1       2    ...      10.5000   F33         S\n..           ...       ...     ...    ...          ...   ...       ...\n809          810         1       1    ...      53.1000    E8         S\n820          821         1       1    ...      93.5000   B69         S\n821          822         1       3    ...       8.6625   NaN         S\n823          824         1       3    ...      12.4750  E121         S\n827          828         1       2    ...      37.0042   NaN         C\n828          829         1       3    ...       7.7500   NaN         Q\n829          830         1       1    ...      80.0000   B28       NaN\n830          831         1       3    ...      14.4542   NaN         C\n831          832         1       2    ...      18.7500   NaN         S\n835          836         1       1    ...      83.1583   E49         C\n838          839         1       3    ...      56.4958   NaN         S\n839          840         1       1    ...      29.7000   C47         C\n842          843         1       1    ...      31.0000   NaN         C\n849          850         1       1    ...      89.1042   C92         C\n853          854         1       1    ...      39.4000   D28         S\n855          856         1       3    ...       9.3500   NaN         S\n856          857         1       1    ...     164.8667   NaN         S\n857          858         1       1    ...      26.5500   E17         S\n858          859         1       3    ...      19.2583   NaN         C\n862          863         1       1    ...      25.9292   D17         S\n865          866         1       2    ...      13.0000   NaN         S\n866          867         1       2    ...      13.8583   NaN         C\n869          870         1       3    ...      11.1333   NaN         S\n871          872         1       1    ...      52.5542   D35         S\n874          875         1       2    ...      24.0000   NaN         C\n875          876         1       3    ...       7.2250   NaN         C\n879          880         1       1    ...      83.1583   C50         C\n880          881         1       2    ...      26.0000   NaN         S\n887          888         1       1    ...      30.0000   B42         S\n889          890         1       1    ...      30.0000  C148         C\n\n[342 rows x 12 columns]",
            "text/html": "<div>\n<style scoped>\n    .dataframe tbody tr th:only-of-type {\n        vertical-align: middle;\n    }\n\n    .dataframe tbody tr th {\n        vertical-align: top;\n    }\n\n    .dataframe thead th {\n        text-align: right;\n    }\n</style>\n<table border=\"1\" class=\"dataframe\">\n  <thead>\n    <tr style=\"text-align: right;\">\n      <th></th>\n      <th>PassengerId</th>\n      <th>Survived</th>\n      <th>Pclass</th>\n      <th>Name</th>\n      <th>Sex</th>\n      <th>Age</th>\n      <th>SibSp</th>\n      <th>Parch</th>\n      <th>Ticket</th>\n      <th>Fare</th>\n      <th>Cabin</th>\n      <th>Embarked</th>\n    </tr>\n  </thead>\n  <tbody>\n    <tr>\n      <th>1</th>\n      <td>2</td>\n      <td>1</td>\n      <td>1</td>\n      <td>Cumings, Mrs. John Bradley (Florence Briggs Th...</td>\n      <td>female</td>\n      <td>38.00</td>\n      <td>1</td>\n      <td>0</td>\n      <td>PC 17599</td>\n      <td>71.2833</td>\n      <td>C85</td>\n      <td>C</td>\n    </tr>\n    <tr>\n      <th>2</th>\n      <td>3</td>\n      <td>1</td>\n      <td>3</td>\n      <td>Heikkinen, Miss. Laina</td>\n      <td>female</td>\n      <td>26.00</td>\n      <td>0</td>\n      <td>0</td>\n      <td>STON/O2. 3101282</td>\n      <td>7.9250</td>\n      <td>NaN</td>\n      <td>S</td>\n    </tr>\n    <tr>\n      <th>3</th>\n      <td>4</td>\n      <td>1</td>\n      <td>1</td>\n      <td>Futrelle, Mrs. Jacques Heath (Lily May Peel)</td>\n      <td>female</td>\n      <td>35.00</td>\n      <td>1</td>\n      <td>0</td>\n      <td>113803</td>\n      <td>53.1000</td>\n      <td>C123</td>\n      <td>S</td>\n    </tr>\n    <tr>\n      <th>8</th>\n      <td>9</td>\n      <td>1</td>\n      <td>3</td>\n      <td>Johnson, Mrs. Oscar W (Elisabeth Vilhelmina Berg)</td>\n      <td>female</td>\n      <td>27.00</td>\n      <td>0</td>\n      <td>2</td>\n      <td>347742</td>\n      <td>11.1333</td>\n      <td>NaN</td>\n      <td>S</td>\n    </tr>\n    <tr>\n      <th>9</th>\n      <td>10</td>\n      <td>1</td>\n      <td>2</td>\n      <td>Nasser, Mrs. Nicholas (Adele Achem)</td>\n      <td>female</td>\n      <td>14.00</td>\n      <td>1</td>\n      <td>0</td>\n      <td>237736</td>\n      <td>30.0708</td>\n      <td>NaN</td>\n      <td>C</td>\n    </tr>\n    <tr>\n      <th>10</th>\n      <td>11</td>\n      <td>1</td>\n      <td>3</td>\n      <td>Sandstrom, Miss. Marguerite Rut</td>\n      <td>female</td>\n      <td>4.00</td>\n      <td>1</td>\n      <td>1</td>\n      <td>PP 9549</td>\n      <td>16.7000</td>\n      <td>G6</td>\n      <td>S</td>\n    </tr>\n    <tr>\n      <th>11</th>\n      <td>12</td>\n      <td>1</td>\n      <td>1</td>\n      <td>Bonnell, Miss. Elizabeth</td>\n      <td>female</td>\n      <td>58.00</td>\n      <td>0</td>\n      <td>0</td>\n      <td>113783</td>\n      <td>26.5500</td>\n      <td>C103</td>\n      <td>S</td>\n    </tr>\n    <tr>\n      <th>15</th>\n      <td>16</td>\n      <td>1</td>\n      <td>2</td>\n      <td>Hewlett, Mrs. (Mary D Kingcome)</td>\n      <td>female</td>\n      <td>55.00</td>\n      <td>0</td>\n      <td>0</td>\n      <td>248706</td>\n      <td>16.0000</td>\n      <td>NaN</td>\n      <td>S</td>\n    </tr>\n    <tr>\n      <th>17</th>\n      <td>18</td>\n      <td>1</td>\n      <td>2</td>\n      <td>Williams, Mr. Charles Eugene</td>\n      <td>male</td>\n      <td>NaN</td>\n      <td>0</td>\n      <td>0</td>\n      <td>244373</td>\n      <td>13.0000</td>\n      <td>NaN</td>\n      <td>S</td>\n    </tr>\n    <tr>\n      <th>19</th>\n      <td>20</td>\n      <td>1</td>\n      <td>3</td>\n      <td>Masselmani, Mrs. Fatima</td>\n      <td>female</td>\n      <td>NaN</td>\n      <td>0</td>\n      <td>0</td>\n      <td>2649</td>\n      <td>7.2250</td>\n      <td>NaN</td>\n      <td>C</td>\n    </tr>\n    <tr>\n      <th>21</th>\n      <td>22</td>\n      <td>1</td>\n      <td>2</td>\n      <td>Beesley, Mr. Lawrence</td>\n      <td>male</td>\n      <td>34.00</td>\n      <td>0</td>\n      <td>0</td>\n      <td>248698</td>\n      <td>13.0000</td>\n      <td>D56</td>\n      <td>S</td>\n    </tr>\n    <tr>\n      <th>22</th>\n      <td>23</td>\n      <td>1</td>\n      <td>3</td>\n      <td>McGowan, Miss. Anna \"Annie\"</td>\n      <td>female</td>\n      <td>15.00</td>\n      <td>0</td>\n      <td>0</td>\n      <td>330923</td>\n      <td>8.0292</td>\n      <td>NaN</td>\n      <td>Q</td>\n    </tr>\n    <tr>\n      <th>23</th>\n      <td>24</td>\n      <td>1</td>\n      <td>1</td>\n      <td>Sloper, Mr. William Thompson</td>\n      <td>male</td>\n      <td>28.00</td>\n      <td>0</td>\n      <td>0</td>\n      <td>113788</td>\n      <td>35.5000</td>\n      <td>A6</td>\n      <td>S</td>\n    </tr>\n    <tr>\n      <th>25</th>\n      <td>26</td>\n      <td>1</td>\n      <td>3</td>\n      <td>Asplund, Mrs. Carl Oscar (Selma Augusta Emilia...</td>\n      <td>female</td>\n      <td>38.00</td>\n      <td>1</td>\n      <td>5</td>\n      <td>347077</td>\n      <td>31.3875</td>\n      <td>NaN</td>\n      <td>S</td>\n    </tr>\n    <tr>\n      <th>28</th>\n      <td>29</td>\n      <td>1</td>\n      <td>3</td>\n      <td>O'Dwyer, Miss. Ellen \"Nellie\"</td>\n      <td>female</td>\n      <td>NaN</td>\n      <td>0</td>\n      <td>0</td>\n      <td>330959</td>\n      <td>7.8792</td>\n      <td>NaN</td>\n      <td>Q</td>\n    </tr>\n    <tr>\n      <th>31</th>\n      <td>32</td>\n      <td>1</td>\n      <td>1</td>\n      <td>Spencer, Mrs. William Augustus (Marie Eugenie)</td>\n      <td>female</td>\n      <td>NaN</td>\n      <td>1</td>\n      <td>0</td>\n      <td>PC 17569</td>\n      <td>146.5208</td>\n      <td>B78</td>\n      <td>C</td>\n    </tr>\n    <tr>\n      <th>32</th>\n      <td>33</td>\n      <td>1</td>\n      <td>3</td>\n      <td>Glynn, Miss. Mary Agatha</td>\n      <td>female</td>\n      <td>NaN</td>\n      <td>0</td>\n      <td>0</td>\n      <td>335677</td>\n      <td>7.7500</td>\n      <td>NaN</td>\n      <td>Q</td>\n    </tr>\n    <tr>\n      <th>36</th>\n      <td>37</td>\n      <td>1</td>\n      <td>3</td>\n      <td>Mamee, Mr. Hanna</td>\n      <td>male</td>\n      <td>NaN</td>\n      <td>0</td>\n      <td>0</td>\n      <td>2677</td>\n      <td>7.2292</td>\n      <td>NaN</td>\n      <td>C</td>\n    </tr>\n    <tr>\n      <th>39</th>\n      <td>40</td>\n      <td>1</td>\n      <td>3</td>\n      <td>Nicola-Yarred, Miss. Jamila</td>\n      <td>female</td>\n      <td>14.00</td>\n      <td>1</td>\n      <td>0</td>\n      <td>2651</td>\n      <td>11.2417</td>\n      <td>NaN</td>\n      <td>C</td>\n    </tr>\n    <tr>\n      <th>43</th>\n      <td>44</td>\n      <td>1</td>\n      <td>2</td>\n      <td>Laroche, Miss. Simonne Marie Anne Andree</td>\n      <td>female</td>\n      <td>3.00</td>\n      <td>1</td>\n      <td>2</td>\n      <td>SC/Paris 2123</td>\n      <td>41.5792</td>\n      <td>NaN</td>\n      <td>C</td>\n    </tr>\n    <tr>\n      <th>44</th>\n      <td>45</td>\n      <td>1</td>\n      <td>3</td>\n      <td>Devaney, Miss. Margaret Delia</td>\n      <td>female</td>\n      <td>19.00</td>\n      <td>0</td>\n      <td>0</td>\n      <td>330958</td>\n      <td>7.8792</td>\n      <td>NaN</td>\n      <td>Q</td>\n    </tr>\n    <tr>\n      <th>47</th>\n      <td>48</td>\n      <td>1</td>\n      <td>3</td>\n      <td>O'Driscoll, Miss. Bridget</td>\n      <td>female</td>\n      <td>NaN</td>\n      <td>0</td>\n      <td>0</td>\n      <td>14311</td>\n      <td>7.7500</td>\n      <td>NaN</td>\n      <td>Q</td>\n    </tr>\n    <tr>\n      <th>52</th>\n      <td>53</td>\n      <td>1</td>\n      <td>1</td>\n      <td>Harper, Mrs. Henry Sleeper (Myna Haxtun)</td>\n      <td>female</td>\n      <td>49.00</td>\n      <td>1</td>\n      <td>0</td>\n      <td>PC 17572</td>\n      <td>76.7292</td>\n      <td>D33</td>\n      <td>C</td>\n    </tr>\n    <tr>\n      <th>53</th>\n      <td>54</td>\n      <td>1</td>\n      <td>2</td>\n      <td>Faunthorpe, Mrs. Lizzie (Elizabeth Anne Wilkin...</td>\n      <td>female</td>\n      <td>29.00</td>\n      <td>1</td>\n      <td>0</td>\n      <td>2926</td>\n      <td>26.0000</td>\n      <td>NaN</td>\n      <td>S</td>\n    </tr>\n    <tr>\n      <th>55</th>\n      <td>56</td>\n      <td>1</td>\n      <td>1</td>\n      <td>Woolner, Mr. Hugh</td>\n      <td>male</td>\n      <td>NaN</td>\n      <td>0</td>\n      <td>0</td>\n      <td>19947</td>\n      <td>35.5000</td>\n      <td>C52</td>\n      <td>S</td>\n    </tr>\n    <tr>\n      <th>56</th>\n      <td>57</td>\n      <td>1</td>\n      <td>2</td>\n      <td>Rugg, Miss. Emily</td>\n      <td>female</td>\n      <td>21.00</td>\n      <td>0</td>\n      <td>0</td>\n      <td>C.A. 31026</td>\n      <td>10.5000</td>\n      <td>NaN</td>\n      <td>S</td>\n    </tr>\n    <tr>\n      <th>58</th>\n      <td>59</td>\n      <td>1</td>\n      <td>2</td>\n      <td>West, Miss. Constance Mirium</td>\n      <td>female</td>\n      <td>5.00</td>\n      <td>1</td>\n      <td>2</td>\n      <td>C.A. 34651</td>\n      <td>27.7500</td>\n      <td>NaN</td>\n      <td>S</td>\n    </tr>\n    <tr>\n      <th>61</th>\n      <td>62</td>\n      <td>1</td>\n      <td>1</td>\n      <td>Icard, Miss. Amelie</td>\n      <td>female</td>\n      <td>38.00</td>\n      <td>0</td>\n      <td>0</td>\n      <td>113572</td>\n      <td>80.0000</td>\n      <td>B28</td>\n      <td>NaN</td>\n    </tr>\n    <tr>\n      <th>65</th>\n      <td>66</td>\n      <td>1</td>\n      <td>3</td>\n      <td>Moubarek, Master. Gerios</td>\n      <td>male</td>\n      <td>NaN</td>\n      <td>1</td>\n      <td>1</td>\n      <td>2661</td>\n      <td>15.2458</td>\n      <td>NaN</td>\n      <td>C</td>\n    </tr>\n    <tr>\n      <th>66</th>\n      <td>67</td>\n      <td>1</td>\n      <td>2</td>\n      <td>Nye, Mrs. (Elizabeth Ramell)</td>\n      <td>female</td>\n      <td>29.00</td>\n      <td>0</td>\n      <td>0</td>\n      <td>C.A. 29395</td>\n      <td>10.5000</td>\n      <td>F33</td>\n      <td>S</td>\n    </tr>\n    <tr>\n      <th>...</th>\n      <td>...</td>\n      <td>...</td>\n      <td>...</td>\n      <td>...</td>\n      <td>...</td>\n      <td>...</td>\n      <td>...</td>\n      <td>...</td>\n      <td>...</td>\n      <td>...</td>\n      <td>...</td>\n      <td>...</td>\n    </tr>\n    <tr>\n      <th>809</th>\n      <td>810</td>\n      <td>1</td>\n      <td>1</td>\n      <td>Chambers, Mrs. Norman Campbell (Bertha Griggs)</td>\n      <td>female</td>\n      <td>33.00</td>\n      <td>1</td>\n      <td>0</td>\n      <td>113806</td>\n      <td>53.1000</td>\n      <td>E8</td>\n      <td>S</td>\n    </tr>\n    <tr>\n      <th>820</th>\n      <td>821</td>\n      <td>1</td>\n      <td>1</td>\n      <td>Hays, Mrs. Charles Melville (Clara Jennings Gr...</td>\n      <td>female</td>\n      <td>52.00</td>\n      <td>1</td>\n      <td>1</td>\n      <td>12749</td>\n      <td>93.5000</td>\n      <td>B69</td>\n      <td>S</td>\n    </tr>\n    <tr>\n      <th>821</th>\n      <td>822</td>\n      <td>1</td>\n      <td>3</td>\n      <td>Lulic, Mr. Nikola</td>\n      <td>male</td>\n      <td>27.00</td>\n      <td>0</td>\n      <td>0</td>\n      <td>315098</td>\n      <td>8.6625</td>\n      <td>NaN</td>\n      <td>S</td>\n    </tr>\n    <tr>\n      <th>823</th>\n      <td>824</td>\n      <td>1</td>\n      <td>3</td>\n      <td>Moor, Mrs. (Beila)</td>\n      <td>female</td>\n      <td>27.00</td>\n      <td>0</td>\n      <td>1</td>\n      <td>392096</td>\n      <td>12.4750</td>\n      <td>E121</td>\n      <td>S</td>\n    </tr>\n    <tr>\n      <th>827</th>\n      <td>828</td>\n      <td>1</td>\n      <td>2</td>\n      <td>Mallet, Master. Andre</td>\n      <td>male</td>\n      <td>1.00</td>\n      <td>0</td>\n      <td>2</td>\n      <td>S.C./PARIS 2079</td>\n      <td>37.0042</td>\n      <td>NaN</td>\n      <td>C</td>\n    </tr>\n    <tr>\n      <th>828</th>\n      <td>829</td>\n      <td>1</td>\n      <td>3</td>\n      <td>McCormack, Mr. Thomas Joseph</td>\n      <td>male</td>\n      <td>NaN</td>\n      <td>0</td>\n      <td>0</td>\n      <td>367228</td>\n      <td>7.7500</td>\n      <td>NaN</td>\n      <td>Q</td>\n    </tr>\n    <tr>\n      <th>829</th>\n      <td>830</td>\n      <td>1</td>\n      <td>1</td>\n      <td>Stone, Mrs. George Nelson (Martha Evelyn)</td>\n      <td>female</td>\n      <td>62.00</td>\n      <td>0</td>\n      <td>0</td>\n      <td>113572</td>\n      <td>80.0000</td>\n      <td>B28</td>\n      <td>NaN</td>\n    </tr>\n    <tr>\n      <th>830</th>\n      <td>831</td>\n      <td>1</td>\n      <td>3</td>\n      <td>Yasbeck, Mrs. Antoni (Selini Alexander)</td>\n      <td>female</td>\n      <td>15.00</td>\n      <td>1</td>\n      <td>0</td>\n      <td>2659</td>\n      <td>14.4542</td>\n      <td>NaN</td>\n      <td>C</td>\n    </tr>\n    <tr>\n      <th>831</th>\n      <td>832</td>\n      <td>1</td>\n      <td>2</td>\n      <td>Richards, Master. George Sibley</td>\n      <td>male</td>\n      <td>0.83</td>\n      <td>1</td>\n      <td>1</td>\n      <td>29106</td>\n      <td>18.7500</td>\n      <td>NaN</td>\n      <td>S</td>\n    </tr>\n    <tr>\n      <th>835</th>\n      <td>836</td>\n      <td>1</td>\n      <td>1</td>\n      <td>Compton, Miss. Sara Rebecca</td>\n      <td>female</td>\n      <td>39.00</td>\n      <td>1</td>\n      <td>1</td>\n      <td>PC 17756</td>\n      <td>83.1583</td>\n      <td>E49</td>\n      <td>C</td>\n    </tr>\n    <tr>\n      <th>838</th>\n      <td>839</td>\n      <td>1</td>\n      <td>3</td>\n      <td>Chip, Mr. Chang</td>\n      <td>male</td>\n      <td>32.00</td>\n      <td>0</td>\n      <td>0</td>\n      <td>1601</td>\n      <td>56.4958</td>\n      <td>NaN</td>\n      <td>S</td>\n    </tr>\n    <tr>\n      <th>839</th>\n      <td>840</td>\n      <td>1</td>\n      <td>1</td>\n      <td>Marechal, Mr. Pierre</td>\n      <td>male</td>\n      <td>NaN</td>\n      <td>0</td>\n      <td>0</td>\n      <td>11774</td>\n      <td>29.7000</td>\n      <td>C47</td>\n      <td>C</td>\n    </tr>\n    <tr>\n      <th>842</th>\n      <td>843</td>\n      <td>1</td>\n      <td>1</td>\n      <td>Serepeca, Miss. Augusta</td>\n      <td>female</td>\n      <td>30.00</td>\n      <td>0</td>\n      <td>0</td>\n      <td>113798</td>\n      <td>31.0000</td>\n      <td>NaN</td>\n      <td>C</td>\n    </tr>\n    <tr>\n      <th>849</th>\n      <td>850</td>\n      <td>1</td>\n      <td>1</td>\n      <td>Goldenberg, Mrs. Samuel L (Edwiga Grabowska)</td>\n      <td>female</td>\n      <td>NaN</td>\n      <td>1</td>\n      <td>0</td>\n      <td>17453</td>\n      <td>89.1042</td>\n      <td>C92</td>\n      <td>C</td>\n    </tr>\n    <tr>\n      <th>853</th>\n      <td>854</td>\n      <td>1</td>\n      <td>1</td>\n      <td>Lines, Miss. Mary Conover</td>\n      <td>female</td>\n      <td>16.00</td>\n      <td>0</td>\n      <td>1</td>\n      <td>PC 17592</td>\n      <td>39.4000</td>\n      <td>D28</td>\n      <td>S</td>\n    </tr>\n    <tr>\n      <th>855</th>\n      <td>856</td>\n      <td>1</td>\n      <td>3</td>\n      <td>Aks, Mrs. Sam (Leah Rosen)</td>\n      <td>female</td>\n      <td>18.00</td>\n      <td>0</td>\n      <td>1</td>\n      <td>392091</td>\n      <td>9.3500</td>\n      <td>NaN</td>\n      <td>S</td>\n    </tr>\n    <tr>\n      <th>856</th>\n      <td>857</td>\n      <td>1</td>\n      <td>1</td>\n      <td>Wick, Mrs. George Dennick (Mary Hitchcock)</td>\n      <td>female</td>\n      <td>45.00</td>\n      <td>1</td>\n      <td>1</td>\n      <td>36928</td>\n      <td>164.8667</td>\n      <td>NaN</td>\n      <td>S</td>\n    </tr>\n    <tr>\n      <th>857</th>\n      <td>858</td>\n      <td>1</td>\n      <td>1</td>\n      <td>Daly, Mr. Peter Denis</td>\n      <td>male</td>\n      <td>51.00</td>\n      <td>0</td>\n      <td>0</td>\n      <td>113055</td>\n      <td>26.5500</td>\n      <td>E17</td>\n      <td>S</td>\n    </tr>\n    <tr>\n      <th>858</th>\n      <td>859</td>\n      <td>1</td>\n      <td>3</td>\n      <td>Baclini, Mrs. Solomon (Latifa Qurban)</td>\n      <td>female</td>\n      <td>24.00</td>\n      <td>0</td>\n      <td>3</td>\n      <td>2666</td>\n      <td>19.2583</td>\n      <td>NaN</td>\n      <td>C</td>\n    </tr>\n    <tr>\n      <th>862</th>\n      <td>863</td>\n      <td>1</td>\n      <td>1</td>\n      <td>Swift, Mrs. Frederick Joel (Margaret Welles Ba...</td>\n      <td>female</td>\n      <td>48.00</td>\n      <td>0</td>\n      <td>0</td>\n      <td>17466</td>\n      <td>25.9292</td>\n      <td>D17</td>\n      <td>S</td>\n    </tr>\n    <tr>\n      <th>865</th>\n      <td>866</td>\n      <td>1</td>\n      <td>2</td>\n      <td>Bystrom, Mrs. (Karolina)</td>\n      <td>female</td>\n      <td>42.00</td>\n      <td>0</td>\n      <td>0</td>\n      <td>236852</td>\n      <td>13.0000</td>\n      <td>NaN</td>\n      <td>S</td>\n    </tr>\n    <tr>\n      <th>866</th>\n      <td>867</td>\n      <td>1</td>\n      <td>2</td>\n      <td>Duran y More, Miss. Asuncion</td>\n      <td>female</td>\n      <td>27.00</td>\n      <td>1</td>\n      <td>0</td>\n      <td>SC/PARIS 2149</td>\n      <td>13.8583</td>\n      <td>NaN</td>\n      <td>C</td>\n    </tr>\n    <tr>\n      <th>869</th>\n      <td>870</td>\n      <td>1</td>\n      <td>3</td>\n      <td>Johnson, Master. Harold Theodor</td>\n      <td>male</td>\n      <td>4.00</td>\n      <td>1</td>\n      <td>1</td>\n      <td>347742</td>\n      <td>11.1333</td>\n      <td>NaN</td>\n      <td>S</td>\n    </tr>\n    <tr>\n      <th>871</th>\n      <td>872</td>\n      <td>1</td>\n      <td>1</td>\n      <td>Beckwith, Mrs. Richard Leonard (Sallie Monypeny)</td>\n      <td>female</td>\n      <td>47.00</td>\n      <td>1</td>\n      <td>1</td>\n      <td>11751</td>\n      <td>52.5542</td>\n      <td>D35</td>\n      <td>S</td>\n    </tr>\n    <tr>\n      <th>874</th>\n      <td>875</td>\n      <td>1</td>\n      <td>2</td>\n      <td>Abelson, Mrs. Samuel (Hannah Wizosky)</td>\n      <td>female</td>\n      <td>28.00</td>\n      <td>1</td>\n      <td>0</td>\n      <td>P/PP 3381</td>\n      <td>24.0000</td>\n      <td>NaN</td>\n      <td>C</td>\n    </tr>\n    <tr>\n      <th>875</th>\n      <td>876</td>\n      <td>1</td>\n      <td>3</td>\n      <td>Najib, Miss. Adele Kiamie \"Jane\"</td>\n      <td>female</td>\n      <td>15.00</td>\n      <td>0</td>\n      <td>0</td>\n      <td>2667</td>\n      <td>7.2250</td>\n      <td>NaN</td>\n      <td>C</td>\n    </tr>\n    <tr>\n      <th>879</th>\n      <td>880</td>\n      <td>1</td>\n      <td>1</td>\n      <td>Potter, Mrs. Thomas Jr (Lily Alexenia Wilson)</td>\n      <td>female</td>\n      <td>56.00</td>\n      <td>0</td>\n      <td>1</td>\n      <td>11767</td>\n      <td>83.1583</td>\n      <td>C50</td>\n      <td>C</td>\n    </tr>\n    <tr>\n      <th>880</th>\n      <td>881</td>\n      <td>1</td>\n      <td>2</td>\n      <td>Shelley, Mrs. William (Imanita Parrish Hall)</td>\n      <td>female</td>\n      <td>25.00</td>\n      <td>0</td>\n      <td>1</td>\n      <td>230433</td>\n      <td>26.0000</td>\n      <td>NaN</td>\n      <td>S</td>\n    </tr>\n    <tr>\n      <th>887</th>\n      <td>888</td>\n      <td>1</td>\n      <td>1</td>\n      <td>Graham, Miss. Margaret Edith</td>\n      <td>female</td>\n      <td>19.00</td>\n      <td>0</td>\n      <td>0</td>\n      <td>112053</td>\n      <td>30.0000</td>\n      <td>B42</td>\n      <td>S</td>\n    </tr>\n    <tr>\n      <th>889</th>\n      <td>890</td>\n      <td>1</td>\n      <td>1</td>\n      <td>Behr, Mr. Karl Howell</td>\n      <td>male</td>\n      <td>26.00</td>\n      <td>0</td>\n      <td>0</td>\n      <td>111369</td>\n      <td>30.0000</td>\n      <td>C148</td>\n      <td>C</td>\n    </tr>\n  </tbody>\n</table>\n<p>342 rows × 12 columns</p>\n</div>"
          },
          "metadata": {}
        }
      ]
    },
    {
      "metadata": {
        "_uuid": "c48105216ebc2413fea1c69d34c139b0a67cc81f"
      },
      "cell_type": "markdown",
      "source": ""
    },
    {
      "metadata": {
        "_uuid": "4341ae02176c28b111f4e08b0ba7874067195ed9"
      },
      "cell_type": "markdown",
      "source": "## Some observations in Training set\n* There are 891 rows.\n* Age and Cabin looks like missing some data\n* There are three kinds of data - int,float,Object"
    },
    {
      "metadata": {
        "_uuid": "54b62160d4681b0f576d5b769f4fed20a257726b"
      },
      "cell_type": "markdown",
      "source": "## lets see how the Age and Cabin looks like"
    },
    {
      "metadata": {
        "_uuid": "29a4bf2876b5308f61ec302f5ecf90a27e1f7c7d"
      },
      "cell_type": "markdown",
      "source": "## explore Age"
    },
    {
      "metadata": {
        "trusted": true,
        "_uuid": "4b551bfe1d8074faa75390c7036847aa455971df"
      },
      "cell_type": "code",
      "source": "train['Age'].head()",
      "execution_count": 131,
      "outputs": [
        {
          "output_type": "execute_result",
          "execution_count": 131,
          "data": {
            "text/plain": "0    22.0\n1    38.0\n2    26.0\n3    35.0\n4    35.0\nName: Age, dtype: float64"
          },
          "metadata": {}
        }
      ]
    },
    {
      "metadata": {
        "trusted": true,
        "_uuid": "74584d6b9a3ddc263543c3883081e1e6056455db"
      },
      "cell_type": "code",
      "source": "## lets see the statistics\ntrain['Age'].describe()",
      "execution_count": 132,
      "outputs": [
        {
          "output_type": "execute_result",
          "execution_count": 132,
          "data": {
            "text/plain": "count    714.000000\nmean      29.699118\nstd       14.526497\nmin        0.420000\n25%       20.125000\n50%       28.000000\n75%       38.000000\nmax       80.000000\nName: Age, dtype: float64"
          },
          "metadata": {}
        }
      ]
    },
    {
      "metadata": {
        "trusted": true,
        "_uuid": "572d67db6e38f92c242cacc8b350213e8b9ab3c2"
      },
      "cell_type": "code",
      "source": "## lets see how many missing values\ntrain['Age'].isna().sum()",
      "execution_count": 133,
      "outputs": [
        {
          "output_type": "execute_result",
          "execution_count": 133,
          "data": {
            "text/plain": "177"
          },
          "metadata": {}
        }
      ]
    },
    {
      "metadata": {
        "trusted": true,
        "_uuid": "08949f9e0f9c12b2415c9c667fd1d9293430b293"
      },
      "cell_type": "code",
      "source": "## lets try to replace missing AGE by average values\ntrain['Age'] = train['Age'].fillna(train['Age'].mean())",
      "execution_count": 134,
      "outputs": []
    },
    {
      "metadata": {
        "trusted": true,
        "_uuid": "b9af4efcf97944d17e9a6381d19c61d554126e60"
      },
      "cell_type": "code",
      "source": "## lets see how many missing values now.\ntrain['Age'].isna().sum()",
      "execution_count": 135,
      "outputs": [
        {
          "output_type": "execute_result",
          "execution_count": 135,
          "data": {
            "text/plain": "0"
          },
          "metadata": {}
        }
      ]
    },
    {
      "metadata": {
        "_uuid": "5d19e30965410cefc56886901e3b6fbb4d92b448"
      },
      "cell_type": "markdown",
      "source": "## explore Cabin"
    },
    {
      "metadata": {
        "trusted": true,
        "_uuid": "6695c94141167aef12e3e30286c4d17baf1b3d7a"
      },
      "cell_type": "code",
      "source": "train['Cabin'].head()",
      "execution_count": 136,
      "outputs": [
        {
          "output_type": "execute_result",
          "execution_count": 136,
          "data": {
            "text/plain": "0     NaN\n1     C85\n2     NaN\n3    C123\n4     NaN\nName: Cabin, dtype: object"
          },
          "metadata": {}
        }
      ]
    },
    {
      "metadata": {
        "trusted": true,
        "_uuid": "f00d8972e41420be0cdf10a69cb885898cefd0b5"
      },
      "cell_type": "code",
      "source": "## lets see the statistics\ntrain['Cabin'].describe()",
      "execution_count": 137,
      "outputs": [
        {
          "output_type": "execute_result",
          "execution_count": 137,
          "data": {
            "text/plain": "count     204\nunique    147\ntop        G6\nfreq        4\nName: Cabin, dtype: object"
          },
          "metadata": {}
        }
      ]
    },
    {
      "metadata": {
        "trusted": true,
        "_uuid": "cb491900f014b4bd6e39e8ab0c321e0d06e281ab"
      },
      "cell_type": "code",
      "source": "## lets see how many missing values\ntrain['Cabin'].isna().sum()",
      "execution_count": 138,
      "outputs": [
        {
          "output_type": "execute_result",
          "execution_count": 138,
          "data": {
            "text/plain": "687"
          },
          "metadata": {}
        }
      ]
    },
    {
      "metadata": {
        "trusted": true,
        "_uuid": "64920e53afbdf4572763c282990c96b5efc8b187"
      },
      "cell_type": "code",
      "source": "## lets see what are the unique values. \ntrain['Cabin'].unique()",
      "execution_count": 139,
      "outputs": [
        {
          "output_type": "execute_result",
          "execution_count": 139,
          "data": {
            "text/plain": "array([nan, 'C85', 'C123', 'E46', 'G6', 'C103', 'D56', 'A6',\n       'C23 C25 C27', 'B78', 'D33', 'B30', 'C52', 'B28', 'C83', 'F33',\n       'F G73', 'E31', 'A5', 'D10 D12', 'D26', 'C110', 'B58 B60', 'E101',\n       'F E69', 'D47', 'B86', 'F2', 'C2', 'E33', 'B19', 'A7', 'C49', 'F4',\n       'A32', 'B4', 'B80', 'A31', 'D36', 'D15', 'C93', 'C78', 'D35',\n       'C87', 'B77', 'E67', 'B94', 'C125', 'C99', 'C118', 'D7', 'A19',\n       'B49', 'D', 'C22 C26', 'C106', 'C65', 'E36', 'C54',\n       'B57 B59 B63 B66', 'C7', 'E34', 'C32', 'B18', 'C124', 'C91', 'E40',\n       'T', 'C128', 'D37', 'B35', 'E50', 'C82', 'B96 B98', 'E10', 'E44',\n       'A34', 'C104', 'C111', 'C92', 'E38', 'D21', 'E12', 'E63', 'A14',\n       'B37', 'C30', 'D20', 'B79', 'E25', 'D46', 'B73', 'C95', 'B38',\n       'B39', 'B22', 'C86', 'C70', 'A16', 'C101', 'C68', 'A10', 'E68',\n       'B41', 'A20', 'D19', 'D50', 'D9', 'A23', 'B50', 'A26', 'D48',\n       'E58', 'C126', 'B71', 'B51 B53 B55', 'D49', 'B5', 'B20', 'F G63',\n       'C62 C64', 'E24', 'C90', 'C45', 'E8', 'B101', 'D45', 'C46', 'D30',\n       'E121', 'D11', 'E77', 'F38', 'B3', 'D6', 'B82 B84', 'D17', 'A36',\n       'B102', 'B69', 'E49', 'C47', 'D28', 'E17', 'A24', 'C50', 'B42',\n       'C148'], dtype=object)"
          },
          "metadata": {}
        }
      ]
    },
    {
      "metadata": {
        "trusted": true,
        "_uuid": "9111cf379fd4ed5ac96201752fde5eaa941d8c1b"
      },
      "cell_type": "code",
      "source": "## lets replace NAN with character \"Z\" and see the NAN count\ntrain['Cabin'] = train['Cabin'].fillna('Z')\ntrain['Age'].isna().sum()\n#train['Cabin'].str[0]",
      "execution_count": 140,
      "outputs": [
        {
          "output_type": "execute_result",
          "execution_count": 140,
          "data": {
            "text/plain": "0"
          },
          "metadata": {}
        }
      ]
    },
    {
      "metadata": {
        "trusted": true,
        "_uuid": "fba54ad7700670da907eb759b193e82f7627abfc"
      },
      "cell_type": "code",
      "source": "train['Cabin'] = train['Cabin'].str[0]",
      "execution_count": 141,
      "outputs": []
    },
    {
      "metadata": {
        "trusted": true,
        "_uuid": "433897e103f60c53f19b8aefdc9201c8556b4cad"
      },
      "cell_type": "code",
      "source": "train['Cabin'].describe()",
      "execution_count": 142,
      "outputs": [
        {
          "output_type": "execute_result",
          "execution_count": 142,
          "data": {
            "text/plain": "count     891\nunique      9\ntop         Z\nfreq      687\nName: Cabin, dtype: object"
          },
          "metadata": {}
        }
      ]
    },
    {
      "metadata": {
        "_uuid": "3cf095f0b40c5a3c8f766dd52f631ca88690ead7"
      },
      "cell_type": "markdown",
      "source": "Now see the Statistics. We have 9 different class representing the **Cabin** "
    },
    {
      "metadata": {
        "_uuid": "fc041751d34311e4a38f489cd15fa3d5b56795db"
      },
      "cell_type": "markdown",
      "source": "## Lets explore other variable to see how  they look"
    },
    {
      "metadata": {
        "trusted": true,
        "_uuid": "14d3da8826dc5cde7c25c0fa46c32ed0f2693d57"
      },
      "cell_type": "code",
      "source": "train.columns",
      "execution_count": 143,
      "outputs": [
        {
          "output_type": "execute_result",
          "execution_count": 143,
          "data": {
            "text/plain": "Index(['PassengerId', 'Survived', 'Pclass', 'Name', 'Sex', 'Age', 'SibSp',\n       'Parch', 'Ticket', 'Fare', 'Cabin', 'Embarked'],\n      dtype='object')"
          },
          "metadata": {}
        }
      ]
    },
    {
      "metadata": {
        "trusted": true,
        "_uuid": "11d716f7adb2fc18e4d2daf35bc0042f58bf3e93"
      },
      "cell_type": "code",
      "source": "## lets see passenger ID\ntrain['PassengerId'].unique()",
      "execution_count": 144,
      "outputs": [
        {
          "output_type": "execute_result",
          "execution_count": 144,
          "data": {
            "text/plain": "array([  1,   2,   3,   4,   5,   6,   7,   8,   9,  10,  11,  12,  13,\n        14,  15,  16,  17,  18,  19,  20,  21,  22,  23,  24,  25,  26,\n        27,  28,  29,  30,  31,  32,  33,  34,  35,  36,  37,  38,  39,\n        40,  41,  42,  43,  44,  45,  46,  47,  48,  49,  50,  51,  52,\n        53,  54,  55,  56,  57,  58,  59,  60,  61,  62,  63,  64,  65,\n        66,  67,  68,  69,  70,  71,  72,  73,  74,  75,  76,  77,  78,\n        79,  80,  81,  82,  83,  84,  85,  86,  87,  88,  89,  90,  91,\n        92,  93,  94,  95,  96,  97,  98,  99, 100, 101, 102, 103, 104,\n       105, 106, 107, 108, 109, 110, 111, 112, 113, 114, 115, 116, 117,\n       118, 119, 120, 121, 122, 123, 124, 125, 126, 127, 128, 129, 130,\n       131, 132, 133, 134, 135, 136, 137, 138, 139, 140, 141, 142, 143,\n       144, 145, 146, 147, 148, 149, 150, 151, 152, 153, 154, 155, 156,\n       157, 158, 159, 160, 161, 162, 163, 164, 165, 166, 167, 168, 169,\n       170, 171, 172, 173, 174, 175, 176, 177, 178, 179, 180, 181, 182,\n       183, 184, 185, 186, 187, 188, 189, 190, 191, 192, 193, 194, 195,\n       196, 197, 198, 199, 200, 201, 202, 203, 204, 205, 206, 207, 208,\n       209, 210, 211, 212, 213, 214, 215, 216, 217, 218, 219, 220, 221,\n       222, 223, 224, 225, 226, 227, 228, 229, 230, 231, 232, 233, 234,\n       235, 236, 237, 238, 239, 240, 241, 242, 243, 244, 245, 246, 247,\n       248, 249, 250, 251, 252, 253, 254, 255, 256, 257, 258, 259, 260,\n       261, 262, 263, 264, 265, 266, 267, 268, 269, 270, 271, 272, 273,\n       274, 275, 276, 277, 278, 279, 280, 281, 282, 283, 284, 285, 286,\n       287, 288, 289, 290, 291, 292, 293, 294, 295, 296, 297, 298, 299,\n       300, 301, 302, 303, 304, 305, 306, 307, 308, 309, 310, 311, 312,\n       313, 314, 315, 316, 317, 318, 319, 320, 321, 322, 323, 324, 325,\n       326, 327, 328, 329, 330, 331, 332, 333, 334, 335, 336, 337, 338,\n       339, 340, 341, 342, 343, 344, 345, 346, 347, 348, 349, 350, 351,\n       352, 353, 354, 355, 356, 357, 358, 359, 360, 361, 362, 363, 364,\n       365, 366, 367, 368, 369, 370, 371, 372, 373, 374, 375, 376, 377,\n       378, 379, 380, 381, 382, 383, 384, 385, 386, 387, 388, 389, 390,\n       391, 392, 393, 394, 395, 396, 397, 398, 399, 400, 401, 402, 403,\n       404, 405, 406, 407, 408, 409, 410, 411, 412, 413, 414, 415, 416,\n       417, 418, 419, 420, 421, 422, 423, 424, 425, 426, 427, 428, 429,\n       430, 431, 432, 433, 434, 435, 436, 437, 438, 439, 440, 441, 442,\n       443, 444, 445, 446, 447, 448, 449, 450, 451, 452, 453, 454, 455,\n       456, 457, 458, 459, 460, 461, 462, 463, 464, 465, 466, 467, 468,\n       469, 470, 471, 472, 473, 474, 475, 476, 477, 478, 479, 480, 481,\n       482, 483, 484, 485, 486, 487, 488, 489, 490, 491, 492, 493, 494,\n       495, 496, 497, 498, 499, 500, 501, 502, 503, 504, 505, 506, 507,\n       508, 509, 510, 511, 512, 513, 514, 515, 516, 517, 518, 519, 520,\n       521, 522, 523, 524, 525, 526, 527, 528, 529, 530, 531, 532, 533,\n       534, 535, 536, 537, 538, 539, 540, 541, 542, 543, 544, 545, 546,\n       547, 548, 549, 550, 551, 552, 553, 554, 555, 556, 557, 558, 559,\n       560, 561, 562, 563, 564, 565, 566, 567, 568, 569, 570, 571, 572,\n       573, 574, 575, 576, 577, 578, 579, 580, 581, 582, 583, 584, 585,\n       586, 587, 588, 589, 590, 591, 592, 593, 594, 595, 596, 597, 598,\n       599, 600, 601, 602, 603, 604, 605, 606, 607, 608, 609, 610, 611,\n       612, 613, 614, 615, 616, 617, 618, 619, 620, 621, 622, 623, 624,\n       625, 626, 627, 628, 629, 630, 631, 632, 633, 634, 635, 636, 637,\n       638, 639, 640, 641, 642, 643, 644, 645, 646, 647, 648, 649, 650,\n       651, 652, 653, 654, 655, 656, 657, 658, 659, 660, 661, 662, 663,\n       664, 665, 666, 667, 668, 669, 670, 671, 672, 673, 674, 675, 676,\n       677, 678, 679, 680, 681, 682, 683, 684, 685, 686, 687, 688, 689,\n       690, 691, 692, 693, 694, 695, 696, 697, 698, 699, 700, 701, 702,\n       703, 704, 705, 706, 707, 708, 709, 710, 711, 712, 713, 714, 715,\n       716, 717, 718, 719, 720, 721, 722, 723, 724, 725, 726, 727, 728,\n       729, 730, 731, 732, 733, 734, 735, 736, 737, 738, 739, 740, 741,\n       742, 743, 744, 745, 746, 747, 748, 749, 750, 751, 752, 753, 754,\n       755, 756, 757, 758, 759, 760, 761, 762, 763, 764, 765, 766, 767,\n       768, 769, 770, 771, 772, 773, 774, 775, 776, 777, 778, 779, 780,\n       781, 782, 783, 784, 785, 786, 787, 788, 789, 790, 791, 792, 793,\n       794, 795, 796, 797, 798, 799, 800, 801, 802, 803, 804, 805, 806,\n       807, 808, 809, 810, 811, 812, 813, 814, 815, 816, 817, 818, 819,\n       820, 821, 822, 823, 824, 825, 826, 827, 828, 829, 830, 831, 832,\n       833, 834, 835, 836, 837, 838, 839, 840, 841, 842, 843, 844, 845,\n       846, 847, 848, 849, 850, 851, 852, 853, 854, 855, 856, 857, 858,\n       859, 860, 861, 862, 863, 864, 865, 866, 867, 868, 869, 870, 871,\n       872, 873, 874, 875, 876, 877, 878, 879, 880, 881, 882, 883, 884,\n       885, 886, 887, 888, 889, 890, 891])"
          },
          "metadata": {}
        }
      ]
    },
    {
      "metadata": {
        "_uuid": "7bef8ff43c4957ab15bad85692b838c4361758cf"
      },
      "cell_type": "markdown",
      "source": "all unique values. Just to uniquly identify each passenger. \nNothing to do with this variable during training.\nWe will drop this variable before training\n\ntrain.drop(['PassengerId'],axis=1,inplace=True)"
    },
    {
      "metadata": {
        "trusted": true,
        "_uuid": "c9cf4a984419dddda7fc11bccc7cf6d0c61b3370"
      },
      "cell_type": "code",
      "source": "train.columns",
      "execution_count": 145,
      "outputs": [
        {
          "output_type": "execute_result",
          "execution_count": 145,
          "data": {
            "text/plain": "Index(['PassengerId', 'Survived', 'Pclass', 'Name', 'Sex', 'Age', 'SibSp',\n       'Parch', 'Ticket', 'Fare', 'Cabin', 'Embarked'],\n      dtype='object')"
          },
          "metadata": {}
        }
      ]
    },
    {
      "metadata": {
        "trusted": true,
        "_uuid": "f72ae02f6b2edd9a0a3d07f0e2620bc28e07ecd9"
      },
      "cell_type": "code",
      "source": "train['Survived'].unique()",
      "execution_count": 146,
      "outputs": [
        {
          "output_type": "execute_result",
          "execution_count": 146,
          "data": {
            "text/plain": "array([0, 1])"
          },
          "metadata": {}
        }
      ]
    },
    {
      "metadata": {
        "_uuid": "b495ed0f77319402404fa4016e53eb3c6c5eb0e6"
      },
      "cell_type": "markdown",
      "source": "This column defines the Predictions. Its either 0 or 1."
    },
    {
      "metadata": {
        "trusted": true,
        "_uuid": "62b93200dcf749780fecde98b7c6c7c493e5b62b"
      },
      "cell_type": "code",
      "source": "train['Pclass'].describe()",
      "execution_count": 147,
      "outputs": [
        {
          "output_type": "execute_result",
          "execution_count": 147,
          "data": {
            "text/plain": "count    891.000000\nmean       2.308642\nstd        0.836071\nmin        1.000000\n25%        2.000000\n50%        3.000000\n75%        3.000000\nmax        3.000000\nName: Pclass, dtype: float64"
          },
          "metadata": {}
        }
      ]
    },
    {
      "metadata": {
        "trusted": true,
        "_uuid": "f85cb42e8726a73742e06d7edb71ae3303ec1621"
      },
      "cell_type": "code",
      "source": "train['Pclass'].unique()",
      "execution_count": 148,
      "outputs": [
        {
          "output_type": "execute_result",
          "execution_count": 148,
          "data": {
            "text/plain": "array([3, 1, 2])"
          },
          "metadata": {}
        }
      ]
    },
    {
      "metadata": {
        "_uuid": "5783dbb44e1318d9d2fe025645cb3b4411fd3f54"
      },
      "cell_type": "markdown",
      "source": "So ,there's 3 class representing different class of the people on boarded in  the Titanic. Its certainly a feature."
    },
    {
      "metadata": {
        "trusted": true,
        "_uuid": "651d8732ad39c33c07a8a9543f3a4f760fc08dc4"
      },
      "cell_type": "code",
      "source": "train['Name']",
      "execution_count": 149,
      "outputs": [
        {
          "output_type": "execute_result",
          "execution_count": 149,
          "data": {
            "text/plain": "0                                Braund, Mr. Owen Harris\n1      Cumings, Mrs. John Bradley (Florence Briggs Th...\n2                                 Heikkinen, Miss. Laina\n3           Futrelle, Mrs. Jacques Heath (Lily May Peel)\n4                               Allen, Mr. William Henry\n5                                       Moran, Mr. James\n6                                McCarthy, Mr. Timothy J\n7                         Palsson, Master. Gosta Leonard\n8      Johnson, Mrs. Oscar W (Elisabeth Vilhelmina Berg)\n9                    Nasser, Mrs. Nicholas (Adele Achem)\n10                       Sandstrom, Miss. Marguerite Rut\n11                              Bonnell, Miss. Elizabeth\n12                        Saundercock, Mr. William Henry\n13                           Andersson, Mr. Anders Johan\n14                  Vestrom, Miss. Hulda Amanda Adolfina\n15                      Hewlett, Mrs. (Mary D Kingcome) \n16                                  Rice, Master. Eugene\n17                          Williams, Mr. Charles Eugene\n18     Vander Planke, Mrs. Julius (Emelia Maria Vande...\n19                               Masselmani, Mrs. Fatima\n20                                  Fynney, Mr. Joseph J\n21                                 Beesley, Mr. Lawrence\n22                           McGowan, Miss. Anna \"Annie\"\n23                          Sloper, Mr. William Thompson\n24                         Palsson, Miss. Torborg Danira\n25     Asplund, Mrs. Carl Oscar (Selma Augusta Emilia...\n26                               Emir, Mr. Farred Chehab\n27                        Fortune, Mr. Charles Alexander\n28                         O'Dwyer, Miss. Ellen \"Nellie\"\n29                                   Todoroff, Mr. Lalio\n                             ...                        \n861                          Giles, Mr. Frederick Edward\n862    Swift, Mrs. Frederick Joel (Margaret Welles Ba...\n863                    Sage, Miss. Dorothy Edith \"Dolly\"\n864                               Gill, Mr. John William\n865                             Bystrom, Mrs. (Karolina)\n866                         Duran y More, Miss. Asuncion\n867                 Roebling, Mr. Washington Augustus II\n868                          van Melkebeke, Mr. Philemon\n869                      Johnson, Master. Harold Theodor\n870                                    Balkic, Mr. Cerin\n871     Beckwith, Mrs. Richard Leonard (Sallie Monypeny)\n872                             Carlsson, Mr. Frans Olof\n873                          Vander Cruyssen, Mr. Victor\n874                Abelson, Mrs. Samuel (Hannah Wizosky)\n875                     Najib, Miss. Adele Kiamie \"Jane\"\n876                        Gustafsson, Mr. Alfred Ossian\n877                                 Petroff, Mr. Nedelio\n878                                   Laleff, Mr. Kristo\n879        Potter, Mrs. Thomas Jr (Lily Alexenia Wilson)\n880         Shelley, Mrs. William (Imanita Parrish Hall)\n881                                   Markun, Mr. Johann\n882                         Dahlberg, Miss. Gerda Ulrika\n883                        Banfield, Mr. Frederick James\n884                               Sutehall, Mr. Henry Jr\n885                 Rice, Mrs. William (Margaret Norton)\n886                                Montvila, Rev. Juozas\n887                         Graham, Miss. Margaret Edith\n888             Johnston, Miss. Catherine Helen \"Carrie\"\n889                                Behr, Mr. Karl Howell\n890                                  Dooley, Mr. Patrick\nName: Name, Length: 891, dtype: object"
          },
          "metadata": {}
        }
      ]
    },
    {
      "metadata": {
        "_uuid": "50c661c5e34fb8d8ffe22217c6be66fd35500aa5"
      },
      "cell_type": "markdown",
      "source": "Can Name be a features ? Not Sure if it is a good feature. Lets drop it."
    },
    {
      "metadata": {
        "trusted": true,
        "_uuid": "120040e21a0447a5bae09702b23c68407c17a004"
      },
      "cell_type": "code",
      "source": "train.drop(['Name'],axis=1,inplace=True)",
      "execution_count": 150,
      "outputs": []
    },
    {
      "metadata": {
        "trusted": true,
        "_uuid": "319497690b95247bc48a5855e98b8ec7b0a75607"
      },
      "cell_type": "code",
      "source": "train.columns",
      "execution_count": 151,
      "outputs": [
        {
          "output_type": "execute_result",
          "execution_count": 151,
          "data": {
            "text/plain": "Index(['PassengerId', 'Survived', 'Pclass', 'Sex', 'Age', 'SibSp', 'Parch',\n       'Ticket', 'Fare', 'Cabin', 'Embarked'],\n      dtype='object')"
          },
          "metadata": {}
        }
      ]
    },
    {
      "metadata": {
        "trusted": true,
        "_uuid": "d1fee22745a3dc03d9f88c6cb0ba481140369021"
      },
      "cell_type": "code",
      "source": "train['Sex'].unique() ",
      "execution_count": 152,
      "outputs": [
        {
          "output_type": "execute_result",
          "execution_count": 152,
          "data": {
            "text/plain": "array(['male', 'female'], dtype=object)"
          },
          "metadata": {}
        }
      ]
    },
    {
      "metadata": {
        "trusted": true,
        "_uuid": "cbe6dee406c6fe90c0e9660f16a6cc7a1110492d"
      },
      "cell_type": "code",
      "source": "train[\"Sex\"].value_counts()",
      "execution_count": 153,
      "outputs": [
        {
          "output_type": "execute_result",
          "execution_count": 153,
          "data": {
            "text/plain": "male      577\nfemale    314\nName: Sex, dtype: int64"
          },
          "metadata": {}
        }
      ]
    },
    {
      "metadata": {
        "trusted": true,
        "_uuid": "90587df98a8a8942a3ebec2553aa78bf9707b395"
      },
      "cell_type": "code",
      "source": "train['SibSp'].unique()",
      "execution_count": 154,
      "outputs": [
        {
          "output_type": "execute_result",
          "execution_count": 154,
          "data": {
            "text/plain": "array([1, 0, 3, 4, 2, 5, 8])"
          },
          "metadata": {}
        }
      ]
    },
    {
      "metadata": {
        "trusted": true,
        "_uuid": "22b3d8c293ec020de512d442fa012bf5605cb594"
      },
      "cell_type": "code",
      "source": "train[\"SibSp\"].value_counts()",
      "execution_count": 155,
      "outputs": [
        {
          "output_type": "execute_result",
          "execution_count": 155,
          "data": {
            "text/plain": "0    608\n1    209\n2     28\n4     18\n3     16\n8      7\n5      5\nName: SibSp, dtype: int64"
          },
          "metadata": {}
        }
      ]
    },
    {
      "metadata": {
        "trusted": true,
        "_uuid": "3cc8dcdb4284946506c420d8806d9b1ee7e5093c"
      },
      "cell_type": "code",
      "source": "train['Parch'].unique()",
      "execution_count": 156,
      "outputs": [
        {
          "output_type": "execute_result",
          "execution_count": 156,
          "data": {
            "text/plain": "array([0, 1, 2, 5, 3, 4, 6])"
          },
          "metadata": {}
        }
      ]
    },
    {
      "metadata": {
        "trusted": true,
        "_uuid": "fd1909c63c25414bcf5d5c158543bb9d1bc11be1"
      },
      "cell_type": "code",
      "source": "train[\"Parch\"].value_counts()",
      "execution_count": 157,
      "outputs": [
        {
          "output_type": "execute_result",
          "execution_count": 157,
          "data": {
            "text/plain": "0    678\n1    118\n2     80\n5      5\n3      5\n4      4\n6      1\nName: Parch, dtype: int64"
          },
          "metadata": {}
        }
      ]
    },
    {
      "metadata": {
        "trusted": true,
        "_uuid": "c3da9e494de82a2ea3fe8c82f3857ee656c21daa"
      },
      "cell_type": "code",
      "source": "train[['Ticket','Survived']]",
      "execution_count": 158,
      "outputs": [
        {
          "output_type": "execute_result",
          "execution_count": 158,
          "data": {
            "text/plain": "               Ticket  Survived\n0           A/5 21171         0\n1            PC 17599         1\n2    STON/O2. 3101282         1\n3              113803         1\n4              373450         0\n5              330877         0\n6               17463         0\n7              349909         0\n8              347742         1\n9              237736         1\n10            PP 9549         1\n11             113783         1\n12          A/5. 2151         0\n13             347082         0\n14             350406         0\n15             248706         1\n16             382652         0\n17             244373         1\n18             345763         0\n19               2649         1\n20             239865         0\n21             248698         1\n22             330923         1\n23             113788         1\n24             349909         0\n25             347077         1\n26               2631         0\n27              19950         0\n28             330959         1\n29             349216         0\n..                ...       ...\n861             28134         0\n862             17466         1\n863          CA. 2343         0\n864            233866         0\n865            236852         1\n866     SC/PARIS 2149         1\n867          PC 17590         0\n868            345777         0\n869            347742         1\n870            349248         0\n871             11751         1\n872               695         0\n873            345765         0\n874         P/PP 3381         1\n875              2667         1\n876              7534         0\n877            349212         0\n878            349217         0\n879             11767         1\n880            230433         1\n881            349257         0\n882              7552         0\n883  C.A./SOTON 34068         0\n884   SOTON/OQ 392076         0\n885            382652         0\n886            211536         0\n887            112053         1\n888        W./C. 6607         0\n889            111369         1\n890            370376         0\n\n[891 rows x 2 columns]",
            "text/html": "<div>\n<style scoped>\n    .dataframe tbody tr th:only-of-type {\n        vertical-align: middle;\n    }\n\n    .dataframe tbody tr th {\n        vertical-align: top;\n    }\n\n    .dataframe thead th {\n        text-align: right;\n    }\n</style>\n<table border=\"1\" class=\"dataframe\">\n  <thead>\n    <tr style=\"text-align: right;\">\n      <th></th>\n      <th>Ticket</th>\n      <th>Survived</th>\n    </tr>\n  </thead>\n  <tbody>\n    <tr>\n      <th>0</th>\n      <td>A/5 21171</td>\n      <td>0</td>\n    </tr>\n    <tr>\n      <th>1</th>\n      <td>PC 17599</td>\n      <td>1</td>\n    </tr>\n    <tr>\n      <th>2</th>\n      <td>STON/O2. 3101282</td>\n      <td>1</td>\n    </tr>\n    <tr>\n      <th>3</th>\n      <td>113803</td>\n      <td>1</td>\n    </tr>\n    <tr>\n      <th>4</th>\n      <td>373450</td>\n      <td>0</td>\n    </tr>\n    <tr>\n      <th>5</th>\n      <td>330877</td>\n      <td>0</td>\n    </tr>\n    <tr>\n      <th>6</th>\n      <td>17463</td>\n      <td>0</td>\n    </tr>\n    <tr>\n      <th>7</th>\n      <td>349909</td>\n      <td>0</td>\n    </tr>\n    <tr>\n      <th>8</th>\n      <td>347742</td>\n      <td>1</td>\n    </tr>\n    <tr>\n      <th>9</th>\n      <td>237736</td>\n      <td>1</td>\n    </tr>\n    <tr>\n      <th>10</th>\n      <td>PP 9549</td>\n      <td>1</td>\n    </tr>\n    <tr>\n      <th>11</th>\n      <td>113783</td>\n      <td>1</td>\n    </tr>\n    <tr>\n      <th>12</th>\n      <td>A/5. 2151</td>\n      <td>0</td>\n    </tr>\n    <tr>\n      <th>13</th>\n      <td>347082</td>\n      <td>0</td>\n    </tr>\n    <tr>\n      <th>14</th>\n      <td>350406</td>\n      <td>0</td>\n    </tr>\n    <tr>\n      <th>15</th>\n      <td>248706</td>\n      <td>1</td>\n    </tr>\n    <tr>\n      <th>16</th>\n      <td>382652</td>\n      <td>0</td>\n    </tr>\n    <tr>\n      <th>17</th>\n      <td>244373</td>\n      <td>1</td>\n    </tr>\n    <tr>\n      <th>18</th>\n      <td>345763</td>\n      <td>0</td>\n    </tr>\n    <tr>\n      <th>19</th>\n      <td>2649</td>\n      <td>1</td>\n    </tr>\n    <tr>\n      <th>20</th>\n      <td>239865</td>\n      <td>0</td>\n    </tr>\n    <tr>\n      <th>21</th>\n      <td>248698</td>\n      <td>1</td>\n    </tr>\n    <tr>\n      <th>22</th>\n      <td>330923</td>\n      <td>1</td>\n    </tr>\n    <tr>\n      <th>23</th>\n      <td>113788</td>\n      <td>1</td>\n    </tr>\n    <tr>\n      <th>24</th>\n      <td>349909</td>\n      <td>0</td>\n    </tr>\n    <tr>\n      <th>25</th>\n      <td>347077</td>\n      <td>1</td>\n    </tr>\n    <tr>\n      <th>26</th>\n      <td>2631</td>\n      <td>0</td>\n    </tr>\n    <tr>\n      <th>27</th>\n      <td>19950</td>\n      <td>0</td>\n    </tr>\n    <tr>\n      <th>28</th>\n      <td>330959</td>\n      <td>1</td>\n    </tr>\n    <tr>\n      <th>29</th>\n      <td>349216</td>\n      <td>0</td>\n    </tr>\n    <tr>\n      <th>...</th>\n      <td>...</td>\n      <td>...</td>\n    </tr>\n    <tr>\n      <th>861</th>\n      <td>28134</td>\n      <td>0</td>\n    </tr>\n    <tr>\n      <th>862</th>\n      <td>17466</td>\n      <td>1</td>\n    </tr>\n    <tr>\n      <th>863</th>\n      <td>CA. 2343</td>\n      <td>0</td>\n    </tr>\n    <tr>\n      <th>864</th>\n      <td>233866</td>\n      <td>0</td>\n    </tr>\n    <tr>\n      <th>865</th>\n      <td>236852</td>\n      <td>1</td>\n    </tr>\n    <tr>\n      <th>866</th>\n      <td>SC/PARIS 2149</td>\n      <td>1</td>\n    </tr>\n    <tr>\n      <th>867</th>\n      <td>PC 17590</td>\n      <td>0</td>\n    </tr>\n    <tr>\n      <th>868</th>\n      <td>345777</td>\n      <td>0</td>\n    </tr>\n    <tr>\n      <th>869</th>\n      <td>347742</td>\n      <td>1</td>\n    </tr>\n    <tr>\n      <th>870</th>\n      <td>349248</td>\n      <td>0</td>\n    </tr>\n    <tr>\n      <th>871</th>\n      <td>11751</td>\n      <td>1</td>\n    </tr>\n    <tr>\n      <th>872</th>\n      <td>695</td>\n      <td>0</td>\n    </tr>\n    <tr>\n      <th>873</th>\n      <td>345765</td>\n      <td>0</td>\n    </tr>\n    <tr>\n      <th>874</th>\n      <td>P/PP 3381</td>\n      <td>1</td>\n    </tr>\n    <tr>\n      <th>875</th>\n      <td>2667</td>\n      <td>1</td>\n    </tr>\n    <tr>\n      <th>876</th>\n      <td>7534</td>\n      <td>0</td>\n    </tr>\n    <tr>\n      <th>877</th>\n      <td>349212</td>\n      <td>0</td>\n    </tr>\n    <tr>\n      <th>878</th>\n      <td>349217</td>\n      <td>0</td>\n    </tr>\n    <tr>\n      <th>879</th>\n      <td>11767</td>\n      <td>1</td>\n    </tr>\n    <tr>\n      <th>880</th>\n      <td>230433</td>\n      <td>1</td>\n    </tr>\n    <tr>\n      <th>881</th>\n      <td>349257</td>\n      <td>0</td>\n    </tr>\n    <tr>\n      <th>882</th>\n      <td>7552</td>\n      <td>0</td>\n    </tr>\n    <tr>\n      <th>883</th>\n      <td>C.A./SOTON 34068</td>\n      <td>0</td>\n    </tr>\n    <tr>\n      <th>884</th>\n      <td>SOTON/OQ 392076</td>\n      <td>0</td>\n    </tr>\n    <tr>\n      <th>885</th>\n      <td>382652</td>\n      <td>0</td>\n    </tr>\n    <tr>\n      <th>886</th>\n      <td>211536</td>\n      <td>0</td>\n    </tr>\n    <tr>\n      <th>887</th>\n      <td>112053</td>\n      <td>1</td>\n    </tr>\n    <tr>\n      <th>888</th>\n      <td>W./C. 6607</td>\n      <td>0</td>\n    </tr>\n    <tr>\n      <th>889</th>\n      <td>111369</td>\n      <td>1</td>\n    </tr>\n    <tr>\n      <th>890</th>\n      <td>370376</td>\n      <td>0</td>\n    </tr>\n  </tbody>\n</table>\n<p>891 rows × 2 columns</p>\n</div>"
          },
          "metadata": {}
        }
      ]
    },
    {
      "metadata": {
        "_uuid": "fe69eac3ee7e0754d9ab391dc60d8523710f343d"
      },
      "cell_type": "markdown",
      "source": "## tickets are unique. Can you find any features out of it. Please check"
    },
    {
      "metadata": {
        "trusted": true,
        "_uuid": "91135a43da9a5c7fc37ebf6c3b930e93cb801d5c"
      },
      "cell_type": "code",
      "source": "train.columns",
      "execution_count": 159,
      "outputs": [
        {
          "output_type": "execute_result",
          "execution_count": 159,
          "data": {
            "text/plain": "Index(['PassengerId', 'Survived', 'Pclass', 'Sex', 'Age', 'SibSp', 'Parch',\n       'Ticket', 'Fare', 'Cabin', 'Embarked'],\n      dtype='object')"
          },
          "metadata": {}
        }
      ]
    },
    {
      "metadata": {
        "trusted": true,
        "_uuid": "5e426e729ee7fe3cc531c84b19bd6d8fe13d6553"
      },
      "cell_type": "code",
      "source": "train['Fare']   ## Fare of the tickets. any relation?",
      "execution_count": 160,
      "outputs": [
        {
          "output_type": "execute_result",
          "execution_count": 160,
          "data": {
            "text/plain": "0        7.2500\n1       71.2833\n2        7.9250\n3       53.1000\n4        8.0500\n5        8.4583\n6       51.8625\n7       21.0750\n8       11.1333\n9       30.0708\n10      16.7000\n11      26.5500\n12       8.0500\n13      31.2750\n14       7.8542\n15      16.0000\n16      29.1250\n17      13.0000\n18      18.0000\n19       7.2250\n20      26.0000\n21      13.0000\n22       8.0292\n23      35.5000\n24      21.0750\n25      31.3875\n26       7.2250\n27     263.0000\n28       7.8792\n29       7.8958\n         ...   \n861     11.5000\n862     25.9292\n863     69.5500\n864     13.0000\n865     13.0000\n866     13.8583\n867     50.4958\n868      9.5000\n869     11.1333\n870      7.8958\n871     52.5542\n872      5.0000\n873      9.0000\n874     24.0000\n875      7.2250\n876      9.8458\n877      7.8958\n878      7.8958\n879     83.1583\n880     26.0000\n881      7.8958\n882     10.5167\n883     10.5000\n884      7.0500\n885     29.1250\n886     13.0000\n887     30.0000\n888     23.4500\n889     30.0000\n890      7.7500\nName: Fare, Length: 891, dtype: float64"
          },
          "metadata": {}
        }
      ]
    },
    {
      "metadata": {
        "trusted": true,
        "_uuid": "1c1601203de88b49dae00363c5a3e2db42cd856e"
      },
      "cell_type": "code",
      "source": "train['Embarked'].unique()",
      "execution_count": 161,
      "outputs": [
        {
          "output_type": "execute_result",
          "execution_count": 161,
          "data": {
            "text/plain": "array(['S', 'C', 'Q', nan], dtype=object)"
          },
          "metadata": {}
        }
      ]
    },
    {
      "metadata": {
        "trusted": true,
        "_uuid": "99a47f9fd9edd34e6334c7c6a1fed6990cbf4593"
      },
      "cell_type": "code",
      "source": "## Lets explore the test.csv. ",
      "execution_count": 162,
      "outputs": []
    },
    {
      "metadata": {
        "trusted": true,
        "_uuid": "32f57cfa3e19887e1ff117c1970b8aa3b50c9a90"
      },
      "cell_type": "code",
      "source": "",
      "execution_count": null,
      "outputs": []
    },
    {
      "metadata": {
        "trusted": true,
        "_uuid": "6ed892579778b408c0daf1ddb699a9b042c7480e"
      },
      "cell_type": "code",
      "source": "",
      "execution_count": null,
      "outputs": []
    },
    {
      "metadata": {
        "trusted": true,
        "_uuid": "ccfcf1ece8ad84fa67a28db1f56a0780a7c30206"
      },
      "cell_type": "code",
      "source": "",
      "execution_count": null,
      "outputs": []
    },
    {
      "metadata": {
        "trusted": true,
        "_uuid": "f32077b4b4d13000e1709ea16e13a03fbe9de1ce"
      },
      "cell_type": "code",
      "source": "",
      "execution_count": null,
      "outputs": []
    }
  ],
  "metadata": {
    "kernelspec": {
      "display_name": "Python 3",
      "language": "python",
      "name": "python3"
    },
    "language_info": {
      "name": "python",
      "version": "3.6.6",
      "mimetype": "text/x-python",
      "codemirror_mode": {
        "name": "ipython",
        "version": 3
      },
      "pygments_lexer": "ipython3",
      "nbconvert_exporter": "python",
      "file_extension": ".py"
    }
  },
  "nbformat": 4,
  "nbformat_minor": 1
}