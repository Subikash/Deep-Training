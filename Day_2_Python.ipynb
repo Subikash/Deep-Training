{
  "cells": [
    {
      "metadata": {
        "_cell_guid": "b1076dfc-b9ad-4769-8c92-a6c4dae69d19",
        "_uuid": "8f2839f25d086af736a60e9eeb907d3b93b6e0e5"
      },
      "cell_type": "markdown",
      "source": "Booleans and Conditionals\n\n\nPython has a type `bool` which can take on one of two values: `True` and `False`."
    },
    {
      "metadata": {
        "_cell_guid": "79c7e3d0-c299-4dcb-8224-4455121ee9b0",
        "_uuid": "d629ff2d2480ee46fbb7e2d37f6b5fab8052498a",
        "trusted": true
      },
      "cell_type": "code",
      "source": "x = True\nprint(x)\nprint(type(x))",
      "execution_count": 64,
      "outputs": [
        {
          "output_type": "stream",
          "text": "True\n<class 'bool'>\n",
          "name": "stdout"
        }
      ]
    },
    {
      "metadata": {
        "_cell_guid": "e0505574-b21b-4f8c-a920-e06869dd4b8e",
        "_uuid": "993ce5fae7a6a483eb944d1363c586904cff687b"
      },
      "cell_type": "markdown",
      "source": "Rather than putting `True` or `False` directly in our code, we usually get boolean values from **boolean operators**. These are operators that answer yes/no questions. We'll go through some of these operators below. "
    },
    {
      "metadata": {
        "_cell_guid": "83256f8e-ba10-465f-8de0-bbf38ee5882c",
        "_uuid": "d6db7e7ed7b7a4eb5fad542fbae05c6bbe0184a0"
      },
      "cell_type": "markdown",
      "source": "## Comparison Operations\n\n| Operation     | Description                       || Operation     | Description                          |\n|---------------|-----------------------------------||---------------|--------------------------------------|\n| ``a == b``    | ``a`` equal to ``b``              || ``a != b``    | ``a`` not equal to ``b``             |\n| ``a < b``     | ``a`` less than ``b``             || ``a > b``     | ``a`` greater than ``b``             |\n| ``a <= b``    | ``a`` less than or equal to ``b`` || ``a >= b``    | ``a`` greater than or equal to ``b`` |\n\n"
    },
    {
      "metadata": {
        "_cell_guid": "4952537e-7713-404b-b530-cd5e64e5d2c7",
        "_uuid": "7475c5592ee46d67f66092b648af94a3cb58784c",
        "trusted": true
      },
      "cell_type": "code",
      "source": "def can_run_for_president(age):\n    \"\"\"Can someone of the given age run for president in the US?\"\"\"\n    # The US Constitution says you must \"have attained to the Age of thirty-five Years\"\n    return age >= 35\n\nprint(\"Can a 19-year-old run for president?\", can_run_for_president(19))\nprint(\"Can a 45-year-old run for president?\", can_run_for_president(45))",
      "execution_count": 65,
      "outputs": [
        {
          "output_type": "stream",
          "text": "Can a 19-year-old run for president? False\nCan a 45-year-old run for president? True\n",
          "name": "stdout"
        }
      ]
    },
    {
      "metadata": {
        "_cell_guid": "3eafe791-a70d-468e-bc4a-a34248dcc59d",
        "_uuid": "ad04bea09cd07b9ed69920e85a400cdf659f2911"
      },
      "cell_type": "markdown",
      "source": "Comparisons are a little bit clever..."
    },
    {
      "metadata": {
        "_cell_guid": "13c30fa5-a4ec-4631-a3dd-b438d33e15e3",
        "_uuid": "73a1b6523516b6ba3319cbac8e2879fe4280d747",
        "trusted": true
      },
      "cell_type": "code",
      "source": "3.0 == 3",
      "execution_count": 66,
      "outputs": [
        {
          "output_type": "execute_result",
          "execution_count": 66,
          "data": {
            "text/plain": "True"
          },
          "metadata": {}
        }
      ]
    },
    {
      "metadata": {
        "_cell_guid": "e18c3fce-2b8d-444f-9965-6e18800a94a2",
        "_uuid": "00c87f18548109164cab140ca72426736130c89a"
      },
      "cell_type": "markdown",
      "source": "But not too clever..."
    },
    {
      "metadata": {
        "_cell_guid": "7ef561f1-8aa6-4612-aafb-5a9a57067d05",
        "_uuid": "b1175abff7ce5583622dc9643878a79c7b1b146a",
        "trusted": true
      },
      "cell_type": "code",
      "source": "'3' == 3",
      "execution_count": 67,
      "outputs": [
        {
          "output_type": "execute_result",
          "execution_count": 67,
          "data": {
            "text/plain": "False"
          },
          "metadata": {}
        }
      ]
    },
    {
      "metadata": {
        "_cell_guid": "5d66b353-6afa-4e3e-a540-95488b8a5e42",
        "_uuid": "c6596b830d9fca56be880169e6a578ed44f91918"
      },
      "cell_type": "markdown",
      "source": "Comparison operators can be combined with the arithmetic operators we've already seen to express a virtually limitless range of mathematical tests. For example, we can check if a number is odd by checking that the modulus with 2 returns 1:"
    },
    {
      "metadata": {
        "_cell_guid": "383a7e19-7745-4333-9fa3-ec0e56411f81",
        "_uuid": "4fbab139ca9d2537ec7d7d74d8b69e3843eb0dd8",
        "trusted": true
      },
      "cell_type": "code",
      "source": "def is_odd(n):\n    return (n % 2) == 1\n\nprint(\"Is 100 odd?\", is_odd(100))\nprint(\"Is -1 odd?\", is_odd(-1))",
      "execution_count": 68,
      "outputs": [
        {
          "output_type": "stream",
          "text": "Is 100 odd? False\nIs -1 odd? True\n",
          "name": "stdout"
        }
      ]
    },
    {
      "metadata": {
        "_uuid": "2ca720e8ac941e2f5cf1c1b0f0e70916a873e6fa"
      },
      "cell_type": "markdown",
      "source": "Remember to use `==` instead of `=` when making comparisons. If you write `n == 2` you are asking about the value of n. When you write `n = 2` you are changing the value of n."
    },
    {
      "metadata": {
        "_cell_guid": "6200a596-2228-4870-a82f-058f71842477",
        "_uuid": "a589129a9876c913c549f70469ce7da7408eeaba"
      },
      "cell_type": "markdown",
      "source": "## Combining Boolean Values\nPython provides operators to combine boolean values using the standard concepts of \"and\", \"or\", and \"not\". And in fact, the corresponding Python operators use just those words: ``and``, ``or``, and ``not``.\n\nWith these, we can make our `can_run_for_president` function more accurate."
    },
    {
      "metadata": {
        "_cell_guid": "7031a0bd-254e-45b3-a101-7f1d101a927f",
        "_uuid": "3488bfbc62f172025cbc06845fe1ffb02f6e5157",
        "trusted": true
      },
      "cell_type": "code",
      "source": "def can_run_for_president(age, is_natural_born_citizen):\n    \"\"\"Can someone of the given age and citizenship status run for president in the US?\"\"\"\n    # The US Constitution says you must be a natural born citizen *and* at least 35 years old\n    return is_natural_born_citizen and (age >= 35)\n\nprint(can_run_for_president(19, True))\nprint(can_run_for_president(55, False))\nprint(can_run_for_president(55, True))",
      "execution_count": 69,
      "outputs": [
        {
          "output_type": "stream",
          "text": "False\nFalse\nTrue\n",
          "name": "stdout"
        }
      ]
    },
    {
      "metadata": {
        "_cell_guid": "6e96e8c8-7d58-443e-825e-f378e35a9f9a",
        "_uuid": "00f6877b74378ceb7e33853ea3fd279553b39cf3"
      },
      "cell_type": "markdown",
      "source": "Quick, can you guess the value of this expression?"
    },
    {
      "metadata": {
        "_cell_guid": "ba4e07ce-a852-4de6-a4d8-87c410beecf1",
        "_kg_hide-output": true,
        "_uuid": "d672e8b6d2684e9e0d2e309596ba69fe8a14ca9e",
        "trusted": true
      },
      "cell_type": "code",
      "source": "True or True and False",
      "execution_count": 70,
      "outputs": [
        {
          "output_type": "execute_result",
          "execution_count": 70,
          "data": {
            "text/plain": "True"
          },
          "metadata": {}
        }
      ]
    },
    {
      "metadata": {
        "_cell_guid": "6359d050-39e3-4e5b-97ad-923973e4f0b2",
        "_uuid": "fcf738e4cb1d782a6aeb6577ba0f5c836a400777"
      },
      "cell_type": "markdown",
      "source": "## Conditionals\n\nWhile useful enough in their own right, booleans really start to shine when combined with *conditional statements*, using the keywords ``if``, ``elif``, and ``else``.\n\nConditional statements, often referred to as *if-then* statements, allow the programmer to execute certain pieces of code depending on some Boolean condition.\nA basic example of a Python conditional statement is this:"
    },
    {
      "metadata": {
        "_cell_guid": "1a005c26-9b90-4e24-8d9c-ecc88afa780a",
        "_uuid": "58e86338ac4e6d06944870ac2b899c267ea588b2",
        "trusted": true
      },
      "cell_type": "code",
      "source": "def inspect(x):\n    if x == 0:\n        print(x, \"is zero\")\n    elif x > 0:\n        print(x, \"is positive\")\n    elif x < 0:\n        print(x, \"is negative\")\n    else:\n        print(x, \"is unlike anything I've ever seen...\")\n\ninspect(0)\ninspect(-15)",
      "execution_count": 71,
      "outputs": [
        {
          "output_type": "stream",
          "text": "0 is zero\n-15 is negative\n",
          "name": "stdout"
        }
      ]
    },
    {
      "metadata": {
        "_cell_guid": "00e7e75e-b426-44ac-bebd-0f3e2785f201",
        "_uuid": "1c15a1be62bd3cb2685fcb2d480bdb6a2a410f23"
      },
      "cell_type": "markdown",
      "source": "Python adopts the ``if`` and ``else`` often used in other languages; its more unique keyword is ``elif``, a contraction of \"else if\".\nIn these conditional clauses, ``elif`` and ``else`` blocks are optional; additionally, you can include as many ``elif`` statements as you would like.\n\nNote especially the use of colons (``:``) and whitespace to denote separate blocks of code. This is similar to what happens when we define a function - the function header ends with `:`, and the following line is indented with 4 spaces. All subsequent indented lines belong to the body of the function, until we encounter an unindented line, ending the function definition."
    },
    {
      "metadata": {
        "_cell_guid": "895a2bf8-a357-4d7d-8800-c46bf7573389",
        "_uuid": "16d6582331e7715cb19489337ea22e3674043570",
        "trusted": true
      },
      "cell_type": "code",
      "source": "def f(x):\n    if x > 0:\n        print(\"Only printed when x is positive; x =\", x)\n        print(\"Also only printed when x is positive; x =\", x)\n    print(\"Always printed, regardless of x's value; x =\", x)\n\nf(1)\nf(0)",
      "execution_count": 72,
      "outputs": [
        {
          "output_type": "stream",
          "text": "Only printed when x is positive; x = 1\nAlso only printed when x is positive; x = 1\nAlways printed, regardless of x's value; x = 1\nAlways printed, regardless of x's value; x = 0\n",
          "name": "stdout"
        }
      ]
    },
    {
      "metadata": {
        "_uuid": "60daba401db37fba275d4d7af907defe21523723"
      },
      "cell_type": "markdown",
      "source": "## Boolean conversion\n\nWe've seen `int()`, which turns things into ints, and `float()`, which turns things into floats, so you might not be surprised to hear that Python has a `bool()` function which turns things into bools."
    },
    {
      "metadata": {
        "trusted": true,
        "_uuid": "0e9fcf3217586376b431180cd22793338719bc87"
      },
      "cell_type": "code",
      "source": "print(bool(1)) # all numbers are treated as true, except 0\nprint(bool(0))\nprint(bool(\"asf\")) # all strings are treated as true, except the empty string \"\"\nprint(bool(\"\"))\n# Generally empty sequences (strings, lists, and other types we've yet to see like lists and tuples)\n# are \"falsey\" and the rest are \"truthy\"",
      "execution_count": 73,
      "outputs": [
        {
          "output_type": "stream",
          "text": "True\nFalse\nTrue\nFalse\n",
          "name": "stdout"
        }
      ]
    },
    {
      "metadata": {
        "_uuid": "2702244db0791c21c3fb5a0d142bb04c036184f9"
      },
      "cell_type": "markdown",
      "source": "We can use non-boolean objects in `if` conditions and other places where a boolean would be expected. Python will implicitly treat them as their corresponding boolean value:"
    },
    {
      "metadata": {
        "trusted": true,
        "_uuid": "9769deddf740adf26c488a30029aa61795543e1c"
      },
      "cell_type": "code",
      "source": "if 0:\n    print(0)\nelif \"spam\":\n    print(\"spam\")",
      "execution_count": 74,
      "outputs": [
        {
          "output_type": "stream",
          "text": "spam\n",
          "name": "stdout"
        }
      ]
    },
    {
      "metadata": {
        "_uuid": "05f5c653b4dd9c489c158073cd43134d31ed525a"
      },
      "cell_type": "markdown",
      "source": "## Conditional expressions (aka 'ternary')\n\nSetting a variable to either of two values depending on some condition is a pretty common pattern."
    },
    {
      "metadata": {
        "trusted": true,
        "_uuid": "22769180e646dee7bd84f069b85d5ca717eedb55"
      },
      "cell_type": "code",
      "source": "def quiz_message(grade):\n    if grade < 50:\n        outcome = 'failed'\n    else:\n        outcome = 'passed'\n    print('You', outcome, 'the quiz with a grade of', grade)\n    \nquiz_message(80)",
      "execution_count": 75,
      "outputs": [
        {
          "output_type": "stream",
          "text": "You passed the quiz with a grade of 80\n",
          "name": "stdout"
        }
      ]
    },
    {
      "metadata": {
        "_uuid": "b57b1fd14f6628916173457f1e7748100cb0ede1"
      },
      "cell_type": "markdown",
      "source": "Python has a handy single-line 'conditional expression' syntax to simplify these cases:"
    },
    {
      "metadata": {
        "trusted": true,
        "_uuid": "7d941c1ceea82c9c74c0add8a21d85be05c3d84f"
      },
      "cell_type": "code",
      "source": "def quiz_message(grade):\n    outcome = 'failed' if grade < 50 else 'passed'\n    print('You', outcome, 'the quiz with a grade of', grade)\n    \nquiz_message(45)",
      "execution_count": 76,
      "outputs": [
        {
          "output_type": "stream",
          "text": "You failed the quiz with a grade of 45\n",
          "name": "stdout"
        }
      ]
    },
    {
      "metadata": {
        "_uuid": "37921139ea3f2807f2afe7f308b69bc330dd2e8d"
      },
      "cell_type": "markdown",
      "source": "<small>You may recognize this as being similar to the <i>ternary operator</i> that exists in many other languages. For example, in javascript, we would write the assignment above as `var outcome = grade < 50 ? 'failed' : 'passed'`. (When it comes to readability, I think Python is the winner here.)</small>"
    },
    {
      "metadata": {
        "_uuid": "a709f46ce37046e7fe5892e9f48bc31879ffb760"
      },
      "cell_type": "markdown",
      "source": "Best part - LISTS"
    },
    {
      "metadata": {
        "trusted": true,
        "_uuid": "98afac6fa2bb3c4df54c2c9e4731d7bd40ebdd2f"
      },
      "cell_type": "code",
      "source": "primes = [2, 3, 5, 7]\nprint(primes)\nprint(type(primes))",
      "execution_count": 77,
      "outputs": [
        {
          "output_type": "stream",
          "text": "[2, 3, 5, 7]\n<class 'list'>\n",
          "name": "stdout"
        }
      ]
    },
    {
      "metadata": {
        "trusted": true,
        "_uuid": "e3a5fa1dab2093097d53d53e791d2dfd6a58b19d"
      },
      "cell_type": "code",
      "source": "planets = ['Mercury', 'Venus', 'Earth', 'Mars', 'Jupiter', 'Saturn', 'Uranus', 'Neptune']\nprint(planets)\n",
      "execution_count": 78,
      "outputs": [
        {
          "output_type": "stream",
          "text": "['Mercury', 'Venus', 'Earth', 'Mars', 'Jupiter', 'Saturn', 'Uranus', 'Neptune']\n",
          "name": "stdout"
        }
      ]
    },
    {
      "metadata": {
        "trusted": true,
        "_uuid": "76a6afe2e584632c893c53e84352d77877a4162e"
      },
      "cell_type": "code",
      "source": "## can be mix of values and string\nmy_favourite_things = [32, 'raindrops on roses', 30//11,help]\nprint(my_favourite_things)",
      "execution_count": 79,
      "outputs": [
        {
          "output_type": "stream",
          "text": "[32, 'raindrops on roses', 2, Type help() for interactive help, or help(object) for help about object.]\n",
          "name": "stdout"
        }
      ]
    },
    {
      "metadata": {
        "_uuid": "b1fdbc121a6a39e2c80b648b13e5d23e68191304"
      },
      "cell_type": "markdown",
      "source": "**INDEXING**\n\nPython uses zero-based indexing, so the first element has index 0."
    },
    {
      "metadata": {
        "trusted": true,
        "_uuid": "b29df631475852ba557dc813fed8ff188b1fbba4"
      },
      "cell_type": "code",
      "source": "print(planets)\nprint(planets[0])\nprint(planets[1])\nprint(planets[-1])  ## Elements at the end of the list can be accessed with negative numbers, starting from -1:\n",
      "execution_count": 80,
      "outputs": [
        {
          "output_type": "stream",
          "text": "['Mercury', 'Venus', 'Earth', 'Mars', 'Jupiter', 'Saturn', 'Uranus', 'Neptune']\nMercury\nVenus\nNeptune\n",
          "name": "stdout"
        }
      ]
    },
    {
      "metadata": {
        "_uuid": "93af1a4b4dd6db8d6f35b54b6c2fd6e3809ac10d"
      },
      "cell_type": "markdown",
      "source": "**Slicing**\n\nWhat are the first three planets? We can answer this question using slicing:\n"
    },
    {
      "metadata": {
        "trusted": true,
        "_uuid": "07b28c7933043a72884c582f9b372c05c943cc51"
      },
      "cell_type": "code",
      "source": "planets[0:3]",
      "execution_count": 81,
      "outputs": [
        {
          "output_type": "execute_result",
          "execution_count": 81,
          "data": {
            "text/plain": "['Mercury', 'Venus', 'Earth']"
          },
          "metadata": {}
        }
      ]
    },
    {
      "metadata": {
        "trusted": true,
        "_uuid": "76a9daf6b32cf533bd16be506e4a0ea3d38c1fb2"
      },
      "cell_type": "code",
      "source": "# what if we dont give the starting part\nprint(planets[:3])\n# what if we dont give the ending part\nprint(planets[3:])",
      "execution_count": 82,
      "outputs": [
        {
          "output_type": "stream",
          "text": "['Mercury', 'Venus', 'Earth']\n['Mars', 'Jupiter', 'Saturn', 'Uranus', 'Neptune']\n",
          "name": "stdout"
        }
      ]
    },
    {
      "metadata": {
        "trusted": true,
        "_uuid": "c2ad558c8de21cb37eb0b15d290963dc05d6bfe9"
      },
      "cell_type": "code",
      "source": "# All the planets except the first and last\nprint(planets[1:-1])\n# The last 3 planets\nprint(planets[-3:])",
      "execution_count": 83,
      "outputs": [
        {
          "output_type": "stream",
          "text": "['Venus', 'Earth', 'Mars', 'Jupiter', 'Saturn', 'Uranus']\n['Saturn', 'Uranus', 'Neptune']\n",
          "name": "stdout"
        }
      ]
    },
    {
      "metadata": {
        "_uuid": "5a1a30fb6250ae9a335e0cb197a56c464de15656"
      },
      "cell_type": "markdown",
      "source": "**Mutating lists\n**\nLists are mutable, meaning they can be modified \"in place\".\n\nOne way to modify a list is to assign to an index or slice expression.\n**\nFor example, let's say we want to rename Mars:\n\n"
    },
    {
      "metadata": {
        "trusted": true,
        "_uuid": "88e31a060f395ecd4804b08bcc9f77453dd0ccb0"
      },
      "cell_type": "code",
      "source": "planets[3] = 'Malacandra'\nplanets\n",
      "execution_count": 84,
      "outputs": [
        {
          "output_type": "execute_result",
          "execution_count": 84,
          "data": {
            "text/plain": "['Mercury',\n 'Venus',\n 'Earth',\n 'Malacandra',\n 'Jupiter',\n 'Saturn',\n 'Uranus',\n 'Neptune']"
          },
          "metadata": {}
        }
      ]
    },
    {
      "metadata": {
        "trusted": true,
        "_uuid": "a52af0952f9958d7aad5f3d39c11d13b1d08dcb4"
      },
      "cell_type": "code",
      "source": "planets[:3] = ['Mur', 'Vee', 'Ur']\nprint(planets)\n# (Okay, that was rather silly. Let's give them back their old names)\nplanets[:4] = ['Mercury', 'Venus', 'Earth', 'Mars',]\n",
      "execution_count": 85,
      "outputs": [
        {
          "output_type": "stream",
          "text": "['Mur', 'Vee', 'Ur', 'Malacandra', 'Jupiter', 'Saturn', 'Uranus', 'Neptune']\n",
          "name": "stdout"
        }
      ]
    },
    {
      "metadata": {
        "_uuid": "cb5d3d20b43711226383f5d6a90faedf5c7a6390"
      },
      "cell_type": "markdown",
      "source": "**List functions**\n\nPython has several useful builtin functions for working with lists.\n\n*len* gives the length of a list:\n\n"
    },
    {
      "metadata": {
        "trusted": true,
        "_uuid": "65e946917e38d59b0535bef1b3df60dc41d4d8b6"
      },
      "cell_type": "code",
      "source": "len(planets)",
      "execution_count": 86,
      "outputs": [
        {
          "output_type": "execute_result",
          "execution_count": 86,
          "data": {
            "text/plain": "8"
          },
          "metadata": {}
        }
      ]
    },
    {
      "metadata": {
        "trusted": true,
        "_uuid": "e3ed2fb59cc24cf1013b405d8fc3f49393df3441"
      },
      "cell_type": "code",
      "source": "# The planets sorted in alphabetical order\nsorted(planets)\n",
      "execution_count": 87,
      "outputs": [
        {
          "output_type": "execute_result",
          "execution_count": 87,
          "data": {
            "text/plain": "['Earth', 'Jupiter', 'Mars', 'Mercury', 'Neptune', 'Saturn', 'Uranus', 'Venus']"
          },
          "metadata": {}
        }
      ]
    },
    {
      "metadata": {
        "trusted": true,
        "_uuid": "8048115c449fb8b7adc63c2740ab7c636894e779"
      },
      "cell_type": "code",
      "source": "primes = [2, 3, 5, 7]\nprint(sum(primes))\nprint(max(primes))",
      "execution_count": 88,
      "outputs": [
        {
          "output_type": "stream",
          "text": "17\n7\n",
          "name": "stdout"
        }
      ]
    },
    {
      "metadata": {
        "trusted": true,
        "_uuid": "da3b144437c6254b13603d0b0248e3add4113f33"
      },
      "cell_type": "code",
      "source": "planets.append('Pluto')\nplanets",
      "execution_count": 89,
      "outputs": [
        {
          "output_type": "execute_result",
          "execution_count": 89,
          "data": {
            "text/plain": "['Mercury',\n 'Venus',\n 'Earth',\n 'Mars',\n 'Jupiter',\n 'Saturn',\n 'Uranus',\n 'Neptune',\n 'Pluto']"
          },
          "metadata": {}
        }
      ]
    },
    {
      "metadata": {
        "trusted": true,
        "_uuid": "84b6c93cdd1df77d3232aef458a9fc74f81d7d00"
      },
      "cell_type": "code",
      "source": "planets.pop()",
      "execution_count": 90,
      "outputs": [
        {
          "output_type": "execute_result",
          "execution_count": 90,
          "data": {
            "text/plain": "'Pluto'"
          },
          "metadata": {}
        }
      ]
    },
    {
      "metadata": {
        "trusted": true,
        "_uuid": "3ca94ee4cd5e26ca639e10863ac21709642d10b2"
      },
      "cell_type": "code",
      "source": "# Is Earth a planet?\n\"Earth\" in planets\n",
      "execution_count": 91,
      "outputs": [
        {
          "output_type": "execute_result",
          "execution_count": 91,
          "data": {
            "text/plain": "True"
          },
          "metadata": {}
        }
      ]
    },
    {
      "metadata": {
        "trusted": true,
        "_uuid": "af4402f7f125031d58a04fe43d96d85694c2e2ff"
      },
      "cell_type": "code",
      "source": "# Is Calbefraques a planet?\n\"Calbefraques\" in planets\n",
      "execution_count": 92,
      "outputs": [
        {
          "output_type": "execute_result",
          "execution_count": 92,
          "data": {
            "text/plain": "False"
          },
          "metadata": {}
        }
      ]
    },
    {
      "metadata": {
        "trusted": true,
        "_uuid": "88800c457b0c5479170e646c3f91be4dc5172d3c"
      },
      "cell_type": "code",
      "source": "## want to use loop for printning. Ok. Go ahead\nfor val in planets:\n    print(val)",
      "execution_count": 93,
      "outputs": [
        {
          "output_type": "stream",
          "text": "Mercury\nVenus\nEarth\nMars\nJupiter\nSaturn\nUranus\nNeptune\n",
          "name": "stdout"
        }
      ]
    },
    {
      "metadata": {
        "trusted": true,
        "_uuid": "ea8d0df7a1a70a7ff720b6eeb3c64d97611dcece"
      },
      "cell_type": "code",
      "source": "## in ipython notebook, after the list_name (e.g planet here), give dot(.) - we can see all the available functions",
      "execution_count": 94,
      "outputs": []
    },
    {
      "metadata": {
        "_uuid": "46e26fda6856d895cff70a854e206cd1fc4520bf"
      },
      "cell_type": "markdown",
      "source": "**TUPLES**\n\nTuples are almost exactly the same as lists. They differ in just two ways.\n\n1: The syntax for creating them uses (optional) parentheses rather than square brackets\n\n2: They cannot be modified (they are immutable).\n\n"
    },
    {
      "metadata": {
        "trusted": true,
        "_uuid": "f396d5d927bab17460ce2b35325a19f870e81809"
      },
      "cell_type": "code",
      "source": "t = (1, 2, 3)\nprint(t)\nprint(type(t))",
      "execution_count": 95,
      "outputs": [
        {
          "output_type": "stream",
          "text": "(1, 2, 3)\n<class 'tuple'>\n",
          "name": "stdout"
        }
      ]
    },
    {
      "metadata": {
        "trusted": true,
        "_uuid": "e4ebdbfa8793de48ac297cb93d138f0dd58eafab"
      },
      "cell_type": "code",
      "source": "t[0] = 120    ## they are immutable",
      "execution_count": 96,
      "outputs": [
        {
          "output_type": "error",
          "ename": "TypeError",
          "evalue": "'tuple' object does not support item assignment",
          "traceback": [
            "\u001b[0;31m---------------------------------------------------------------------------\u001b[0m",
            "\u001b[0;31mTypeError\u001b[0m                                 Traceback (most recent call last)",
            "\u001b[0;32m<ipython-input-96-1aa05cccc1c8>\u001b[0m in \u001b[0;36m<module>\u001b[0;34m()\u001b[0m\n\u001b[0;32m----> 1\u001b[0;31m \u001b[0mt\u001b[0m\u001b[0;34m[\u001b[0m\u001b[0;36m0\u001b[0m\u001b[0;34m]\u001b[0m \u001b[0;34m=\u001b[0m \u001b[0;36m120\u001b[0m    \u001b[0;31m## they are immutable\u001b[0m\u001b[0;34m\u001b[0m\u001b[0m\n\u001b[0m",
            "\u001b[0;31mTypeError\u001b[0m: 'tuple' object does not support item assignment"
          ]
        }
      ]
    },
    {
      "metadata": {
        "trusted": true,
        "_uuid": "d0b04cde90e84ef0d2b0a2474c96e4b12b9675db"
      },
      "cell_type": "code",
      "source": "## a stupid way of swaping 2 values:\n\na = 11\nb = 22\na, b = b, a     # python support multiple assignment in a statement\nprint(a, b)\n",
      "execution_count": 97,
      "outputs": [
        {
          "output_type": "stream",
          "text": "22 11\n",
          "name": "stdout"
        }
      ]
    },
    {
      "metadata": {
        "_uuid": "d26aef8dc1db05a5c62b7b4ca7cb231e70d5681d"
      },
      "cell_type": "markdown",
      "source": "## LOOP "
    },
    {
      "metadata": {
        "trusted": true,
        "_uuid": "356043854998c06b5be28041436a8cfb6802c1f7"
      },
      "cell_type": "code",
      "source": "planets = ['Mercury', 'Venus', 'Earth', 'Mars', 'Jupiter', 'Saturn', 'Uranus', 'Neptune']\nfor planet in planets:\n    print(planet, end=' ') # print all on same line",
      "execution_count": 98,
      "outputs": [
        {
          "output_type": "stream",
          "text": "Mercury Venus Earth Mars Jupiter Saturn Uranus Neptune ",
          "name": "stdout"
        }
      ]
    },
    {
      "metadata": {
        "trusted": true,
        "_uuid": "c19ed475b9a9a0f6f0b328abc6b097a162fee804"
      },
      "cell_type": "code",
      "source": "multiplicands = (2, 2, 2, 3, 3, 5)\nproduct = 1\nfor mult in multiplicands:\n    product = product * mult\nproduct\n",
      "execution_count": 99,
      "outputs": [
        {
          "output_type": "execute_result",
          "execution_count": 99,
          "data": {
            "text/plain": "360"
          },
          "metadata": {}
        }
      ]
    },
    {
      "metadata": {
        "trusted": true,
        "_uuid": "4e8c2ba01ac04c5b398df9104447e50c15dc36a3"
      },
      "cell_type": "code",
      "source": "s = 'steganograpHy is the practicE of conceaLing a file, message, image, or video within another fiLe, message, image, Or video.'\nmsg = ''\n# print all the uppercase letters in s, one at a time\nfor char in s:\n    if char.isupper():\n        print(char, end='')        \n",
      "execution_count": 100,
      "outputs": [
        {
          "output_type": "stream",
          "text": "HELLO",
          "name": "stdout"
        }
      ]
    },
    {
      "metadata": {
        "_uuid": "72328302b9844c55dccfeeb30cab8052fcc0c5b4"
      },
      "cell_type": "markdown",
      "source": "**range()**   - \nrange() is a function that returns a sequence of numbers. It turns out to be very useful for writing loops.\n"
    },
    {
      "metadata": {
        "trusted": true,
        "_uuid": "d8ac73d198a71a5733fd0df83ba288ed92f91073"
      },
      "cell_type": "code",
      "source": "for i in range(5):\n    print(\"Doing important work. i =\", i)\n",
      "execution_count": 101,
      "outputs": [
        {
          "output_type": "stream",
          "text": "Doing important work. i = 0\nDoing important work. i = 1\nDoing important work. i = 2\nDoing important work. i = 3\nDoing important work. i = 4\n",
          "name": "stdout"
        }
      ]
    },
    {
      "metadata": {
        "trusted": true,
        "_uuid": "eb66d05d2dc95791ae46c63bbf9ab1c2b568da06"
      },
      "cell_type": "code",
      "source": "list(range(5))\n",
      "execution_count": 102,
      "outputs": [
        {
          "output_type": "execute_result",
          "execution_count": 102,
          "data": {
            "text/plain": "[0, 1, 2, 3, 4]"
          },
          "metadata": {}
        }
      ]
    },
    {
      "metadata": {
        "trusted": true,
        "_uuid": "7427e2225b5ac440280298fcaea48899a5a0afcc"
      },
      "cell_type": "code",
      "source": "nums = [1, 2, 4, 8, 16]\nfor i in range(len(nums)):\n    nums[i] = nums[i] * 2\nnums\n",
      "execution_count": 103,
      "outputs": [
        {
          "output_type": "execute_result",
          "execution_count": 103,
          "data": {
            "text/plain": "[2, 4, 8, 16, 32]"
          },
          "metadata": {}
        }
      ]
    },
    {
      "metadata": {
        "trusted": true,
        "_uuid": "f07023f6c1d7f88f964b09294ea319d2cf44cb04"
      },
      "cell_type": "code",
      "source": "def double_odds(nums):\n    for i, num in enumerate(nums):\n        if num % 2 == 1:\n            nums[i] = num * 2\n\nx = list(range(10))\ndouble_odds(x)\nx\n",
      "execution_count": 104,
      "outputs": [
        {
          "output_type": "execute_result",
          "execution_count": 104,
          "data": {
            "text/plain": "[0, 2, 2, 6, 4, 10, 6, 14, 8, 18]"
          },
          "metadata": {}
        }
      ]
    },
    {
      "metadata": {
        "_uuid": "e8fc03a836a7ed34ff943c4ca8bb9806b94f6b5c"
      },
      "cell_type": "markdown",
      "source": "Given a list, **enumerate** returns an object which iterates over the indices and the values of the list.\n\n(Like the range() function, it returns an iterable object. To see its contents as a list, we can call list() on it.)\n\n* "
    },
    {
      "metadata": {
        "trusted": true,
        "_uuid": "04db72cfc90ea40d7b70c3552c3e7cdb67c1231f"
      },
      "cell_type": "code",
      "source": "list(enumerate(['a', 'b']))",
      "execution_count": 105,
      "outputs": [
        {
          "output_type": "execute_result",
          "execution_count": 105,
          "data": {
            "text/plain": "[(0, 'a'), (1, 'b')]"
          },
          "metadata": {}
        }
      ]
    },
    {
      "metadata": {
        "trusted": true,
        "_uuid": "b095214976ea996b0b0b08d12f2e69632a22e6f6"
      },
      "cell_type": "code",
      "source": "nums = [\n    ('one', 1, 'I'),\n    ('two', 2, 'II'),\n    ('three', 3, 'III'),\n    ('four', 4, 'IV'),\n]\n\nfor word, integer, roman_numeral in nums:\n    print(integer, word, roman_numeral, sep=' = ', end='; ')\n",
      "execution_count": 106,
      "outputs": [
        {
          "output_type": "stream",
          "text": "1 = one = I; 2 = two = II; 3 = three = III; 4 = four = IV; ",
          "name": "stdout"
        }
      ]
    },
    {
      "metadata": {
        "_uuid": "9350f1e4607bb182ec57b474473ad183b06f83bb"
      },
      "cell_type": "markdown",
      "source": "**While loops**"
    },
    {
      "metadata": {
        "trusted": true,
        "_uuid": "f930c26e4e33e06f0181125ce0144cd6ef4f0f35"
      },
      "cell_type": "code",
      "source": "i = 0\nwhile i < 10:\n    print(i, end=' ')\n    i += 1",
      "execution_count": 107,
      "outputs": [
        {
          "output_type": "stream",
          "text": "0 1 2 3 4 5 6 7 8 9 ",
          "name": "stdout"
        }
      ]
    },
    {
      "metadata": {
        "_uuid": "7d21d50f3d6412dafbc512b05d3e67c53d248e48"
      },
      "cell_type": "markdown",
      "source": "**List comprehensions**\n\nList comprehensions are one of Python's most beloved and unique features. The easiest way to understand them is probably to just look at a few examples:\n\n"
    },
    {
      "metadata": {
        "trusted": true,
        "_uuid": "36f0ab3cb87f9bee72dc4eb2bebaef3fcbf9a675"
      },
      "cell_type": "code",
      "source": "squares = [n**2 for n in range(10)]\nsquares\n",
      "execution_count": 108,
      "outputs": [
        {
          "output_type": "execute_result",
          "execution_count": 108,
          "data": {
            "text/plain": "[0, 1, 4, 9, 16, 25, 36, 49, 64, 81]"
          },
          "metadata": {}
        }
      ]
    },
    {
      "metadata": {
        "trusted": true,
        "_uuid": "706bb911dad23f573476eb5ba598bdf6a2084267"
      },
      "cell_type": "code",
      "source": "##Here's how we would do the same thing without a list comprehension:\nsquares = []\nfor n in range(10):\n    squares.append(n**2)\nsquares\n",
      "execution_count": 109,
      "outputs": [
        {
          "output_type": "execute_result",
          "execution_count": 109,
          "data": {
            "text/plain": "[0, 1, 4, 9, 16, 25, 36, 49, 64, 81]"
          },
          "metadata": {}
        }
      ]
    },
    {
      "metadata": {
        "trusted": true,
        "_uuid": "1f21f481f34e27d891a60bd67263ea7477ec2b26"
      },
      "cell_type": "code",
      "source": "short_planets = [planet for planet in planets if len(planet) < 6]\nshort_planets",
      "execution_count": 110,
      "outputs": [
        {
          "output_type": "execute_result",
          "execution_count": 110,
          "data": {
            "text/plain": "['Venus', 'Earth', 'Mars']"
          },
          "metadata": {}
        }
      ]
    },
    {
      "metadata": {
        "trusted": true,
        "_uuid": "c4b5614f9322b68eb6a007ab0f182accde8c0e1c"
      },
      "cell_type": "code",
      "source": "# str.upper() returns an all-caps version of a string\nloud_short_planets = [planet.upper() + '!' for planet in planets if len(planet) < 6]\nloud_short_planets\n",
      "execution_count": 111,
      "outputs": [
        {
          "output_type": "execute_result",
          "execution_count": 111,
          "data": {
            "text/plain": "['VENUS!', 'EARTH!', 'MARS!']"
          },
          "metadata": {}
        }
      ]
    },
    {
      "metadata": {
        "trusted": true,
        "_uuid": "a912e246785372f45101916d8f13020c87c496d1"
      },
      "cell_type": "code",
      "source": "",
      "execution_count": null,
      "outputs": []
    },
    {
      "metadata": {
        "trusted": true,
        "_uuid": "c2bcefd94e1487d3440bdaf2c7d3813db49fed48"
      },
      "cell_type": "code",
      "source": "",
      "execution_count": null,
      "outputs": []
    },
    {
      "metadata": {
        "trusted": true,
        "_uuid": "3ec1ae892f723060a7612b885572976e01afd3a0"
      },
      "cell_type": "code",
      "source": "",
      "execution_count": null,
      "outputs": []
    },
    {
      "metadata": {
        "trusted": true,
        "_uuid": "f858f337524b97cc16c74655bf0b8cb26021dc48"
      },
      "cell_type": "code",
      "source": "",
      "execution_count": null,
      "outputs": []
    }
  ],
  "metadata": {
    "kernelspec": {
      "display_name": "Python 3",
      "language": "python",
      "name": "python3"
    },
    "language_info": {
      "name": "python",
      "version": "3.6.6",
      "mimetype": "text/x-python",
      "codemirror_mode": {
        "name": "ipython",
        "version": 3
      },
      "pygments_lexer": "ipython3",
      "nbconvert_exporter": "python",
      "file_extension": ".py"
    }
  },
  "nbformat": 4,
  "nbformat_minor": 1
}