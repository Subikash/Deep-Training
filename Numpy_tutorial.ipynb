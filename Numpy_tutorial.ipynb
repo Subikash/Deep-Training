{
  "cells": [
    {
      "metadata": {
        "_uuid": "8f2839f25d086af736a60e9eeb907d3b93b6e0e5",
        "_cell_guid": "b1076dfc-b9ad-4769-8c92-a6c4dae69d19",
        "trusted": true
      },
      "cell_type": "code",
      "source": "# This tutorial is based on CS-231 course.\nimport numpy as np",
      "execution_count": null,
      "outputs": []
    },
    {
      "metadata": {
        "_cell_guid": "79c7e3d0-c299-4dcb-8224-4455121ee9b0",
        "_uuid": "d629ff2d2480ee46fbb7e2d37f6b5fab8052498a",
        "trusted": true
      },
      "cell_type": "code",
      "source": "##1D Example\na = np.array([1, 2, 3])\nprint(type(a))\nprint(a.shape)\nprint(a[0], a[1], a[2])\na[0] = 5\nprint(a)\n",
      "execution_count": null,
      "outputs": []
    },
    {
      "metadata": {
        "trusted": true,
        "_uuid": "8ca9d0360c1dfe9a0d52c5e69f0d8086fe03f8f0"
      },
      "cell_type": "code",
      "source": "##2D example\nb = np.array([[1, 2, 3], [4, 5, 6]])\nprint(b.shape)\nprint(b[0, 0], b[0, 1], b[1, 0])\n",
      "execution_count": null,
      "outputs": []
    },
    {
      "metadata": {
        "trusted": true,
        "_uuid": "f1e595be4add42eba8aaeb5418487d1f7ed1aba0"
      },
      "cell_type": "code",
      "source": "## initialization with ZEROS\na = np.zeros((2, 2))\nprint(a)\n",
      "execution_count": null,
      "outputs": []
    },
    {
      "metadata": {
        "trusted": true,
        "_uuid": "81a83a240d268355f5e7dbe428a1821eac94e308"
      },
      "cell_type": "code",
      "source": "## initialization with ONES\nb = np.ones((1, 2))\nprint(b)\n",
      "execution_count": null,
      "outputs": []
    },
    {
      "metadata": {
        "trusted": true,
        "_uuid": "1aab96cdfbc7ae30d7c4984fd92a6c61492fb850"
      },
      "cell_type": "code",
      "source": "#one more example : full\nc = np.full((2, 2), 7)\nprint(c)\n",
      "execution_count": null,
      "outputs": []
    },
    {
      "metadata": {
        "trusted": true,
        "_uuid": "eeb06b640b624956168da4d7c75b1c4d816df6da"
      },
      "cell_type": "code",
      "source": "## Generate random numbers\ne = np.random.random((2, 2))\nprint(e)\n",
      "execution_count": null,
      "outputs": []
    },
    {
      "metadata": {
        "_uuid": "d78384ef48fca1e341f0eef63ca628e9625ae6d7"
      },
      "cell_type": "markdown",
      "source": "**Array indexing**\n"
    },
    {
      "metadata": {
        "trusted": true,
        "_uuid": "30003ec16b3e50b5292e9cf190eac3a8c5ef3573"
      },
      "cell_type": "code",
      "source": "a = np.array([[1, 2, 3, 4], [5, 6, 7, 8], [9, 10, 11, 12]])\nprint(a)\nprint(a[0, 1])\n",
      "execution_count": null,
      "outputs": []
    },
    {
      "metadata": {
        "trusted": true,
        "_uuid": "cdee38cbe152a3228e7cc022f150474c27342838"
      },
      "cell_type": "code",
      "source": "b = a[:2, 1:3]\nprint(b)\n",
      "execution_count": null,
      "outputs": []
    },
    {
      "metadata": {
        "trusted": true,
        "_uuid": "ed38b88b5617f40f37c1fd03d8a34192d0851d33"
      },
      "cell_type": "code",
      "source": "b[0, 0] = 77\nprint(a[0, 1])\n",
      "execution_count": null,
      "outputs": []
    },
    {
      "metadata": {
        "trusted": true,
        "_uuid": "52d01ae9db18aa64f601c6a19a573cafb0408876"
      },
      "cell_type": "code",
      "source": "a = np.array([[1, 2, 3, 4], [5, 6, 7, 8], [9, 10, 11, 12]])\nrow_r1 = a[1, :]\nrow_r2 = a[1:2, :]\nprint(row_r1, row_r1.shape)\nprint(row_r2, row_r2.shape)\n",
      "execution_count": null,
      "outputs": []
    },
    {
      "metadata": {
        "trusted": true,
        "_uuid": "2b7fddc751134ea9649d3d02279e06efa50182b8"
      },
      "cell_type": "code",
      "source": "col_r1 = a[:, 1]\ncol_r2 = a[:, 1:2]\nprint(col_r1, col_r1.shape)\nprint(col_r2, col_r2.shape)\n",
      "execution_count": null,
      "outputs": []
    },
    {
      "metadata": {
        "trusted": true,
        "_uuid": "23509ea802791b9e2d0f68aa16515093e8189b40"
      },
      "cell_type": "code",
      "source": "a = np.array([[1, 2], [3, 4], [5, 6]])\nprint(a[[0, 1, 2], [0, 1, 0]])\nprint(np.array([a[0, 0], a[1, 1], a[2, 0]]))\nprint(a[[0, 0], [1, 1]])\nprint(np.array([a[0, 1], a[0, 1]]))\n",
      "execution_count": null,
      "outputs": []
    },
    {
      "metadata": {
        "trusted": true,
        "_uuid": "41b842a8aacbc8f18a1ce175c72094608bdf6c8f"
      },
      "cell_type": "code",
      "source": "a = np.array([[1, 2, 3], [4, 5, 6], [7, 8, 9], [10, 11, 12]])\nprint(a)\n",
      "execution_count": null,
      "outputs": []
    },
    {
      "metadata": {
        "_uuid": "e1656018ac864a25ed9cb8ca37bfc88d7985a434"
      },
      "cell_type": "markdown",
      "source": "**Datatypes**"
    },
    {
      "metadata": {
        "trusted": true,
        "_uuid": "2f84c5ed73b7fa9b91bc261a5a4c069cd5e23e9a"
      },
      "cell_type": "code",
      "source": "x = np.array([1, 2])\nprint(x.dtype)\n",
      "execution_count": null,
      "outputs": []
    },
    {
      "metadata": {
        "trusted": true,
        "_uuid": "5c1bba41d2f1c46ebbf9c63e95378a20979e28f4"
      },
      "cell_type": "code",
      "source": "x = np.array([1.0, 2.0])\nprint(x.dtype)\n",
      "execution_count": null,
      "outputs": []
    },
    {
      "metadata": {
        "_uuid": "92b7e55d6354220f0638a044697a286b5bf7aa06"
      },
      "cell_type": "markdown",
      "source": "**Array math**"
    },
    {
      "metadata": {
        "trusted": true,
        "_uuid": "412f87b650c4c6eb3881d58903e59c7acd355656"
      },
      "cell_type": "code",
      "source": "x = np.array([[1, 2], [3, 4]], dtype=np.float64)\ny = np.array([[5, 6], [7, 8]], dtype=np.float64)\nprint(x + y)\nprint(np.add(x, y))\n",
      "execution_count": null,
      "outputs": []
    },
    {
      "metadata": {
        "trusted": true,
        "_uuid": "c9c0758a2c721e64b4206be89558b4d15500d3ba"
      },
      "cell_type": "code",
      "source": "print(x - y)\nprint(np.subtract(x, y))\n",
      "execution_count": null,
      "outputs": []
    },
    {
      "metadata": {
        "trusted": true,
        "_uuid": "9b53cb04f422f912847f67834753278bd412ccb8"
      },
      "cell_type": "code",
      "source": "## np.multiply denotes element wise multiplication\nprint(x * y)\nprint(np.multiply(x, y))\n",
      "execution_count": null,
      "outputs": []
    },
    {
      "metadata": {
        "trusted": true,
        "_uuid": "8df0d2defe93d50e2c30934703669a52b3e39da0"
      },
      "cell_type": "code",
      "source": "## np.dot denotes matrix multiplication\nx = np.array([[1, 2], [3, 4]])\ny = np.array([[5, 6], [7, 8]])\n\nresult=np.dot(x,y)\nprint(result)",
      "execution_count": null,
      "outputs": []
    },
    {
      "metadata": {
        "trusted": true,
        "_uuid": "c6d2f4a461926319370c2c909c18958821e71166"
      },
      "cell_type": "code",
      "source": "#matrix transpose\nx = np.array([[1, 2], [3, 4]])\nprint(x)\nprint(x.T)\n",
      "execution_count": null,
      "outputs": []
    },
    {
      "metadata": {
        "trusted": true,
        "_uuid": "5281f482c71398a3465719adc81606507e1f9c67"
      },
      "cell_type": "code",
      "source": "#reshape \na = np.random.random((5, 2))\nprint(a)\na=a.reshape((10,1))\nprint(a)\n\n",
      "execution_count": null,
      "outputs": []
    },
    {
      "metadata": {
        "trusted": true,
        "_uuid": "25685dfc34e0731d26d39359aef65f0c7fb2e490"
      },
      "cell_type": "code",
      "source": "",
      "execution_count": null,
      "outputs": []
    },
    {
      "metadata": {
        "trusted": true,
        "_uuid": "8da9e80a51bd0848c5d9d435ee2c4b093c1fde2d"
      },
      "cell_type": "code",
      "source": "",
      "execution_count": null,
      "outputs": []
    },
    {
      "metadata": {
        "trusted": true,
        "_uuid": "e76c4dde648ffae736f3a43cf3d7d1a6c3b9f3b5"
      },
      "cell_type": "code",
      "source": "",
      "execution_count": null,
      "outputs": []
    }
  ],
  "metadata": {
    "kernelspec": {
      "display_name": "Python 3",
      "language": "python",
      "name": "python3"
    },
    "language_info": {
      "name": "python",
      "version": "3.6.6",
      "mimetype": "text/x-python",
      "codemirror_mode": {
        "name": "ipython",
        "version": 3
      },
      "pygments_lexer": "ipython3",
      "nbconvert_exporter": "python",
      "file_extension": ".py"
    }
  },
  "nbformat": 4,
  "nbformat_minor": 1
}