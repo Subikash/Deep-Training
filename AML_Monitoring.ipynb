{
  "cells": [
    {
      "metadata": {
        "_uuid": "6a0295e5a3d650b4e2fd26a55281b6379e4f23d0",
        "_execution_state": "idle",
        "_cell_guid": "725352dc-2e25-473d-a594-4095647b978c"
      },
      "cell_type": "markdown",
      "source": "## SVM Linear Kernal  "
    },
    {
      "metadata": {
        "_uuid": "c0e28a682c295d509d2507d0aef0abe0a4591c97",
        "_execution_state": "idle",
        "trusted": true,
        "_cell_guid": "e0bde41d-0e1f-4a2a-b346-10bf58c377bc"
      },
      "cell_type": "code",
      "source": "# This Python 3 environment comes with many helpful analytics libraries installed\n# It is defined by the kaggle/python docker image: https://github.com/kaggle/docker-python\n# For example, here's several helpful packages to load in \n\nimport numpy as np\nimport matplotlib.pyplot as plt\nimport pandas as pd\nimport random\n\nrandom.seed(50)\n\n# Importing the dataset\ndataset = pd.read_csv('../input/PS_20174392719_1491204439457_log.csv')\n",
      "execution_count": 1,
      "outputs": []
    },
    {
      "metadata": {
        "trusted": true,
        "_uuid": "d292a67d81145e18326e540809f627e76d8c7581"
      },
      "cell_type": "code",
      "source": "# lets check the shape of the data\ndataset.shape",
      "execution_count": 2,
      "outputs": [
        {
          "output_type": "execute_result",
          "execution_count": 2,
          "data": {
            "text/plain": "(6362620, 11)"
          },
          "metadata": {}
        }
      ]
    },
    {
      "metadata": {
        "trusted": true,
        "_uuid": "91044c55413bf8e9c3a2b2f6a1e28bda51d27c37"
      },
      "cell_type": "code",
      "source": "#lets look into some sample data\ndataset.head()",
      "execution_count": 3,
      "outputs": [
        {
          "output_type": "execute_result",
          "execution_count": 3,
          "data": {
            "text/plain": "   step      type      ...        isFraud isFlaggedFraud\n0     1   PAYMENT      ...              0              0\n1     1   PAYMENT      ...              0              0\n2     1  TRANSFER      ...              1              0\n3     1  CASH_OUT      ...              1              0\n4     1   PAYMENT      ...              0              0\n\n[5 rows x 11 columns]",
            "text/html": "<div>\n<style scoped>\n    .dataframe tbody tr th:only-of-type {\n        vertical-align: middle;\n    }\n\n    .dataframe tbody tr th {\n        vertical-align: top;\n    }\n\n    .dataframe thead th {\n        text-align: right;\n    }\n</style>\n<table border=\"1\" class=\"dataframe\">\n  <thead>\n    <tr style=\"text-align: right;\">\n      <th></th>\n      <th>step</th>\n      <th>type</th>\n      <th>amount</th>\n      <th>nameOrig</th>\n      <th>oldbalanceOrg</th>\n      <th>newbalanceOrig</th>\n      <th>nameDest</th>\n      <th>oldbalanceDest</th>\n      <th>newbalanceDest</th>\n      <th>isFraud</th>\n      <th>isFlaggedFraud</th>\n    </tr>\n  </thead>\n  <tbody>\n    <tr>\n      <th>0</th>\n      <td>1</td>\n      <td>PAYMENT</td>\n      <td>9839.64</td>\n      <td>C1231006815</td>\n      <td>170136.0</td>\n      <td>160296.36</td>\n      <td>M1979787155</td>\n      <td>0.0</td>\n      <td>0.0</td>\n      <td>0</td>\n      <td>0</td>\n    </tr>\n    <tr>\n      <th>1</th>\n      <td>1</td>\n      <td>PAYMENT</td>\n      <td>1864.28</td>\n      <td>C1666544295</td>\n      <td>21249.0</td>\n      <td>19384.72</td>\n      <td>M2044282225</td>\n      <td>0.0</td>\n      <td>0.0</td>\n      <td>0</td>\n      <td>0</td>\n    </tr>\n    <tr>\n      <th>2</th>\n      <td>1</td>\n      <td>TRANSFER</td>\n      <td>181.00</td>\n      <td>C1305486145</td>\n      <td>181.0</td>\n      <td>0.00</td>\n      <td>C553264065</td>\n      <td>0.0</td>\n      <td>0.0</td>\n      <td>1</td>\n      <td>0</td>\n    </tr>\n    <tr>\n      <th>3</th>\n      <td>1</td>\n      <td>CASH_OUT</td>\n      <td>181.00</td>\n      <td>C840083671</td>\n      <td>181.0</td>\n      <td>0.00</td>\n      <td>C38997010</td>\n      <td>21182.0</td>\n      <td>0.0</td>\n      <td>1</td>\n      <td>0</td>\n    </tr>\n    <tr>\n      <th>4</th>\n      <td>1</td>\n      <td>PAYMENT</td>\n      <td>11668.14</td>\n      <td>C2048537720</td>\n      <td>41554.0</td>\n      <td>29885.86</td>\n      <td>M1230701703</td>\n      <td>0.0</td>\n      <td>0.0</td>\n      <td>0</td>\n      <td>0</td>\n    </tr>\n  </tbody>\n</table>\n</div>"
          },
          "metadata": {}
        }
      ]
    },
    {
      "metadata": {
        "trusted": true,
        "_uuid": "568da09946ab1b7d2b592391b2d70ea4439ae3bb"
      },
      "cell_type": "code",
      "source": "#lets see the statistical features\ndataset.describe()",
      "execution_count": 4,
      "outputs": [
        {
          "output_type": "execute_result",
          "execution_count": 4,
          "data": {
            "text/plain": "               step        amount       ...             isFraud  isFlaggedFraud\ncount  6.362620e+06  6.362620e+06       ...        6.362620e+06    6.362620e+06\nmean   2.433972e+02  1.798619e+05       ...        1.290820e-03    2.514687e-06\nstd    1.423320e+02  6.038582e+05       ...        3.590480e-02    1.585775e-03\nmin    1.000000e+00  0.000000e+00       ...        0.000000e+00    0.000000e+00\n25%    1.560000e+02  1.338957e+04       ...        0.000000e+00    0.000000e+00\n50%    2.390000e+02  7.487194e+04       ...        0.000000e+00    0.000000e+00\n75%    3.350000e+02  2.087215e+05       ...        0.000000e+00    0.000000e+00\nmax    7.430000e+02  9.244552e+07       ...        1.000000e+00    1.000000e+00\n\n[8 rows x 8 columns]",
            "text/html": "<div>\n<style scoped>\n    .dataframe tbody tr th:only-of-type {\n        vertical-align: middle;\n    }\n\n    .dataframe tbody tr th {\n        vertical-align: top;\n    }\n\n    .dataframe thead th {\n        text-align: right;\n    }\n</style>\n<table border=\"1\" class=\"dataframe\">\n  <thead>\n    <tr style=\"text-align: right;\">\n      <th></th>\n      <th>step</th>\n      <th>amount</th>\n      <th>oldbalanceOrg</th>\n      <th>newbalanceOrig</th>\n      <th>oldbalanceDest</th>\n      <th>newbalanceDest</th>\n      <th>isFraud</th>\n      <th>isFlaggedFraud</th>\n    </tr>\n  </thead>\n  <tbody>\n    <tr>\n      <th>count</th>\n      <td>6.362620e+06</td>\n      <td>6.362620e+06</td>\n      <td>6.362620e+06</td>\n      <td>6.362620e+06</td>\n      <td>6.362620e+06</td>\n      <td>6.362620e+06</td>\n      <td>6.362620e+06</td>\n      <td>6.362620e+06</td>\n    </tr>\n    <tr>\n      <th>mean</th>\n      <td>2.433972e+02</td>\n      <td>1.798619e+05</td>\n      <td>8.338831e+05</td>\n      <td>8.551137e+05</td>\n      <td>1.100702e+06</td>\n      <td>1.224996e+06</td>\n      <td>1.290820e-03</td>\n      <td>2.514687e-06</td>\n    </tr>\n    <tr>\n      <th>std</th>\n      <td>1.423320e+02</td>\n      <td>6.038582e+05</td>\n      <td>2.888243e+06</td>\n      <td>2.924049e+06</td>\n      <td>3.399180e+06</td>\n      <td>3.674129e+06</td>\n      <td>3.590480e-02</td>\n      <td>1.585775e-03</td>\n    </tr>\n    <tr>\n      <th>min</th>\n      <td>1.000000e+00</td>\n      <td>0.000000e+00</td>\n      <td>0.000000e+00</td>\n      <td>0.000000e+00</td>\n      <td>0.000000e+00</td>\n      <td>0.000000e+00</td>\n      <td>0.000000e+00</td>\n      <td>0.000000e+00</td>\n    </tr>\n    <tr>\n      <th>25%</th>\n      <td>1.560000e+02</td>\n      <td>1.338957e+04</td>\n      <td>0.000000e+00</td>\n      <td>0.000000e+00</td>\n      <td>0.000000e+00</td>\n      <td>0.000000e+00</td>\n      <td>0.000000e+00</td>\n      <td>0.000000e+00</td>\n    </tr>\n    <tr>\n      <th>50%</th>\n      <td>2.390000e+02</td>\n      <td>7.487194e+04</td>\n      <td>1.420800e+04</td>\n      <td>0.000000e+00</td>\n      <td>1.327057e+05</td>\n      <td>2.146614e+05</td>\n      <td>0.000000e+00</td>\n      <td>0.000000e+00</td>\n    </tr>\n    <tr>\n      <th>75%</th>\n      <td>3.350000e+02</td>\n      <td>2.087215e+05</td>\n      <td>1.073152e+05</td>\n      <td>1.442584e+05</td>\n      <td>9.430367e+05</td>\n      <td>1.111909e+06</td>\n      <td>0.000000e+00</td>\n      <td>0.000000e+00</td>\n    </tr>\n    <tr>\n      <th>max</th>\n      <td>7.430000e+02</td>\n      <td>9.244552e+07</td>\n      <td>5.958504e+07</td>\n      <td>4.958504e+07</td>\n      <td>3.560159e+08</td>\n      <td>3.561793e+08</td>\n      <td>1.000000e+00</td>\n      <td>1.000000e+00</td>\n    </tr>\n  </tbody>\n</table>\n</div>"
          },
          "metadata": {}
        }
      ]
    },
    {
      "metadata": {
        "trusted": true,
        "_uuid": "0eb15327d6627230b40f7dbdea84ae37fb30d4b8"
      },
      "cell_type": "code",
      "source": "## dropping of some unnecessary columns\ndataset.drop('nameOrig', axis=1, inplace=True)\ndataset.drop('nameDest', axis=1, inplace=True)\ndataset.drop('isFlaggedFraud', axis=1, inplace=True)",
      "execution_count": 5,
      "outputs": []
    },
    {
      "metadata": {
        "_uuid": "a1954290ef4021db2c0cbc439d2fd713eb2004e2",
        "_execution_state": "idle",
        "trusted": true,
        "_cell_guid": "2203b9f1-2b92-4523-858a-ea0cc5f7989e"
      },
      "cell_type": "code",
      "source": "sample_dataframe = dataset.sample(n=100000)\nX = sample_dataframe.iloc[:, :-1].values\ny = sample_dataframe.iloc[:, 7].values\n\nprint(sample_dataframe.isFraud.value_counts())",
      "execution_count": 6,
      "outputs": [
        {
          "output_type": "stream",
          "text": "0    99873\n1      127\nName: isFraud, dtype: int64\n",
          "name": "stdout"
        }
      ]
    },
    {
      "metadata": {
        "_uuid": "62e871d52d5e0206d54f4ec56f07ef41931f1efd",
        "_execution_state": "idle",
        "trusted": true,
        "_cell_guid": "1a8cd841-3ea6-45c1-865e-9f3aa27230e4"
      },
      "cell_type": "code",
      "source": "# Encoding categorical data\nfrom sklearn.preprocessing import LabelEncoder, OneHotEncoder\nlabelencoder = LabelEncoder()\nX[:, 1] = labelencoder.fit_transform(X[:, 1])\nonehotencoder = OneHotEncoder(categorical_features = [1])\nX = onehotencoder.fit_transform(X).toarray()\n\n# Avoiding the Dummy Variable Trap\nX = X[:, 1:]",
      "execution_count": 7,
      "outputs": [
        {
          "output_type": "stream",
          "text": "/opt/conda/lib/python3.6/site-packages/sklearn/preprocessing/_encoders.py:363: FutureWarning: The handling of integer data will change in version 0.22. Currently, the categories are determined based on the range [0, max(values)], while in the future they will be determined based on the unique values.\nIf you want the future behaviour and silence this warning, you can specify \"categories='auto'\".\nIn case you used a LabelEncoder before this OneHotEncoder to convert the categories to integers, then you can now use the OneHotEncoder directly.\n  warnings.warn(msg, FutureWarning)\n/opt/conda/lib/python3.6/site-packages/sklearn/preprocessing/_encoders.py:385: DeprecationWarning: The 'categorical_features' keyword is deprecated in version 0.20 and will be removed in 0.22. You can use the ColumnTransformer instead.\n  \"use the ColumnTransformer instead.\", DeprecationWarning)\n",
          "name": "stderr"
        }
      ]
    },
    {
      "metadata": {
        "_uuid": "956c89de172642f6faf5447cf77d3bad52330640",
        "_execution_state": "idle",
        "trusted": true,
        "_cell_guid": "26b616c8-581d-4f42-a85d-35b9603916a9"
      },
      "cell_type": "code",
      "source": "# Splitting the dataset into the Training set and Test set\n\nfrom sklearn.model_selection import train_test_split\nX_train, X_test, y_train, y_test = train_test_split(X, y, test_size=0.3, random_state=1)\nX_test, X_val, y_test, y_val = train_test_split(X_test, y_test, test_size=0.5, random_state=1)\n\ncounts = np.unique(y_train, return_counts=True)\n",
      "execution_count": 8,
      "outputs": []
    },
    {
      "metadata": {
        "_uuid": "d06cf50d7c1d84f02862472b9d7332b6cc8a5c4d",
        "_execution_state": "idle",
        "trusted": true,
        "_cell_guid": "8bbcd455-4663-42f9-b9f2-874163a6a46b"
      },
      "cell_type": "code",
      "source": "# Feature Scaling\nfrom sklearn.preprocessing import StandardScaler\nsc = StandardScaler()\nX_train = sc.fit_transform(X_train)\nX_val = sc.transform(X_val)\nX_test = sc.transform(X_test)\nprint(counts)",
      "execution_count": 9,
      "outputs": [
        {
          "output_type": "stream",
          "text": "(array([0, 1]), array([69910,    90]))\n",
          "name": "stdout"
        }
      ]
    },
    {
      "metadata": {
        "_uuid": "d7e6bb24e832fdc05bcf18b072beea1ed34c1e5e",
        "_execution_state": "idle",
        "trusted": true,
        "_cell_guid": "536c7f48-40aa-48ff-b82c-0ac5e5916d72"
      },
      "cell_type": "code",
      "source": "# Fitting Kernel SVM to the Training set\nfrom sklearn.svm import LinearSVC\nfrom imblearn.under_sampling import NearMiss\nfrom imblearn import over_sampling as os\nfrom imblearn.pipeline import make_pipeline\nfrom imblearn.combine import SMOTETomek\nfrom imblearn.over_sampling import ADASYN\nfrom imblearn.under_sampling import ClusterCentroids\nfrom imblearn.over_sampling import RandomOverSampler",
      "execution_count": 10,
      "outputs": []
    },
    {
      "metadata": {
        "_uuid": "e85eecd5e158039e847d630cc84e0f6ce7ee7a44",
        "_execution_state": "idle",
        "trusted": true,
        "_cell_guid": "d9a6b0eb-278b-47df-8d72-99772f948168"
      },
      "cell_type": "code",
      "source": "# Apply the sampling\nada = ADASYN()\nX_resampled, y_resampled = ada.fit_sample(X_train, y_train)\ncount = np.unique(y_resampled, return_counts=True)\n\n# Create a pipeline\n\npipeline4 = make_pipeline(ADASYN(),LinearSVC(random_state=1))\npipeline4.fit(X_train, y_train)\nprint(count)",
      "execution_count": 11,
      "outputs": [
        {
          "output_type": "stream",
          "text": "(array([0, 1]), array([69910, 69898]))\n",
          "name": "stdout"
        },
        {
          "output_type": "stream",
          "text": "/opt/conda/lib/python3.6/site-packages/sklearn/svm/base.py:922: ConvergenceWarning: Liblinear failed to converge, increase the number of iterations.\n  \"the number of iterations.\", ConvergenceWarning)\n",
          "name": "stderr"
        }
      ]
    },
    {
      "metadata": {
        "_uuid": "1f48678f0d1d5d867e28c6cfc2f259c3d39ce130",
        "_execution_state": "idle",
        "trusted": true,
        "_cell_guid": "8df90ec6-82cb-412c-9910-1bf294537011"
      },
      "cell_type": "code",
      "source": "# Classify and report the results\nfrom imblearn.metrics import classification_report_imbalanced\nprint(classification_report_imbalanced(y_test, pipeline4.predict(X_test)))",
      "execution_count": 12,
      "outputs": [
        {
          "output_type": "stream",
          "text": "                   pre       rec       spe        f1       geo       iba       sup\n\n          0       1.00      0.93      0.94      0.97      0.94      0.88     14982\n          1       0.02      0.94      0.93      0.03      0.94      0.88        18\n\navg / total       1.00      0.93      0.94      0.96      0.94      0.88     15000\n\n",
          "name": "stdout"
        }
      ]
    },
    {
      "metadata": {
        "_uuid": "4925c9efaf3b4f559c69e66f12cfca03de466ca0",
        "_execution_state": "idle",
        "trusted": true,
        "_cell_guid": "55f77de2-a42c-4a17-aefb-df003ec28ca1"
      },
      "cell_type": "code",
      "source": "# Making the Confusion Matrix\nfrom sklearn.metrics import confusion_matrix, precision_score,auc,roc_auc_score,roc_curve,recall_score\ncm = confusion_matrix(y_val, pipeline4.predict(X_val))\nroc = roc_auc_score(y_val, pipeline4.predict(X_val))\nfpr, tpr, thresholds = roc_curve(y_val, pipeline4.predict(X_val))\nroc_auc = auc(fpr,tpr)",
      "execution_count": 13,
      "outputs": []
    },
    {
      "metadata": {
        "_uuid": "53b889f92dbbfe3864ff433897e3e5776ef8d3fe",
        "_execution_state": "idle",
        "trusted": true,
        "_cell_guid": "f08e18a0-66ea-4a26-a061-c971991a09ed"
      },
      "cell_type": "code",
      "source": "# Plot ROC\nplt.title('Receiver Operating Characteristic')\nplt.plot(fpr, tpr, 'b',label='AUC = %0.2f'% roc_auc)\nplt.legend(loc='lower right')\nplt.plot([0,1],[0,1],'r--')\nplt.xlim([-0.1,1.0])\nplt.ylim([-0.1,1.01])\nplt.ylabel('True Positive Rate')\nplt.xlabel('False Positive Rate')\nplt.show()",
      "execution_count": 14,
      "outputs": [
        {
          "output_type": "display_data",
          "data": {
            "text/plain": "<Figure size 432x288 with 1 Axes>",
            "image/png": "[encoded data removed]"
          },
          "metadata": {}
        }
      ]
    },
    {
      "metadata": {
        "_uuid": "4eaf536d6c13db62b02f4a262c584dd66007f535",
        "_execution_state": "idle",
        "_cell_guid": "1efea1d3-7380-42f6-bc17-6c570165e6dd"
      },
      "cell_type": "markdown",
      "source": "Linear Kernel SVM = AUC 0.96"
    },
    {
      "metadata": {
        "_uuid": "d2218b16092be75f628c85ee479d85c9c693a1a4",
        "_execution_state": "idle",
        "trusted": false,
        "_cell_guid": "a99764c1-d1fd-4cdd-b6e6-4243aaa2c107"
      },
      "cell_type": "markdown",
      "source": " Recommendation\n Future enhancement :\n# Boosting algorithm like (LGB/XGB/CATBOOST) is certainly a must try\n# NN based classification model. \n    \n"
    },
    {
      "metadata": {
        "trusted": true,
        "_uuid": "a6069f864fbf148cc5cab324be9bc39c4634c34f"
      },
      "cell_type": "code",
      "source": "",
      "execution_count": null,
      "outputs": []
    },
    {
      "metadata": {
        "trusted": true,
        "_uuid": "1234deaca83de38dc640e1d71f30c8391d97704a"
      },
      "cell_type": "code",
      "source": "",
      "execution_count": null,
      "outputs": []
    },
    {
      "metadata": {
        "trusted": true,
        "_uuid": "ea2740bf21f9ddda80476c0855aa3b4f9c9fbe15"
      },
      "cell_type": "code",
      "source": "",
      "execution_count": null,
      "outputs": []
    }
  ],
  "metadata": {
    "language_info": {
      "name": "python",
      "version": "3.6.6",
      "mimetype": "text/x-python",
      "codemirror_mode": {
        "name": "ipython",
        "version": 3
      },
      "pygments_lexer": "ipython3",
      "nbconvert_exporter": "python",
      "file_extension": ".py"
    },
    "kernelspec": {
      "display_name": "Python 3",
      "language": "python",
      "name": "python3"
    }
  },
  "nbformat": 4,
  "nbformat_minor": 1
}