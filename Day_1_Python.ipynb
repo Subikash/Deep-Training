{
  "cells": [
    {
      "metadata": {
        "_uuid": "06dbc1e66ffe3d2e7e776b5dff5026d0bd8b96c2",
        "_cell_guid": "21aa0e56-0f60-49e2-9cf8-6a035b492d9a"
      },
      "cell_type": "markdown",
      "source": "Welcome to day 1 of the Python Lesson! \n\n## This tutoial is a forked version of collin's Python challenege in Kaggle platform. Few changes are made to introduce few more concepts precisously. Thanks Collin for the wonderful experience.\n\n\n1. Lets Start."
    },
    {
      "metadata": {
        "_uuid": "ba2e1c598027d356ce00e85b044bc16b10035897",
        "_cell_guid": "9ce15076-b27f-4137-81b9-4ab16a36d185"
      },
      "cell_type": "markdown",
      "source": "# Hello, Python!\n\nlets see how can we print different simple ways."
    },
    {
      "metadata": {
        "trusted": true,
        "_uuid": "d9c232999f8a4a5bdcf1e3182fc105273a46eebf"
      },
      "cell_type": "code",
      "source": "print(\"Hello Python\")                ## if you are using version python 2.* , then the syntax for print is different. no brackets.\nprint(\"Hello\" +\" \" +\"Python\")\nvar=\"Hello Python\"\nprint(var)",
      "execution_count": 55,
      "outputs": [
        {
          "output_type": "stream",
          "text": "Hello Python\nHello Python\nHello Python\n",
          "name": "stdout"
        }
      ]
    },
    {
      "metadata": {
        "_uuid": "be8bd544a52eef68f7c11e376f96c28e1d537abd",
        "_cell_guid": "52070170-5c53-4220-9aef-26244ec71da2",
        "trusted": true,
        "_kg_hide-output": true,
        "collapsed": true
      },
      "cell_type": "markdown",
      "source": "Lets try to do a sample small code and walk through different components to get the feeling of the languages.\n"
    },
    {
      "metadata": {
        "trusted": true,
        "_uuid": "7d6c10011cbc1f88d69b4de88c071681533eb70a"
      },
      "cell_type": "code",
      "source": "spam_amount = 0       ## this is how we use a variable. straight at point. we dont need to declare the var as of other language ( like c , c++ , java)\nprint(spam_amount)    ## from python3.0 onwards , print is a special function. \n\nspam_amount = spam_amount + 4\nprint(spam_amount)\n\nif spam_amount > 0:\n    print(\"But I don't want ANY spam!\")\n\nviking_song = \"Spam \" * spam_amount  # thats the gotcha.The `*` operator can be used to multiply two numbers (`3 * 3` evaluates to 9), but amusingly enough, we can also multiply a string by a number, to get a version that's been repeated that many times.\nprint(viking_song)",
      "execution_count": 60,
      "outputs": [
        {
          "output_type": "stream",
          "text": "0\n4\nBut I don't want ANY spam!\nSpam Spam Spam Spam \n",
          "name": "stdout"
        }
      ]
    },
    {
      "metadata": {
        "_uuid": "fa8819c99468bcac800bcf9aba676c9144326bbe",
        "_cell_guid": "98e43137-7d5a-4cb8-b50a-4d82fed09611"
      },
      "cell_type": "markdown",
      "source": "## Numbers and arithmetic in Python\n\nWe've already seen an example of a variable containing a number above:"
    },
    {
      "metadata": {
        "_uuid": "3a9652bcd4b7e1e8954660dbd8460eee4bec1418",
        "_cell_guid": "11303400-9cfc-457c-8f3d-14396249950d",
        "trusted": true
      },
      "cell_type": "code",
      "source": "spam_amount = 0",
      "execution_count": 61,
      "outputs": []
    },
    {
      "metadata": {
        "_uuid": "f9fb15a463d119d1be9794048a40edaa18d4cfd7",
        "_cell_guid": "5f0f785f-a33c-46cf-aabc-6ec90405e61c"
      },
      "cell_type": "markdown",
      "source": "\"Number\" is a fine informal name for the kind of thing, but if we wanted to be more technical, we could ask Python how it would describe the type of thing that `spam_amount` is:"
    },
    {
      "metadata": {
        "_uuid": "66c474ae6a8c06d8869332fc93f021b3442ecd0a",
        "_cell_guid": "8671c786-7fa1-4ba4-9b48-8846696f6b49",
        "trusted": true
      },
      "cell_type": "code",
      "source": "type(spam_amount)",
      "execution_count": 62,
      "outputs": [
        {
          "output_type": "execute_result",
          "execution_count": 62,
          "data": {
            "text/plain": "int"
          },
          "metadata": {}
        }
      ]
    },
    {
      "metadata": {
        "_uuid": "5fdf5571970def6289c27cffa4916b474aa58b75",
        "_cell_guid": "5209fd83-ee61-496f-84e6-f498d85b50d7"
      },
      "cell_type": "markdown",
      "source": "It's an `int` - short for integer. There's another sort of number we commonly encounter in Python:"
    },
    {
      "metadata": {
        "_uuid": "7d394557ce482d05a9b84d4f74d7d71809668c05",
        "_cell_guid": "6456334e-3038-4610-b4aa-538655bc76b8",
        "trusted": true
      },
      "cell_type": "code",
      "source": "type(19.95)",
      "execution_count": 63,
      "outputs": [
        {
          "output_type": "execute_result",
          "execution_count": 63,
          "data": {
            "text/plain": "float"
          },
          "metadata": {}
        }
      ]
    },
    {
      "metadata": {
        "_uuid": "92d8bcb751e439ca773c1f617f1af1c4e1d079d2",
        "_cell_guid": "a8f9b1e0-5862-4905-a9be-c3d804ff88c0"
      },
      "cell_type": "markdown",
      "source": "A `float` is a number with a decimal place - very useful for representing things like weights or proportions.\n\n`type()` is the second built-in function we've seen (after `print()`), and it's another good one to remember. It's very useful to be able to ask Python \"what kind of thing is this?\". "
    },
    {
      "metadata": {
        "_uuid": "f4a243f21af9a73468daec3694af7af9223bd8ae",
        "_cell_guid": "3db30775-d8ae-4515-9f8d-40a69535def1"
      },
      "cell_type": "markdown",
      "source": "A natural thing to want to do with numbers is perform arithmetic. We've seen the `+` operator for addition, and the `*` operator for multiplication (of a sort). Python also has us covered for the rest of the basic buttons on your calculator:\n\n| Operator     | Name           | Description                                            |\n|--------------|----------------|--------------------------------------------------------|\n| ``a + b``    | Addition       | Sum of ``a`` and ``b``                                 |\n| ``a - b``    | Subtraction    | Difference of ``a`` and ``b``                          |\n| ``a * b``    | Multiplication | Product of ``a`` and ``b``                             |\n| ``a / b``    | True division  | Quotient of ``a`` and ``b``                            |\n| ``a // b``   | Floor division | Quotient of ``a`` and ``b``, removing fractional parts |\n| ``a % b``    | Modulus        | Integer remainder after division of ``a`` by ``b``     |\n| ``a ** b``   | Exponentiation | ``a`` raised to the power of ``b``                     |\n| ``-a``       | Negation       | The negative of ``a``                                  |\n\n<span style=\"display:none\">hack</span>\n\nOne interesting observation here is that, whereas your calculator probably just has one button for division, Python can do two kinds. \"True division\" is basically what your calculator does:"
    },
    {
      "metadata": {
        "_uuid": "974497e26cf49f519d208d5f9814eb44419ff370",
        "_cell_guid": "db0e7dad-9754-4aaf-b629-0dfcc264cf7d",
        "trusted": true
      },
      "cell_type": "code",
      "source": "print(5 / 2)\nprint(6 / 2)",
      "execution_count": 64,
      "outputs": [
        {
          "output_type": "stream",
          "text": "2.5\n3.0\n",
          "name": "stdout"
        }
      ]
    },
    {
      "metadata": {
        "_uuid": "250510f56a14a24d04bb2e8e6c5549bd0892ecfc",
        "_cell_guid": "f8749590-161f-4d06-a796-6bbf13397eab"
      },
      "cell_type": "markdown",
      "source": "It always gives us a `float`. \n\nThe `//` operator gives us a result that's rounded down to the next integer."
    },
    {
      "metadata": {
        "_uuid": "2fe41d5e2dd1ff22d74e65aeed0ae4eb9c56be94",
        "_cell_guid": "ec475aa5-fb89-4996-8583-782dcbf29ea4",
        "trusted": true
      },
      "cell_type": "code",
      "source": "print(5 // 2)\nprint(6 // 2)",
      "execution_count": 65,
      "outputs": [
        {
          "output_type": "stream",
          "text": "2\n3\n",
          "name": "stdout"
        }
      ]
    },
    {
      "metadata": {
        "_uuid": "1e90519d4f4eed22eac4b4d25e651326b0b9c2a7",
        "_cell_guid": "cc8ac64c-a766-477f-ba5d-476e97aad8b5"
      },
      "cell_type": "markdown",
      "source": "Can you think of where this would be useful? You may see an example soon in the coding problems."
    },
    {
      "metadata": {
        "_uuid": "90fb898c7aefe0f6e747936a52511d862d67fedb",
        "_cell_guid": "05007349-3978-4ec1-aadc-1dc19d0a3b17"
      },
      "cell_type": "markdown",
      "source": "### Order of operations\n\nThe arithmetic we learned in primary school has conventions about the order in which operations are evaluated. Some remember these by a mnemonic such as **PEMDAS** - **P**arentheses, **E**xponents, **M**ultiplication/**D**ivision, **A**ddition/**S**ubtraction.\n\nPython follows similar rules about which calculations to perform first. They're mostly pretty intuitive."
    },
    {
      "metadata": {
        "_uuid": "3c7d5c8d52bb0dcac9b4d55dbec94dc09527244e",
        "_cell_guid": "bc1e5d24-088a-41d3-9d31-b16c7d563fe0",
        "trusted": true
      },
      "cell_type": "code",
      "source": "8 - 3 + 2",
      "execution_count": 66,
      "outputs": [
        {
          "output_type": "execute_result",
          "execution_count": 66,
          "data": {
            "text/plain": "7"
          },
          "metadata": {}
        }
      ]
    },
    {
      "metadata": {
        "_uuid": "c9550537fdf953fd67bb5113ffde0256a439bf45",
        "_cell_guid": "c0b268ba-3c79-4104-bc9d-2424e413b9e6",
        "trusted": true
      },
      "cell_type": "code",
      "source": "-3 + 4 * 2",
      "execution_count": 67,
      "outputs": [
        {
          "output_type": "execute_result",
          "execution_count": 67,
          "data": {
            "text/plain": "5"
          },
          "metadata": {}
        }
      ]
    },
    {
      "metadata": {
        "_uuid": "c7772278ec18c1fbbb142687f508f86d018f5192",
        "_cell_guid": "b0ad1c72-bdf7-46cd-b90d-6cf6cb52d6e6"
      },
      "cell_type": "markdown",
      "source": "Sometimes the default order of operations isn't what we want:"
    },
    {
      "metadata": {
        "_uuid": "0d604f8af1d69106f5f7b05eafd807a534434012",
        "_cell_guid": "16d98fba-82a9-450c-aa6e-6eeaaa8d18b5",
        "trusted": true
      },
      "cell_type": "code",
      "source": "hat_height_cm = 25\nmy_height_cm = 190\n# How tall am I, in meters, when wearing my hat?\ntotal_height_meters = hat_height_cm + my_height_cm / 100\nprint(\"Height in meters =\", total_height_meters, \"?\")",
      "execution_count": 68,
      "outputs": [
        {
          "output_type": "stream",
          "text": "Height in meters = 26.9 ?\n",
          "name": "stdout"
        }
      ]
    },
    {
      "metadata": {
        "_uuid": "781fe6a82c383f39c51ac2420bdb9dc014f391e0",
        "_cell_guid": "c0544d70-b89a-4947-b783-a3b94afc754b"
      },
      "cell_type": "markdown",
      "source": "Parentheses are your trump card. You can add them to force Python to evaluate sub-expressions in a different order (or just to make your code easier to read)."
    },
    {
      "metadata": {
        "_uuid": "b6a4440d470dcc84dff9455648774318e3a4689c",
        "_cell_guid": "10c71932-0ed6-4f99-b200-64cb0054ce07",
        "trusted": true
      },
      "cell_type": "code",
      "source": "total_height_meters = (hat_height_cm + my_height_cm) / 100\nprint(\"Height in meters =\", total_height_meters)",
      "execution_count": 69,
      "outputs": [
        {
          "output_type": "stream",
          "text": "Height in meters = 2.15\n",
          "name": "stdout"
        }
      ]
    },
    {
      "metadata": {
        "_uuid": "df9ff2b6e08885ab0a820183596191181344fbf5"
      },
      "cell_type": "markdown",
      "source": "### Builtin functions for working with numbers\n\n`min` and `max` return the minimum and maximum of their arguments, respectively..."
    },
    {
      "metadata": {
        "trusted": true,
        "_uuid": "1687dd5ede63de887acf6a3f4296b1e429e1c92e"
      },
      "cell_type": "code",
      "source": "print(min(1, 2, 3))\nprint(max(1, 2, 3))",
      "execution_count": 70,
      "outputs": [
        {
          "output_type": "stream",
          "text": "1\n3\n",
          "name": "stdout"
        }
      ]
    },
    {
      "metadata": {
        "_uuid": "054069c011830eb72f1aa7d7926e3e4056424420"
      },
      "cell_type": "markdown",
      "source": "`abs` returns the absolute value of it argument:"
    },
    {
      "metadata": {
        "trusted": true,
        "_uuid": "ebc942b80a49c666102d308695d5df033dd89a59"
      },
      "cell_type": "code",
      "source": "print(abs(32))\nprint(abs(-32))",
      "execution_count": 71,
      "outputs": [
        {
          "output_type": "stream",
          "text": "32\n32\n",
          "name": "stdout"
        }
      ]
    },
    {
      "metadata": {
        "_uuid": "d0e906fd7efed79cd0e90efb3d3161e515a55eb6"
      },
      "cell_type": "markdown",
      "source": "In addition to being the names of Python's two main numerical types, `int` and `float` can also be called as functions which convert their arguments to the corresponding type:"
    },
    {
      "metadata": {
        "trusted": true,
        "_uuid": "54ec8633f33d770d47dc1e73da2708c89dbf3f60"
      },
      "cell_type": "code",
      "source": "print(float(10))\nprint(int(3.33))\n# They can even be called on strings!\nprint(int('807') + 1)",
      "execution_count": 72,
      "outputs": [
        {
          "output_type": "stream",
          "text": "10.0\n3\n808\n",
          "name": "stdout"
        }
      ]
    },
    {
      "metadata": {
        "trusted": true,
        "_uuid": "c004eaa84e0094823ae433f4aefb5a8812f25338"
      },
      "cell_type": "code",
      "source": "## Python Functions",
      "execution_count": 73,
      "outputs": []
    },
    {
      "metadata": {
        "trusted": true,
        "_uuid": "d1fb99f6ac03b9cd0c48aa72fdfb7ff1ebbd59fa"
      },
      "cell_type": "code",
      "source": "print(\"The print function takes an input and prints it to the screen.\")\nprint(\"Each call to print starts on a new line.\")\nprint(\"You'll often call print with strings, but you can pass any kind of value. For example, a number:\")\nprint(2 + 2)\nprint(\"If print is called with multiple arguments...\", \"it joins them\",\n      \"(with spaces in between)\", \"before printing.\")\nprint('But', 'this', 'is', 'configurable', sep='!...')\nprint()\nprint(\"^^^ print can also be called with no arguments to print a blank line.\")",
      "execution_count": 74,
      "outputs": [
        {
          "output_type": "stream",
          "text": "The print function takes an input and prints it to the screen.\nEach call to print starts on a new line.\nYou'll often call print with strings, but you can pass any kind of value. For example, a number:\n4\nIf print is called with multiple arguments... it joins them (with spaces in between) before printing.\nBut!...this!...is!...configurable\n\n^^^ print can also be called with no arguments to print a blank line.\n",
          "name": "stdout"
        }
      ]
    },
    {
      "metadata": {
        "_kg_hide-input": false,
        "_kg_hide-output": false,
        "_uuid": "c90d26302cda66ab2e2010e5d2a8cfaa79c2e5a5"
      },
      "cell_type": "markdown",
      "source": "The help() function is possibly the most important Python function you can learn. If you can remember how to use help(), you hold the key to understanding just about any other function in Python."
    },
    {
      "metadata": {
        "trusted": true,
        "_uuid": "510ade510510f3a136489a2d78ba1f96a1000032"
      },
      "cell_type": "code",
      "source": "help(abs)\nhelp(min)",
      "execution_count": 75,
      "outputs": [
        {
          "output_type": "stream",
          "text": "Help on built-in function abs in module builtins:\n\nabs(x, /)\n    Return the absolute value of the argument.\n\nHelp on built-in function min in module builtins:\n\nmin(...)\n    min(iterable, *[, default=obj, key=func]) -> value\n    min(arg1, arg2, *args, *[, key=func]) -> value\n    \n    With a single iterable argument, return its smallest item. The\n    default keyword-only argument specifies an object to return if\n    the provided iterable is empty.\n    With two or more arguments, return the smallest argument.\n\n",
          "name": "stdout"
        }
      ]
    },
    {
      "metadata": {
        "trusted": true,
        "_uuid": "48dda8f63d0f108dfbff7239e5de02d3146c2892"
      },
      "cell_type": "code",
      "source": "help(abs(-2))\n##Python evaluates an expression like this from the inside out.\n##First it calculates the value of abs(-2), then it provides help on whatever the value of that expression is.",
      "execution_count": 76,
      "outputs": [
        {
          "output_type": "stream",
          "text": "Help on int object:\n\nclass int(object)\n |  int(x=0) -> integer\n |  int(x, base=10) -> integer\n |  \n |  Convert a number or string to an integer, or return 0 if no arguments\n |  are given.  If x is a number, return x.__int__().  For floating point\n |  numbers, this truncates towards zero.\n |  \n |  If x is not a number or if base is given, then x must be a string,\n |  bytes, or bytearray instance representing an integer literal in the\n |  given base.  The literal can be preceded by '+' or '-' and be surrounded\n |  by whitespace.  The base defaults to 10.  Valid bases are 0 and 2-36.\n |  Base 0 means to interpret the base from the string as an integer literal.\n |  >>> int('0b100', base=0)\n |  4\n |  \n |  Methods defined here:\n |  \n |  __abs__(self, /)\n |      abs(self)\n |  \n |  __add__(self, value, /)\n |      Return self+value.\n |  \n |  __and__(self, value, /)\n |      Return self&value.\n |  \n |  __bool__(self, /)\n |      self != 0\n |  \n |  __ceil__(...)\n |      Ceiling of an Integral returns itself.\n |  \n |  __divmod__(self, value, /)\n |      Return divmod(self, value).\n |  \n |  __eq__(self, value, /)\n |      Return self==value.\n |  \n |  __float__(self, /)\n |      float(self)\n |  \n |  __floor__(...)\n |      Flooring an Integral returns itself.\n |  \n |  __floordiv__(self, value, /)\n |      Return self//value.\n |  \n |  __format__(...)\n |      default object formatter\n |  \n |  __ge__(self, value, /)\n |      Return self>=value.\n |  \n |  __getattribute__(self, name, /)\n |      Return getattr(self, name).\n |  \n |  __getnewargs__(...)\n |  \n |  __gt__(self, value, /)\n |      Return self>value.\n |  \n |  __hash__(self, /)\n |      Return hash(self).\n |  \n |  __index__(self, /)\n |      Return self converted to an integer, if self is suitable for use as an index into a list.\n |  \n |  __int__(self, /)\n |      int(self)\n |  \n |  __invert__(self, /)\n |      ~self\n |  \n |  __le__(self, value, /)\n |      Return self<=value.\n |  \n |  __lshift__(self, value, /)\n |      Return self<<value.\n |  \n |  __lt__(self, value, /)\n |      Return self<value.\n |  \n |  __mod__(self, value, /)\n |      Return self%value.\n |  \n |  __mul__(self, value, /)\n |      Return self*value.\n |  \n |  __ne__(self, value, /)\n |      Return self!=value.\n |  \n |  __neg__(self, /)\n |      -self\n |  \n |  __new__(*args, **kwargs) from builtins.type\n |      Create and return a new object.  See help(type) for accurate signature.\n |  \n |  __or__(self, value, /)\n |      Return self|value.\n |  \n |  __pos__(self, /)\n |      +self\n |  \n |  __pow__(self, value, mod=None, /)\n |      Return pow(self, value, mod).\n |  \n |  __radd__(self, value, /)\n |      Return value+self.\n |  \n |  __rand__(self, value, /)\n |      Return value&self.\n |  \n |  __rdivmod__(self, value, /)\n |      Return divmod(value, self).\n |  \n |  __repr__(self, /)\n |      Return repr(self).\n |  \n |  __rfloordiv__(self, value, /)\n |      Return value//self.\n |  \n |  __rlshift__(self, value, /)\n |      Return value<<self.\n |  \n |  __rmod__(self, value, /)\n |      Return value%self.\n |  \n |  __rmul__(self, value, /)\n |      Return value*self.\n |  \n |  __ror__(self, value, /)\n |      Return value|self.\n |  \n |  __round__(...)\n |      Rounding an Integral returns itself.\n |      Rounding with an ndigits argument also returns an integer.\n |  \n |  __rpow__(self, value, mod=None, /)\n |      Return pow(value, self, mod).\n |  \n |  __rrshift__(self, value, /)\n |      Return value>>self.\n |  \n |  __rshift__(self, value, /)\n |      Return self>>value.\n |  \n |  __rsub__(self, value, /)\n |      Return value-self.\n |  \n |  __rtruediv__(self, value, /)\n |      Return value/self.\n |  \n |  __rxor__(self, value, /)\n |      Return value^self.\n |  \n |  __sizeof__(...)\n |      Returns size in memory, in bytes\n |  \n |  __str__(self, /)\n |      Return str(self).\n |  \n |  __sub__(self, value, /)\n |      Return self-value.\n |  \n |  __truediv__(self, value, /)\n |      Return self/value.\n |  \n |  __trunc__(...)\n |      Truncating an Integral returns itself.\n |  \n |  __xor__(self, value, /)\n |      Return self^value.\n |  \n |  bit_length(...)\n |      int.bit_length() -> int\n |      \n |      Number of bits necessary to represent self in binary.\n |      >>> bin(37)\n |      '0b100101'\n |      >>> (37).bit_length()\n |      6\n |  \n |  conjugate(...)\n |      Returns self, the complex conjugate of any int.\n |  \n |  from_bytes(...) from builtins.type\n |      int.from_bytes(bytes, byteorder, *, signed=False) -> int\n |      \n |      Return the integer represented by the given array of bytes.\n |      \n |      The bytes argument must be a bytes-like object (e.g. bytes or bytearray).\n |      \n |      The byteorder argument determines the byte order used to represent the\n |      integer.  If byteorder is 'big', the most significant byte is at the\n |      beginning of the byte array.  If byteorder is 'little', the most\n |      significant byte is at the end of the byte array.  To request the native\n |      byte order of the host system, use `sys.byteorder' as the byte order value.\n |      \n |      The signed keyword-only argument indicates whether two's complement is\n |      used to represent the integer.\n |  \n |  to_bytes(...)\n |      int.to_bytes(length, byteorder, *, signed=False) -> bytes\n |      \n |      Return an array of bytes representing an integer.\n |      \n |      The integer is represented using length bytes.  An OverflowError is\n |      raised if the integer is not representable with the given number of\n |      bytes.\n |      \n |      The byteorder argument determines the byte order used to represent the\n |      integer.  If byteorder is 'big', the most significant byte is at the\n |      beginning of the byte array.  If byteorder is 'little', the most\n |      significant byte is at the end of the byte array.  To request the native\n |      byte order of the host system, use `sys.byteorder' as the byte order value.\n |      \n |      The signed keyword-only argument determines whether two's complement is\n |      used to represent the integer.  If signed is False and a negative integer\n |      is given, an OverflowError is raised.\n |  \n |  ----------------------------------------------------------------------\n |  Data descriptors defined here:\n |  \n |  denominator\n |      the denominator of a rational number in lowest terms\n |  \n |  imag\n |      the imaginary part of a complex number\n |  \n |  numerator\n |      the numerator of a rational number in lowest terms\n |  \n |  real\n |      the real part of a complex number\n\n",
          "name": "stdout"
        }
      ]
    },
    {
      "metadata": {
        "_uuid": "f046faf95b2d70bb3a5def53527a2884f7e04538"
      },
      "cell_type": "markdown",
      "source": "Defining functions¶\nBuiltin functions are great, but we can only get so far with them before we need to start defining our own functions. Below is a simple example.\n"
    },
    {
      "metadata": {
        "trusted": true,
        "_uuid": "c7df2f374248af6278847b4c5d7ebc4fa863f84e"
      },
      "cell_type": "code",
      "source": "def least_difference(a, b, c):\n    diff1 = abs(a - b)\n    diff2 = abs(b - c)\n    diff3 = abs(a - c)\n    return min(diff1, diff2, diff3)",
      "execution_count": 77,
      "outputs": []
    },
    {
      "metadata": {
        "_uuid": "1fa93d4ed54f7eb38f12a5236bfc31d47e0205fa"
      },
      "cell_type": "markdown",
      "source": "This creates a function called least_difference, which takes three arguments, a, b, and c.\n\nFunctions start with a header introduced by the def keyword. The indented block of code following the : is run when the function is called.\n\nreturn is another keyword uniquely associated with functions. When Python encounters a return statement, it exits the function immediately, and passes the value on the right hand side to the calling context.\n\nIs it clear what least_difference() does from the source code? If we're not sure, we can always try it out on a few examples:\n\n"
    },
    {
      "metadata": {
        "trusted": true,
        "_uuid": "81c3a3837029cd62dd957c9ea5a1dcbec119931b"
      },
      "cell_type": "code",
      "source": "print(\n    least_difference(1, 10, 100),\n    least_difference(1, 10, 10),\n    least_difference(5, 6, 7), # Python allows trailing commas in argument lists. How nice is that?\n)",
      "execution_count": 78,
      "outputs": [
        {
          "output_type": "stream",
          "text": "9 0 1\n",
          "name": "stdout"
        }
      ]
    },
    {
      "metadata": {
        "trusted": true,
        "_uuid": "2574dfba350083f01d61e76aaefcb4bb2b12532e"
      },
      "cell_type": "code",
      "source": "help(least_difference)",
      "execution_count": 79,
      "outputs": [
        {
          "output_type": "stream",
          "text": "Help on function least_difference in module __main__:\n\nleast_difference(a, b, c)\n\n",
          "name": "stdout"
        }
      ]
    },
    {
      "metadata": {
        "_uuid": "440b357d32a9b51291fe5175a040b5b0630f9afe"
      },
      "cell_type": "markdown",
      "source": "Unsurprisingly, Python isn't smart enough to read my code and turn it into a nice English description. However, when I write a function, I can provide a description in what's called the docstring.\n"
    },
    {
      "metadata": {
        "_uuid": "68a68ee9fbc95f37ae26123cc5f9a3edc7444756"
      },
      "cell_type": "markdown",
      "source": "***Docstrings*******"
    },
    {
      "metadata": {
        "trusted": true,
        "_uuid": "6c9680d38c10eaeafaa21dd354368677b6c8696b"
      },
      "cell_type": "code",
      "source": "def least_difference(a, b, c):\n    \"\"\"Return the smallest difference between any two numbers\n    among a, b and c.\n    \n    >>> least_difference(1, 5, -5)\n    4\n    \"\"\"\n    diff1 = abs(a - b)\n    diff2 = abs(b - c)\n    diff3 = abs(a - c)\n    return min(diff1, diff2, diff3)",
      "execution_count": 80,
      "outputs": []
    },
    {
      "metadata": {
        "trusted": true,
        "_uuid": "415bbcd13aa7df55fd88662f3fee4f51b61a3f56"
      },
      "cell_type": "code",
      "source": "help(least_difference)\n##The docstring is a triple-quoted string (which may span multiple lines) that comes immediately after the header of a function.\n##When we call help() on a function, it shows the docstring.",
      "execution_count": 81,
      "outputs": [
        {
          "output_type": "stream",
          "text": "Help on function least_difference in module __main__:\n\nleast_difference(a, b, c)\n    Return the smallest difference between any two numbers\n    among a, b and c.\n    \n    >>> least_difference(1, 5, -5)\n    4\n\n",
          "name": "stdout"
        }
      ]
    },
    {
      "metadata": {
        "_uuid": "e24185edc5f7bf4d024c22ebf57afabbb6f57106"
      },
      "cell_type": "markdown",
      "source": "Functions that don't return¶\nWhat would happen if we didn't include the return keyword in our function?\n\n"
    },
    {
      "metadata": {
        "trusted": true,
        "_uuid": "dd6ab7b6a375cd0d02c11fd9136b43bb2e1bf1be"
      },
      "cell_type": "code",
      "source": "def least_difference(a, b, c):\n    \"\"\"Return the smallest difference between any two numbers\n    among a, b and c.\n    \"\"\"\n    diff1 = abs(a - b)\n    diff2 = abs(b - c)\n    diff3 = abs(a - c)\n    min(diff1, diff2, diff3)\n    \nprint(\n    least_difference(1, 10, 100),\n    least_difference(1, 10, 10),\n    least_difference(5, 6, 7),\n)\n",
      "execution_count": 82,
      "outputs": [
        {
          "output_type": "stream",
          "text": "None None None\n",
          "name": "stdout"
        }
      ]
    },
    {
      "metadata": {
        "_uuid": "78b312545bd6385b1f12b63b05654f6ee10a8909"
      },
      "cell_type": "markdown",
      "source": "Python allows us to define such functions. The result of calling them is the special value None. (This is similar to the concept of \"null\" in other languages.)\n\nWithout a return statement, least_difference is completely pointless, but a function with side effects may do something useful without returning anything. We've already seen two examples of this: print() and help() don't return anything. We only call them for their side effects (putting some text on the screen). Other examples of useful side effects include writing to a file, or modifying an input.\n"
    },
    {
      "metadata": {
        "trusted": true,
        "_uuid": "1fa8821906f0a74154f423c78c149f9c9a24f56e"
      },
      "cell_type": "code",
      "source": "mystery = print()\nprint(mystery)",
      "execution_count": 83,
      "outputs": [
        {
          "output_type": "stream",
          "text": "\nNone\n",
          "name": "stdout"
        }
      ]
    },
    {
      "metadata": {
        "trusted": true,
        "_uuid": "59df617b0507c3276e440a036c03dbac824ff581"
      },
      "cell_type": "code",
      "source": "##Adding optional arguments with default values to the functions we define turns out to be pretty easy:\ndef greet(who=\"Python\"):\n    print(\"Hello,\", who)\n    \ngreet()\ngreet(who=\"Kaggle\")\n# (In this case, we don't need to specify the name of the argument, because it's unambiguous.)\ngreet(\"world\")\n",
      "execution_count": 84,
      "outputs": [
        {
          "output_type": "stream",
          "text": "Hello, Python\nHello, Kaggle\nHello, world\n",
          "name": "stdout"
        }
      ]
    },
    {
      "metadata": {
        "trusted": true,
        "_uuid": "68bcbc53f90c03e4a429ada759107b629c4dabf4"
      },
      "cell_type": "code",
      "source": "def f(n):\n    return n * 2\n\ndef call(fn, arg):\n    \"\"\"Call fn on arg\"\"\"\n    return fn(arg)\n\ndef squared_call(fn, arg):\n    \"\"\"Call fn on the result of calling fn on arg\"\"\"\n    return fn(fn(arg))\n\nprint(\n    call(f, 1),\n    squared_call(f, 1), \n    sep='\\n', # '\\n' is the newline character - it starts a new line\n)\n",
      "execution_count": 85,
      "outputs": [
        {
          "output_type": "stream",
          "text": "2\n4\n",
          "name": "stdout"
        }
      ]
    },
    {
      "metadata": {
        "_uuid": "c8c301d5e207ec8bc207b1b39ffaaafddc16bd3c"
      },
      "cell_type": "markdown",
      "source": "**Lambda functions**¶\nProbably the most frequent used.\nIf you're writing a short throwaway function whose body fits into a single line , Python's lambda syntax is conveniently compact.\n\n"
    },
    {
      "metadata": {
        "trusted": true,
        "_uuid": "2669bb44904210dbc5d64d399627d98e3e6efb36"
      },
      "cell_type": "code",
      "source": "mod_5 = lambda x: x % 5\n\n# Note that we don't use the \"return\" keyword above (it's implicit)\n# (The line below would produce a SyntaxError)\n#mod_5 = lambda x: return x % 5\n\nprint('101 mod 5 =', mod_5(101))\n",
      "execution_count": 86,
      "outputs": [
        {
          "output_type": "stream",
          "text": "101 mod 5 = 1\n",
          "name": "stdout"
        }
      ]
    },
    {
      "metadata": {
        "trusted": true,
        "_uuid": "260f9734171030336a6442c4b158d31441dbde8e"
      },
      "cell_type": "code",
      "source": "# Lambdas can take multiple comma-separated arguments\nabs_diff = lambda a, b: abs(a-b)\nprint(\"Absolute difference of 5 and 7 is\", abs_diff(5, 7))\n",
      "execution_count": 87,
      "outputs": [
        {
          "output_type": "stream",
          "text": "Absolute difference of 5 and 7 is 2\n",
          "name": "stdout"
        }
      ]
    },
    {
      "metadata": {
        "trusted": true,
        "_uuid": "621efa98d19baeb420262bd5ab5f20e9d78b9cb4"
      },
      "cell_type": "code",
      "source": "always_32 = lambda: 32\nalways_32()\n",
      "execution_count": 88,
      "outputs": [
        {
          "output_type": "execute_result",
          "execution_count": 88,
          "data": {
            "text/plain": "32"
          },
          "metadata": {}
        }
      ]
    },
    {
      "metadata": {
        "trusted": true,
        "_uuid": "bc86e5be627af5ebf7c9a7c90a589f6055f0a74b"
      },
      "cell_type": "code",
      "source": "# Preview of lists and strings. (We'll go in depth into both soon)\n# - len: return the length of a sequence (such as a string or list)\n# - sorted: return a sorted version of the given sequence (optional key \n#           function works similarly to max and min)\n# - s.lower() : return a lowercase version of string s\nnames = ['jacques', 'Ty', 'Mia', 'pui-wa']\nprint(\"Longest name is:\", max(names, key=lambda name: len(name))) # or just key=len\nprint(\"Names sorted case insensitive:\", sorted(names, key=lambda name: name.lower()))\n",
      "execution_count": 89,
      "outputs": [
        {
          "output_type": "stream",
          "text": "Longest name is: jacques\nNames sorted case insensitive: ['jacques', 'Mia', 'pui-wa', 'Ty']\n",
          "name": "stdout"
        }
      ]
    },
    {
      "metadata": {
        "_uuid": "8d18f8ecb8232f1545809642add31143bc1cc638"
      },
      "cell_type": "markdown",
      "source": "we will see lots of example afterwards where lambda function is used very precisely."
    }
  ],
  "metadata": {
    "kernelspec": {
      "display_name": "Python 3",
      "language": "python",
      "name": "python3"
    },
    "language_info": {
      "name": "python",
      "version": "3.6.6",
      "mimetype": "text/x-python",
      "codemirror_mode": {
        "name": "ipython",
        "version": 3
      },
      "pygments_lexer": "ipython3",
      "nbconvert_exporter": "python",
      "file_extension": ".py"
    },
    "anaconda-cloud": {}
  },
  "nbformat": 4,
  "nbformat_minor": 1
}