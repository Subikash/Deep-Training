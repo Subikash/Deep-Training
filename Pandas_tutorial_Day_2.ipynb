{
  "cells": [
    {
      "metadata": {
        "_uuid": "22610f13767ddee20dc4f8deb7400837b6a7d082"
      },
      "cell_type": "markdown",
      "source": "**DAY -2 (Pandas) - Lets dig little bit**"
    },
    {
      "metadata": {
        "_uuid": "8f2839f25d086af736a60e9eeb907d3b93b6e0e5",
        "_cell_guid": "b1076dfc-b9ad-4769-8c92-a6c4dae69d19",
        "trusted": true
      },
      "cell_type": "code",
      "source": "# This Python 3 environment comes with many helpful analytics libraries installed\n# It is defined by the kaggle/python docker image: https://github.com/kaggle/docker-python\n# For example, here's several helpful packages to load in \n\nimport numpy as np # linear algebra\nimport pandas as pd # data processing, CSV file I/O (e.g. pd.read_csv)\n\n# Input data files are available in the \"../input/\" directory.\n# For example, running this (by clicking run or pressing Shift+Enter) will list the files in the input directory\n\nimport os\nprint(os.listdir(\"../input\"))\n\n# Any results you write to the current directory are saved as output.",
      "execution_count": 320,
      "outputs": [
        {
          "output_type": "stream",
          "text": "['titanic_test.csv', 'titanic_train.csv']\n",
          "name": "stdout"
        }
      ]
    },
    {
      "metadata": {
        "_cell_guid": "79c7e3d0-c299-4dcb-8224-4455121ee9b0",
        "_uuid": "d629ff2d2480ee46fbb7e2d37f6b5fab8052498a",
        "trusted": true
      },
      "cell_type": "code",
      "source": "## reading the Input files. We can read any type of data(CSV,HTML,JSON etc)\ntrain = pd.read_csv(\"../input/titanic_train.csv\")\ntest = pd.read_csv(\"../input/titanic_test.csv\")",
      "execution_count": 321,
      "outputs": []
    },
    {
      "metadata": {
        "trusted": true,
        "_uuid": "43dfd62a8c93cf894fbc977ab72ed25b72e68184"
      },
      "cell_type": "code",
      "source": "## Just to get a feel of the train data. \n## head() displays first few rows whether tail() displays last few rows\ntrain.head()",
      "execution_count": 322,
      "outputs": [
        {
          "output_type": "execute_result",
          "execution_count": 322,
          "data": {
            "text/plain": "   PassengerId  Survived  Pclass    ...        Fare Cabin  Embarked\n0            1         0       3    ...      7.2500   NaN         S\n1            2         1       1    ...     71.2833   C85         C\n2            3         1       3    ...      7.9250   NaN         S\n3            4         1       1    ...     53.1000  C123         S\n4            5         0       3    ...      8.0500   NaN         S\n\n[5 rows x 12 columns]",
            "text/html": "<div>\n<style scoped>\n    .dataframe tbody tr th:only-of-type {\n        vertical-align: middle;\n    }\n\n    .dataframe tbody tr th {\n        vertical-align: top;\n    }\n\n    .dataframe thead th {\n        text-align: right;\n    }\n</style>\n<table border=\"1\" class=\"dataframe\">\n  <thead>\n    <tr style=\"text-align: right;\">\n      <th></th>\n      <th>PassengerId</th>\n      <th>Survived</th>\n      <th>Pclass</th>\n      <th>Name</th>\n      <th>Sex</th>\n      <th>Age</th>\n      <th>SibSp</th>\n      <th>Parch</th>\n      <th>Ticket</th>\n      <th>Fare</th>\n      <th>Cabin</th>\n      <th>Embarked</th>\n    </tr>\n  </thead>\n  <tbody>\n    <tr>\n      <th>0</th>\n      <td>1</td>\n      <td>0</td>\n      <td>3</td>\n      <td>Braund, Mr. Owen Harris</td>\n      <td>male</td>\n      <td>22.0</td>\n      <td>1</td>\n      <td>0</td>\n      <td>A/5 21171</td>\n      <td>7.2500</td>\n      <td>NaN</td>\n      <td>S</td>\n    </tr>\n    <tr>\n      <th>1</th>\n      <td>2</td>\n      <td>1</td>\n      <td>1</td>\n      <td>Cumings, Mrs. John Bradley (Florence Briggs Th...</td>\n      <td>female</td>\n      <td>38.0</td>\n      <td>1</td>\n      <td>0</td>\n      <td>PC 17599</td>\n      <td>71.2833</td>\n      <td>C85</td>\n      <td>C</td>\n    </tr>\n    <tr>\n      <th>2</th>\n      <td>3</td>\n      <td>1</td>\n      <td>3</td>\n      <td>Heikkinen, Miss. Laina</td>\n      <td>female</td>\n      <td>26.0</td>\n      <td>0</td>\n      <td>0</td>\n      <td>STON/O2. 3101282</td>\n      <td>7.9250</td>\n      <td>NaN</td>\n      <td>S</td>\n    </tr>\n    <tr>\n      <th>3</th>\n      <td>4</td>\n      <td>1</td>\n      <td>1</td>\n      <td>Futrelle, Mrs. Jacques Heath (Lily May Peel)</td>\n      <td>female</td>\n      <td>35.0</td>\n      <td>1</td>\n      <td>0</td>\n      <td>113803</td>\n      <td>53.1000</td>\n      <td>C123</td>\n      <td>S</td>\n    </tr>\n    <tr>\n      <th>4</th>\n      <td>5</td>\n      <td>0</td>\n      <td>3</td>\n      <td>Allen, Mr. William Henry</td>\n      <td>male</td>\n      <td>35.0</td>\n      <td>0</td>\n      <td>0</td>\n      <td>373450</td>\n      <td>8.0500</td>\n      <td>NaN</td>\n      <td>S</td>\n    </tr>\n  </tbody>\n</table>\n</div>"
          },
          "metadata": {}
        }
      ]
    },
    {
      "metadata": {
        "trusted": true,
        "_uuid": "78b44f78965f0715411ffbde63a13d5cb126a6a5"
      },
      "cell_type": "code",
      "source": "## Just to get a feel of the test data. \ntest.head()",
      "execution_count": 323,
      "outputs": [
        {
          "output_type": "execute_result",
          "execution_count": 323,
          "data": {
            "text/plain": "   PassengerId  Pclass   ...    Cabin Embarked\n0          892       3   ...      NaN        Q\n1          893       3   ...      NaN        S\n2          894       2   ...      NaN        Q\n3          895       3   ...      NaN        S\n4          896       3   ...      NaN        S\n\n[5 rows x 11 columns]",
            "text/html": "<div>\n<style scoped>\n    .dataframe tbody tr th:only-of-type {\n        vertical-align: middle;\n    }\n\n    .dataframe tbody tr th {\n        vertical-align: top;\n    }\n\n    .dataframe thead th {\n        text-align: right;\n    }\n</style>\n<table border=\"1\" class=\"dataframe\">\n  <thead>\n    <tr style=\"text-align: right;\">\n      <th></th>\n      <th>PassengerId</th>\n      <th>Pclass</th>\n      <th>Name</th>\n      <th>Sex</th>\n      <th>Age</th>\n      <th>SibSp</th>\n      <th>Parch</th>\n      <th>Ticket</th>\n      <th>Fare</th>\n      <th>Cabin</th>\n      <th>Embarked</th>\n    </tr>\n  </thead>\n  <tbody>\n    <tr>\n      <th>0</th>\n      <td>892</td>\n      <td>3</td>\n      <td>Kelly, Mr. James</td>\n      <td>male</td>\n      <td>34.5</td>\n      <td>0</td>\n      <td>0</td>\n      <td>330911</td>\n      <td>7.8292</td>\n      <td>NaN</td>\n      <td>Q</td>\n    </tr>\n    <tr>\n      <th>1</th>\n      <td>893</td>\n      <td>3</td>\n      <td>Wilkes, Mrs. James (Ellen Needs)</td>\n      <td>female</td>\n      <td>47.0</td>\n      <td>1</td>\n      <td>0</td>\n      <td>363272</td>\n      <td>7.0000</td>\n      <td>NaN</td>\n      <td>S</td>\n    </tr>\n    <tr>\n      <th>2</th>\n      <td>894</td>\n      <td>2</td>\n      <td>Myles, Mr. Thomas Francis</td>\n      <td>male</td>\n      <td>62.0</td>\n      <td>0</td>\n      <td>0</td>\n      <td>240276</td>\n      <td>9.6875</td>\n      <td>NaN</td>\n      <td>Q</td>\n    </tr>\n    <tr>\n      <th>3</th>\n      <td>895</td>\n      <td>3</td>\n      <td>Wirz, Mr. Albert</td>\n      <td>male</td>\n      <td>27.0</td>\n      <td>0</td>\n      <td>0</td>\n      <td>315154</td>\n      <td>8.6625</td>\n      <td>NaN</td>\n      <td>S</td>\n    </tr>\n    <tr>\n      <th>4</th>\n      <td>896</td>\n      <td>3</td>\n      <td>Hirvonen, Mrs. Alexander (Helga E Lindqvist)</td>\n      <td>female</td>\n      <td>22.0</td>\n      <td>1</td>\n      <td>1</td>\n      <td>3101298</td>\n      <td>12.2875</td>\n      <td>NaN</td>\n      <td>S</td>\n    </tr>\n  </tbody>\n</table>\n</div>"
          },
          "metadata": {}
        }
      ]
    },
    {
      "metadata": {
        "trusted": true,
        "_uuid": "5704ad522818585f2e3ff6f95f02c3d3c199664e"
      },
      "cell_type": "code",
      "source": "## lets check what are the columns in Train.\nprint(train.columns)",
      "execution_count": 324,
      "outputs": [
        {
          "output_type": "stream",
          "text": "Index(['PassengerId', 'Survived', 'Pclass', 'Name', 'Sex', 'Age', 'SibSp',\n       'Parch', 'Ticket', 'Fare', 'Cabin', 'Embarked'],\n      dtype='object')\n",
          "name": "stdout"
        }
      ]
    },
    {
      "metadata": {
        "trusted": true,
        "_uuid": "474c25b04f82f248e4cfe2718a39d205b4df1fbf"
      },
      "cell_type": "code",
      "source": "## lets check what are the columns in Test.\nprint(test.columns)\n## Survived column is missed. WHY?",
      "execution_count": 325,
      "outputs": [
        {
          "output_type": "stream",
          "text": "Index(['PassengerId', 'Pclass', 'Name', 'Sex', 'Age', 'SibSp', 'Parch',\n       'Ticket', 'Fare', 'Cabin', 'Embarked'],\n      dtype='object')\n",
          "name": "stdout"
        }
      ]
    },
    {
      "metadata": {
        "trusted": true,
        "_uuid": "9e022addf8d9e7298cb9d127bf5e764230e04a12"
      },
      "cell_type": "code",
      "source": "## lets try to see the column details in TRAIN\ntrain.info()",
      "execution_count": 326,
      "outputs": [
        {
          "output_type": "stream",
          "text": "<class 'pandas.core.frame.DataFrame'>\nRangeIndex: 891 entries, 0 to 890\nData columns (total 12 columns):\nPassengerId    891 non-null int64\nSurvived       891 non-null int64\nPclass         891 non-null int64\nName           891 non-null object\nSex            891 non-null object\nAge            714 non-null float64\nSibSp          891 non-null int64\nParch          891 non-null int64\nTicket         891 non-null object\nFare           891 non-null float64\nCabin          204 non-null object\nEmbarked       889 non-null object\ndtypes: float64(2), int64(5), object(5)\nmemory usage: 83.6+ KB\n",
          "name": "stdout"
        }
      ]
    },
    {
      "metadata": {
        "trusted": true,
        "_uuid": "0f732aa9796cf1354f84412e4b9cc051c1ca1b08"
      },
      "cell_type": "code",
      "source": "## lets see the distribution of Target\ntrain['Survived'].value_counts()",
      "execution_count": 327,
      "outputs": [
        {
          "output_type": "execute_result",
          "execution_count": 327,
          "data": {
            "text/plain": "0    549\n1    342\nName: Survived, dtype: int64"
          },
          "metadata": {}
        }
      ]
    },
    {
      "metadata": {
        "_uuid": "f575a42c5cfd78261291f0316ec02722f79923d8"
      },
      "cell_type": "markdown",
      "source": "##  FILTERING Based on Conditions"
    },
    {
      "metadata": {
        "trusted": true,
        "_uuid": "274835dc6feea3760d4e4496bee975e8473c5925"
      },
      "cell_type": "code",
      "source": "train[train['PassengerId'] == 567]",
      "execution_count": 328,
      "outputs": [
        {
          "output_type": "execute_result",
          "execution_count": 328,
          "data": {
            "text/plain": "     PassengerId  Survived  Pclass    ...       Fare Cabin  Embarked\n566          567         0       3    ...     7.8958   NaN         S\n\n[1 rows x 12 columns]",
            "text/html": "<div>\n<style scoped>\n    .dataframe tbody tr th:only-of-type {\n        vertical-align: middle;\n    }\n\n    .dataframe tbody tr th {\n        vertical-align: top;\n    }\n\n    .dataframe thead th {\n        text-align: right;\n    }\n</style>\n<table border=\"1\" class=\"dataframe\">\n  <thead>\n    <tr style=\"text-align: right;\">\n      <th></th>\n      <th>PassengerId</th>\n      <th>Survived</th>\n      <th>Pclass</th>\n      <th>Name</th>\n      <th>Sex</th>\n      <th>Age</th>\n      <th>SibSp</th>\n      <th>Parch</th>\n      <th>Ticket</th>\n      <th>Fare</th>\n      <th>Cabin</th>\n      <th>Embarked</th>\n    </tr>\n  </thead>\n  <tbody>\n    <tr>\n      <th>566</th>\n      <td>567</td>\n      <td>0</td>\n      <td>3</td>\n      <td>Stoytcheff, Mr. Ilia</td>\n      <td>male</td>\n      <td>19.0</td>\n      <td>0</td>\n      <td>0</td>\n      <td>349205</td>\n      <td>7.8958</td>\n      <td>NaN</td>\n      <td>S</td>\n    </tr>\n  </tbody>\n</table>\n</div>"
          },
          "metadata": {}
        }
      ]
    },
    {
      "metadata": {
        "trusted": true,
        "_uuid": "99f6a5bb1962ca0a3af4f4d479946648fc6ffd66"
      },
      "cell_type": "code",
      "source": "## lets see some sample of Survived.\ntrain[train['Survived'] == 1].head()",
      "execution_count": 329,
      "outputs": [
        {
          "output_type": "execute_result",
          "execution_count": 329,
          "data": {
            "text/plain": "   PassengerId  Survived  Pclass    ...        Fare Cabin  Embarked\n1            2         1       1    ...     71.2833   C85         C\n2            3         1       3    ...      7.9250   NaN         S\n3            4         1       1    ...     53.1000  C123         S\n8            9         1       3    ...     11.1333   NaN         S\n9           10         1       2    ...     30.0708   NaN         C\n\n[5 rows x 12 columns]",
            "text/html": "<div>\n<style scoped>\n    .dataframe tbody tr th:only-of-type {\n        vertical-align: middle;\n    }\n\n    .dataframe tbody tr th {\n        vertical-align: top;\n    }\n\n    .dataframe thead th {\n        text-align: right;\n    }\n</style>\n<table border=\"1\" class=\"dataframe\">\n  <thead>\n    <tr style=\"text-align: right;\">\n      <th></th>\n      <th>PassengerId</th>\n      <th>Survived</th>\n      <th>Pclass</th>\n      <th>Name</th>\n      <th>Sex</th>\n      <th>Age</th>\n      <th>SibSp</th>\n      <th>Parch</th>\n      <th>Ticket</th>\n      <th>Fare</th>\n      <th>Cabin</th>\n      <th>Embarked</th>\n    </tr>\n  </thead>\n  <tbody>\n    <tr>\n      <th>1</th>\n      <td>2</td>\n      <td>1</td>\n      <td>1</td>\n      <td>Cumings, Mrs. John Bradley (Florence Briggs Th...</td>\n      <td>female</td>\n      <td>38.0</td>\n      <td>1</td>\n      <td>0</td>\n      <td>PC 17599</td>\n      <td>71.2833</td>\n      <td>C85</td>\n      <td>C</td>\n    </tr>\n    <tr>\n      <th>2</th>\n      <td>3</td>\n      <td>1</td>\n      <td>3</td>\n      <td>Heikkinen, Miss. Laina</td>\n      <td>female</td>\n      <td>26.0</td>\n      <td>0</td>\n      <td>0</td>\n      <td>STON/O2. 3101282</td>\n      <td>7.9250</td>\n      <td>NaN</td>\n      <td>S</td>\n    </tr>\n    <tr>\n      <th>3</th>\n      <td>4</td>\n      <td>1</td>\n      <td>1</td>\n      <td>Futrelle, Mrs. Jacques Heath (Lily May Peel)</td>\n      <td>female</td>\n      <td>35.0</td>\n      <td>1</td>\n      <td>0</td>\n      <td>113803</td>\n      <td>53.1000</td>\n      <td>C123</td>\n      <td>S</td>\n    </tr>\n    <tr>\n      <th>8</th>\n      <td>9</td>\n      <td>1</td>\n      <td>3</td>\n      <td>Johnson, Mrs. Oscar W (Elisabeth Vilhelmina Berg)</td>\n      <td>female</td>\n      <td>27.0</td>\n      <td>0</td>\n      <td>2</td>\n      <td>347742</td>\n      <td>11.1333</td>\n      <td>NaN</td>\n      <td>S</td>\n    </tr>\n    <tr>\n      <th>9</th>\n      <td>10</td>\n      <td>1</td>\n      <td>2</td>\n      <td>Nasser, Mrs. Nicholas (Adele Achem)</td>\n      <td>female</td>\n      <td>14.0</td>\n      <td>1</td>\n      <td>0</td>\n      <td>237736</td>\n      <td>30.0708</td>\n      <td>NaN</td>\n      <td>C</td>\n    </tr>\n  </tbody>\n</table>\n</div>"
          },
          "metadata": {}
        }
      ]
    },
    {
      "metadata": {
        "_uuid": "0cb874db335e3112f879ba0259986398b9ffe178"
      },
      "cell_type": "markdown",
      "source": "## lets understand what is loc & iloc\n1. Selecting data by row numbers (.iloc)\n2. Selecting data by label or by a conditional statment (.loc)\n"
    },
    {
      "metadata": {
        "trusted": true,
        "_uuid": "1d3cc21ba10ee77701fac632d15a6a9be097a88c"
      },
      "cell_type": "code",
      "source": "print(train.iloc[0])\nprint(train.iloc[len(train) -1 ])",
      "execution_count": 330,
      "outputs": [
        {
          "output_type": "stream",
          "text": "PassengerId                          1\nSurvived                             0\nPclass                               3\nName           Braund, Mr. Owen Harris\nSex                               male\nAge                                 22\nSibSp                                1\nParch                                0\nTicket                       A/5 21171\nFare                              7.25\nCabin                              NaN\nEmbarked                             S\nName: 0, dtype: object\nPassengerId                    891\nSurvived                         0\nPclass                           3\nName           Dooley, Mr. Patrick\nSex                           male\nAge                             32\nSibSp                            0\nParch                            0\nTicket                      370376\nFare                          7.75\nCabin                          NaN\nEmbarked                         Q\nName: 890, dtype: object\n",
          "name": "stdout"
        }
      ]
    },
    {
      "metadata": {
        "trusted": true,
        "_uuid": "2013ec0354e2f88580b1b7a53623c64e329fffc0"
      },
      "cell_type": "code",
      "source": "## lets check the index\ntrain.index",
      "execution_count": 331,
      "outputs": [
        {
          "output_type": "execute_result",
          "execution_count": 331,
          "data": {
            "text/plain": "RangeIndex(start=0, stop=891, step=1)"
          },
          "metadata": {}
        }
      ]
    },
    {
      "metadata": {
        "trusted": true,
        "_uuid": "caed68cb2557e8426e2bd445c141cdabdb788662"
      },
      "cell_type": "code",
      "source": "train.loc[1]",
      "execution_count": 332,
      "outputs": [
        {
          "output_type": "execute_result",
          "execution_count": 332,
          "data": {
            "text/plain": "PassengerId                                                    2\nSurvived                                                       1\nPclass                                                         1\nName           Cumings, Mrs. John Bradley (Florence Briggs Th...\nSex                                                       female\nAge                                                           38\nSibSp                                                          1\nParch                                                          0\nTicket                                                  PC 17599\nFare                                                     71.2833\nCabin                                                        C85\nEmbarked                                                       C\nName: 1, dtype: object"
          },
          "metadata": {}
        }
      ]
    },
    {
      "metadata": {
        "trusted": true,
        "_uuid": "19894ee5cac6ed9187061546ee8f18238b2a01c3"
      },
      "cell_type": "code",
      "source": "train.index",
      "execution_count": 333,
      "outputs": [
        {
          "output_type": "execute_result",
          "execution_count": 333,
          "data": {
            "text/plain": "RangeIndex(start=0, stop=891, step=1)"
          },
          "metadata": {}
        }
      ]
    },
    {
      "metadata": {
        "trusted": true,
        "_uuid": "9efb5204680a9ac34ac05a58797acf0b272a0e34"
      },
      "cell_type": "code",
      "source": "### slicing with iloc\ntrain.iloc[:3]",
      "execution_count": 334,
      "outputs": [
        {
          "output_type": "execute_result",
          "execution_count": 334,
          "data": {
            "text/plain": "   PassengerId  Survived  Pclass    ...        Fare Cabin  Embarked\n0            1         0       3    ...      7.2500   NaN         S\n1            2         1       1    ...     71.2833   C85         C\n2            3         1       3    ...      7.9250   NaN         S\n\n[3 rows x 12 columns]",
            "text/html": "<div>\n<style scoped>\n    .dataframe tbody tr th:only-of-type {\n        vertical-align: middle;\n    }\n\n    .dataframe tbody tr th {\n        vertical-align: top;\n    }\n\n    .dataframe thead th {\n        text-align: right;\n    }\n</style>\n<table border=\"1\" class=\"dataframe\">\n  <thead>\n    <tr style=\"text-align: right;\">\n      <th></th>\n      <th>PassengerId</th>\n      <th>Survived</th>\n      <th>Pclass</th>\n      <th>Name</th>\n      <th>Sex</th>\n      <th>Age</th>\n      <th>SibSp</th>\n      <th>Parch</th>\n      <th>Ticket</th>\n      <th>Fare</th>\n      <th>Cabin</th>\n      <th>Embarked</th>\n    </tr>\n  </thead>\n  <tbody>\n    <tr>\n      <th>0</th>\n      <td>1</td>\n      <td>0</td>\n      <td>3</td>\n      <td>Braund, Mr. Owen Harris</td>\n      <td>male</td>\n      <td>22.0</td>\n      <td>1</td>\n      <td>0</td>\n      <td>A/5 21171</td>\n      <td>7.2500</td>\n      <td>NaN</td>\n      <td>S</td>\n    </tr>\n    <tr>\n      <th>1</th>\n      <td>2</td>\n      <td>1</td>\n      <td>1</td>\n      <td>Cumings, Mrs. John Bradley (Florence Briggs Th...</td>\n      <td>female</td>\n      <td>38.0</td>\n      <td>1</td>\n      <td>0</td>\n      <td>PC 17599</td>\n      <td>71.2833</td>\n      <td>C85</td>\n      <td>C</td>\n    </tr>\n    <tr>\n      <th>2</th>\n      <td>3</td>\n      <td>1</td>\n      <td>3</td>\n      <td>Heikkinen, Miss. Laina</td>\n      <td>female</td>\n      <td>26.0</td>\n      <td>0</td>\n      <td>0</td>\n      <td>STON/O2. 3101282</td>\n      <td>7.9250</td>\n      <td>NaN</td>\n      <td>S</td>\n    </tr>\n  </tbody>\n</table>\n</div>"
          },
          "metadata": {}
        }
      ]
    },
    {
      "metadata": {
        "trusted": true,
        "_uuid": "d911c7eddfd67821077fedd724276465514ee928"
      },
      "cell_type": "code",
      "source": "train.loc[:3]",
      "execution_count": 335,
      "outputs": [
        {
          "output_type": "execute_result",
          "execution_count": 335,
          "data": {
            "text/plain": "   PassengerId  Survived  Pclass    ...        Fare Cabin  Embarked\n0            1         0       3    ...      7.2500   NaN         S\n1            2         1       1    ...     71.2833   C85         C\n2            3         1       3    ...      7.9250   NaN         S\n3            4         1       1    ...     53.1000  C123         S\n\n[4 rows x 12 columns]",
            "text/html": "<div>\n<style scoped>\n    .dataframe tbody tr th:only-of-type {\n        vertical-align: middle;\n    }\n\n    .dataframe tbody tr th {\n        vertical-align: top;\n    }\n\n    .dataframe thead th {\n        text-align: right;\n    }\n</style>\n<table border=\"1\" class=\"dataframe\">\n  <thead>\n    <tr style=\"text-align: right;\">\n      <th></th>\n      <th>PassengerId</th>\n      <th>Survived</th>\n      <th>Pclass</th>\n      <th>Name</th>\n      <th>Sex</th>\n      <th>Age</th>\n      <th>SibSp</th>\n      <th>Parch</th>\n      <th>Ticket</th>\n      <th>Fare</th>\n      <th>Cabin</th>\n      <th>Embarked</th>\n    </tr>\n  </thead>\n  <tbody>\n    <tr>\n      <th>0</th>\n      <td>1</td>\n      <td>0</td>\n      <td>3</td>\n      <td>Braund, Mr. Owen Harris</td>\n      <td>male</td>\n      <td>22.0</td>\n      <td>1</td>\n      <td>0</td>\n      <td>A/5 21171</td>\n      <td>7.2500</td>\n      <td>NaN</td>\n      <td>S</td>\n    </tr>\n    <tr>\n      <th>1</th>\n      <td>2</td>\n      <td>1</td>\n      <td>1</td>\n      <td>Cumings, Mrs. John Bradley (Florence Briggs Th...</td>\n      <td>female</td>\n      <td>38.0</td>\n      <td>1</td>\n      <td>0</td>\n      <td>PC 17599</td>\n      <td>71.2833</td>\n      <td>C85</td>\n      <td>C</td>\n    </tr>\n    <tr>\n      <th>2</th>\n      <td>3</td>\n      <td>1</td>\n      <td>3</td>\n      <td>Heikkinen, Miss. Laina</td>\n      <td>female</td>\n      <td>26.0</td>\n      <td>0</td>\n      <td>0</td>\n      <td>STON/O2. 3101282</td>\n      <td>7.9250</td>\n      <td>NaN</td>\n      <td>S</td>\n    </tr>\n    <tr>\n      <th>3</th>\n      <td>4</td>\n      <td>1</td>\n      <td>1</td>\n      <td>Futrelle, Mrs. Jacques Heath (Lily May Peel)</td>\n      <td>female</td>\n      <td>35.0</td>\n      <td>1</td>\n      <td>0</td>\n      <td>113803</td>\n      <td>53.1000</td>\n      <td>C123</td>\n      <td>S</td>\n    </tr>\n  </tbody>\n</table>\n</div>"
          },
          "metadata": {}
        }
      ]
    },
    {
      "metadata": {
        "_uuid": "ef9b8c999b7757dafb351466ba4f9a92582b2367"
      },
      "cell_type": "markdown",
      "source": "Confused !!! Lets take an example"
    },
    {
      "metadata": {
        "trusted": true,
        "_uuid": "dadb2631ceed352540a2a11840f6535a8f402428"
      },
      "cell_type": "code",
      "source": "s = pd.Series(np.nan, index=[49,48,47,46,45, 1, 2, 3, 4, 5])",
      "execution_count": 336,
      "outputs": []
    },
    {
      "metadata": {
        "trusted": true,
        "_uuid": "69db30f1d4c0b805a491b6c8b6d7ba85728ed880"
      },
      "cell_type": "code",
      "source": "s",
      "execution_count": 337,
      "outputs": [
        {
          "output_type": "execute_result",
          "execution_count": 337,
          "data": {
            "text/plain": "49   NaN\n48   NaN\n47   NaN\n46   NaN\n45   NaN\n1    NaN\n2    NaN\n3    NaN\n4    NaN\n5    NaN\ndtype: float64"
          },
          "metadata": {}
        }
      ]
    },
    {
      "metadata": {
        "trusted": true,
        "_uuid": "cf9371d9820f6a349fc308240222f6c150f33513"
      },
      "cell_type": "code",
      "source": "s.iloc[:3] # slice the first three rows",
      "execution_count": 338,
      "outputs": [
        {
          "output_type": "execute_result",
          "execution_count": 338,
          "data": {
            "text/plain": "49   NaN\n48   NaN\n47   NaN\ndtype: float64"
          },
          "metadata": {}
        }
      ]
    },
    {
      "metadata": {
        "trusted": true,
        "_uuid": "2a0a64b133cfa8288f1e528b9d116a851dbb6888"
      },
      "cell_type": "code",
      "source": "s.loc[:3] # slice up to and including label 3",
      "execution_count": 339,
      "outputs": [
        {
          "output_type": "execute_result",
          "execution_count": 339,
          "data": {
            "text/plain": "49   NaN\n48   NaN\n47   NaN\n46   NaN\n45   NaN\n1    NaN\n2    NaN\n3    NaN\ndtype: float64"
          },
          "metadata": {}
        }
      ]
    },
    {
      "metadata": {
        "_uuid": "67bcd3fcc1fc1e0ece912b0ca0afb31b6eae8728"
      },
      "cell_type": "markdown",
      "source": "Clear Now :)"
    },
    {
      "metadata": {
        "_uuid": "a2432e0154236e5fd9ab3e18aac6725856ea2cb1"
      },
      "cell_type": "markdown",
      "source": "## Selecting only few columns"
    },
    {
      "metadata": {
        "trusted": true,
        "_uuid": "dec891c2bbfa8a5ed06794f1f8a6bccc77b046cb"
      },
      "cell_type": "code",
      "source": "train.columns",
      "execution_count": 340,
      "outputs": [
        {
          "output_type": "execute_result",
          "execution_count": 340,
          "data": {
            "text/plain": "Index(['PassengerId', 'Survived', 'Pclass', 'Name', 'Sex', 'Age', 'SibSp',\n       'Parch', 'Ticket', 'Fare', 'Cabin', 'Embarked'],\n      dtype='object')"
          },
          "metadata": {}
        }
      ]
    },
    {
      "metadata": {
        "trusted": true,
        "_uuid": "b332ebbff8e2889818af10eee27c5796833106ba"
      },
      "cell_type": "code",
      "source": "train[['PassengerId','Name']].head()",
      "execution_count": 341,
      "outputs": [
        {
          "output_type": "execute_result",
          "execution_count": 341,
          "data": {
            "text/plain": "   PassengerId                                               Name\n0            1                            Braund, Mr. Owen Harris\n1            2  Cumings, Mrs. John Bradley (Florence Briggs Th...\n2            3                             Heikkinen, Miss. Laina\n3            4       Futrelle, Mrs. Jacques Heath (Lily May Peel)\n4            5                           Allen, Mr. William Henry",
            "text/html": "<div>\n<style scoped>\n    .dataframe tbody tr th:only-of-type {\n        vertical-align: middle;\n    }\n\n    .dataframe tbody tr th {\n        vertical-align: top;\n    }\n\n    .dataframe thead th {\n        text-align: right;\n    }\n</style>\n<table border=\"1\" class=\"dataframe\">\n  <thead>\n    <tr style=\"text-align: right;\">\n      <th></th>\n      <th>PassengerId</th>\n      <th>Name</th>\n    </tr>\n  </thead>\n  <tbody>\n    <tr>\n      <th>0</th>\n      <td>1</td>\n      <td>Braund, Mr. Owen Harris</td>\n    </tr>\n    <tr>\n      <th>1</th>\n      <td>2</td>\n      <td>Cumings, Mrs. John Bradley (Florence Briggs Th...</td>\n    </tr>\n    <tr>\n      <th>2</th>\n      <td>3</td>\n      <td>Heikkinen, Miss. Laina</td>\n    </tr>\n    <tr>\n      <th>3</th>\n      <td>4</td>\n      <td>Futrelle, Mrs. Jacques Heath (Lily May Peel)</td>\n    </tr>\n    <tr>\n      <th>4</th>\n      <td>5</td>\n      <td>Allen, Mr. William Henry</td>\n    </tr>\n  </tbody>\n</table>\n</div>"
          },
          "metadata": {}
        }
      ]
    },
    {
      "metadata": {
        "_uuid": "847665d61fd2f3a67dc3da66a40459e742720e58"
      },
      "cell_type": "markdown",
      "source": "**Slicing through COLUMNS**"
    },
    {
      "metadata": {
        "trusted": true,
        "_uuid": "118a2bc50c6771043d57e88fea123f6dfdd8231a"
      },
      "cell_type": "code",
      "source": "train_few = train.iloc[:,0:4]",
      "execution_count": 342,
      "outputs": []
    },
    {
      "metadata": {
        "trusted": true,
        "_uuid": "ee668eba3292bb7737f3172afba9c77da6666b66"
      },
      "cell_type": "code",
      "source": "train_few",
      "execution_count": 343,
      "outputs": [
        {
          "output_type": "execute_result",
          "execution_count": 343,
          "data": {
            "text/plain": "     PassengerId                        ...                                                                       Name\n0              1                        ...                                                    Braund, Mr. Owen Harris\n1              2                        ...                          Cumings, Mrs. John Bradley (Florence Briggs Th...\n2              3                        ...                                                     Heikkinen, Miss. Laina\n3              4                        ...                               Futrelle, Mrs. Jacques Heath (Lily May Peel)\n4              5                        ...                                                   Allen, Mr. William Henry\n5              6                        ...                                                           Moran, Mr. James\n6              7                        ...                                                    McCarthy, Mr. Timothy J\n7              8                        ...                                             Palsson, Master. Gosta Leonard\n8              9                        ...                          Johnson, Mrs. Oscar W (Elisabeth Vilhelmina Berg)\n9             10                        ...                                        Nasser, Mrs. Nicholas (Adele Achem)\n10            11                        ...                                            Sandstrom, Miss. Marguerite Rut\n11            12                        ...                                                   Bonnell, Miss. Elizabeth\n12            13                        ...                                             Saundercock, Mr. William Henry\n13            14                        ...                                                Andersson, Mr. Anders Johan\n14            15                        ...                                       Vestrom, Miss. Hulda Amanda Adolfina\n15            16                        ...                                           Hewlett, Mrs. (Mary D Kingcome) \n16            17                        ...                                                       Rice, Master. Eugene\n17            18                        ...                                               Williams, Mr. Charles Eugene\n18            19                        ...                          Vander Planke, Mrs. Julius (Emelia Maria Vande...\n19            20                        ...                                                    Masselmani, Mrs. Fatima\n20            21                        ...                                                       Fynney, Mr. Joseph J\n21            22                        ...                                                      Beesley, Mr. Lawrence\n22            23                        ...                                                McGowan, Miss. Anna \"Annie\"\n23            24                        ...                                               Sloper, Mr. William Thompson\n24            25                        ...                                              Palsson, Miss. Torborg Danira\n25            26                        ...                          Asplund, Mrs. Carl Oscar (Selma Augusta Emilia...\n26            27                        ...                                                    Emir, Mr. Farred Chehab\n27            28                        ...                                             Fortune, Mr. Charles Alexander\n28            29                        ...                                              O'Dwyer, Miss. Ellen \"Nellie\"\n29            30                        ...                                                        Todoroff, Mr. Lalio\n..           ...                        ...                                                                        ...\n861          862                        ...                                                Giles, Mr. Frederick Edward\n862          863                        ...                          Swift, Mrs. Frederick Joel (Margaret Welles Ba...\n863          864                        ...                                          Sage, Miss. Dorothy Edith \"Dolly\"\n864          865                        ...                                                     Gill, Mr. John William\n865          866                        ...                                                   Bystrom, Mrs. (Karolina)\n866          867                        ...                                               Duran y More, Miss. Asuncion\n867          868                        ...                                       Roebling, Mr. Washington Augustus II\n868          869                        ...                                                van Melkebeke, Mr. Philemon\n869          870                        ...                                            Johnson, Master. Harold Theodor\n870          871                        ...                                                          Balkic, Mr. Cerin\n871          872                        ...                           Beckwith, Mrs. Richard Leonard (Sallie Monypeny)\n872          873                        ...                                                   Carlsson, Mr. Frans Olof\n873          874                        ...                                                Vander Cruyssen, Mr. Victor\n874          875                        ...                                      Abelson, Mrs. Samuel (Hannah Wizosky)\n875          876                        ...                                           Najib, Miss. Adele Kiamie \"Jane\"\n876          877                        ...                                              Gustafsson, Mr. Alfred Ossian\n877          878                        ...                                                       Petroff, Mr. Nedelio\n878          879                        ...                                                         Laleff, Mr. Kristo\n879          880                        ...                              Potter, Mrs. Thomas Jr (Lily Alexenia Wilson)\n880          881                        ...                               Shelley, Mrs. William (Imanita Parrish Hall)\n881          882                        ...                                                         Markun, Mr. Johann\n882          883                        ...                                               Dahlberg, Miss. Gerda Ulrika\n883          884                        ...                                              Banfield, Mr. Frederick James\n884          885                        ...                                                     Sutehall, Mr. Henry Jr\n885          886                        ...                                       Rice, Mrs. William (Margaret Norton)\n886          887                        ...                                                      Montvila, Rev. Juozas\n887          888                        ...                                               Graham, Miss. Margaret Edith\n888          889                        ...                                   Johnston, Miss. Catherine Helen \"Carrie\"\n889          890                        ...                                                      Behr, Mr. Karl Howell\n890          891                        ...                                                        Dooley, Mr. Patrick\n\n[891 rows x 4 columns]",
            "text/html": "<div>\n<style scoped>\n    .dataframe tbody tr th:only-of-type {\n        vertical-align: middle;\n    }\n\n    .dataframe tbody tr th {\n        vertical-align: top;\n    }\n\n    .dataframe thead th {\n        text-align: right;\n    }\n</style>\n<table border=\"1\" class=\"dataframe\">\n  <thead>\n    <tr style=\"text-align: right;\">\n      <th></th>\n      <th>PassengerId</th>\n      <th>Survived</th>\n      <th>Pclass</th>\n      <th>Name</th>\n    </tr>\n  </thead>\n  <tbody>\n    <tr>\n      <th>0</th>\n      <td>1</td>\n      <td>0</td>\n      <td>3</td>\n      <td>Braund, Mr. Owen Harris</td>\n    </tr>\n    <tr>\n      <th>1</th>\n      <td>2</td>\n      <td>1</td>\n      <td>1</td>\n      <td>Cumings, Mrs. John Bradley (Florence Briggs Th...</td>\n    </tr>\n    <tr>\n      <th>2</th>\n      <td>3</td>\n      <td>1</td>\n      <td>3</td>\n      <td>Heikkinen, Miss. Laina</td>\n    </tr>\n    <tr>\n      <th>3</th>\n      <td>4</td>\n      <td>1</td>\n      <td>1</td>\n      <td>Futrelle, Mrs. Jacques Heath (Lily May Peel)</td>\n    </tr>\n    <tr>\n      <th>4</th>\n      <td>5</td>\n      <td>0</td>\n      <td>3</td>\n      <td>Allen, Mr. William Henry</td>\n    </tr>\n    <tr>\n      <th>5</th>\n      <td>6</td>\n      <td>0</td>\n      <td>3</td>\n      <td>Moran, Mr. James</td>\n    </tr>\n    <tr>\n      <th>6</th>\n      <td>7</td>\n      <td>0</td>\n      <td>1</td>\n      <td>McCarthy, Mr. Timothy J</td>\n    </tr>\n    <tr>\n      <th>7</th>\n      <td>8</td>\n      <td>0</td>\n      <td>3</td>\n      <td>Palsson, Master. Gosta Leonard</td>\n    </tr>\n    <tr>\n      <th>8</th>\n      <td>9</td>\n      <td>1</td>\n      <td>3</td>\n      <td>Johnson, Mrs. Oscar W (Elisabeth Vilhelmina Berg)</td>\n    </tr>\n    <tr>\n      <th>9</th>\n      <td>10</td>\n      <td>1</td>\n      <td>2</td>\n      <td>Nasser, Mrs. Nicholas (Adele Achem)</td>\n    </tr>\n    <tr>\n      <th>10</th>\n      <td>11</td>\n      <td>1</td>\n      <td>3</td>\n      <td>Sandstrom, Miss. Marguerite Rut</td>\n    </tr>\n    <tr>\n      <th>11</th>\n      <td>12</td>\n      <td>1</td>\n      <td>1</td>\n      <td>Bonnell, Miss. Elizabeth</td>\n    </tr>\n    <tr>\n      <th>12</th>\n      <td>13</td>\n      <td>0</td>\n      <td>3</td>\n      <td>Saundercock, Mr. William Henry</td>\n    </tr>\n    <tr>\n      <th>13</th>\n      <td>14</td>\n      <td>0</td>\n      <td>3</td>\n      <td>Andersson, Mr. Anders Johan</td>\n    </tr>\n    <tr>\n      <th>14</th>\n      <td>15</td>\n      <td>0</td>\n      <td>3</td>\n      <td>Vestrom, Miss. Hulda Amanda Adolfina</td>\n    </tr>\n    <tr>\n      <th>15</th>\n      <td>16</td>\n      <td>1</td>\n      <td>2</td>\n      <td>Hewlett, Mrs. (Mary D Kingcome)</td>\n    </tr>\n    <tr>\n      <th>16</th>\n      <td>17</td>\n      <td>0</td>\n      <td>3</td>\n      <td>Rice, Master. Eugene</td>\n    </tr>\n    <tr>\n      <th>17</th>\n      <td>18</td>\n      <td>1</td>\n      <td>2</td>\n      <td>Williams, Mr. Charles Eugene</td>\n    </tr>\n    <tr>\n      <th>18</th>\n      <td>19</td>\n      <td>0</td>\n      <td>3</td>\n      <td>Vander Planke, Mrs. Julius (Emelia Maria Vande...</td>\n    </tr>\n    <tr>\n      <th>19</th>\n      <td>20</td>\n      <td>1</td>\n      <td>3</td>\n      <td>Masselmani, Mrs. Fatima</td>\n    </tr>\n    <tr>\n      <th>20</th>\n      <td>21</td>\n      <td>0</td>\n      <td>2</td>\n      <td>Fynney, Mr. Joseph J</td>\n    </tr>\n    <tr>\n      <th>21</th>\n      <td>22</td>\n      <td>1</td>\n      <td>2</td>\n      <td>Beesley, Mr. Lawrence</td>\n    </tr>\n    <tr>\n      <th>22</th>\n      <td>23</td>\n      <td>1</td>\n      <td>3</td>\n      <td>McGowan, Miss. Anna \"Annie\"</td>\n    </tr>\n    <tr>\n      <th>23</th>\n      <td>24</td>\n      <td>1</td>\n      <td>1</td>\n      <td>Sloper, Mr. William Thompson</td>\n    </tr>\n    <tr>\n      <th>24</th>\n      <td>25</td>\n      <td>0</td>\n      <td>3</td>\n      <td>Palsson, Miss. Torborg Danira</td>\n    </tr>\n    <tr>\n      <th>25</th>\n      <td>26</td>\n      <td>1</td>\n      <td>3</td>\n      <td>Asplund, Mrs. Carl Oscar (Selma Augusta Emilia...</td>\n    </tr>\n    <tr>\n      <th>26</th>\n      <td>27</td>\n      <td>0</td>\n      <td>3</td>\n      <td>Emir, Mr. Farred Chehab</td>\n    </tr>\n    <tr>\n      <th>27</th>\n      <td>28</td>\n      <td>0</td>\n      <td>1</td>\n      <td>Fortune, Mr. Charles Alexander</td>\n    </tr>\n    <tr>\n      <th>28</th>\n      <td>29</td>\n      <td>1</td>\n      <td>3</td>\n      <td>O'Dwyer, Miss. Ellen \"Nellie\"</td>\n    </tr>\n    <tr>\n      <th>29</th>\n      <td>30</td>\n      <td>0</td>\n      <td>3</td>\n      <td>Todoroff, Mr. Lalio</td>\n    </tr>\n    <tr>\n      <th>...</th>\n      <td>...</td>\n      <td>...</td>\n      <td>...</td>\n      <td>...</td>\n    </tr>\n    <tr>\n      <th>861</th>\n      <td>862</td>\n      <td>0</td>\n      <td>2</td>\n      <td>Giles, Mr. Frederick Edward</td>\n    </tr>\n    <tr>\n      <th>862</th>\n      <td>863</td>\n      <td>1</td>\n      <td>1</td>\n      <td>Swift, Mrs. Frederick Joel (Margaret Welles Ba...</td>\n    </tr>\n    <tr>\n      <th>863</th>\n      <td>864</td>\n      <td>0</td>\n      <td>3</td>\n      <td>Sage, Miss. Dorothy Edith \"Dolly\"</td>\n    </tr>\n    <tr>\n      <th>864</th>\n      <td>865</td>\n      <td>0</td>\n      <td>2</td>\n      <td>Gill, Mr. John William</td>\n    </tr>\n    <tr>\n      <th>865</th>\n      <td>866</td>\n      <td>1</td>\n      <td>2</td>\n      <td>Bystrom, Mrs. (Karolina)</td>\n    </tr>\n    <tr>\n      <th>866</th>\n      <td>867</td>\n      <td>1</td>\n      <td>2</td>\n      <td>Duran y More, Miss. Asuncion</td>\n    </tr>\n    <tr>\n      <th>867</th>\n      <td>868</td>\n      <td>0</td>\n      <td>1</td>\n      <td>Roebling, Mr. Washington Augustus II</td>\n    </tr>\n    <tr>\n      <th>868</th>\n      <td>869</td>\n      <td>0</td>\n      <td>3</td>\n      <td>van Melkebeke, Mr. Philemon</td>\n    </tr>\n    <tr>\n      <th>869</th>\n      <td>870</td>\n      <td>1</td>\n      <td>3</td>\n      <td>Johnson, Master. Harold Theodor</td>\n    </tr>\n    <tr>\n      <th>870</th>\n      <td>871</td>\n      <td>0</td>\n      <td>3</td>\n      <td>Balkic, Mr. Cerin</td>\n    </tr>\n    <tr>\n      <th>871</th>\n      <td>872</td>\n      <td>1</td>\n      <td>1</td>\n      <td>Beckwith, Mrs. Richard Leonard (Sallie Monypeny)</td>\n    </tr>\n    <tr>\n      <th>872</th>\n      <td>873</td>\n      <td>0</td>\n      <td>1</td>\n      <td>Carlsson, Mr. Frans Olof</td>\n    </tr>\n    <tr>\n      <th>873</th>\n      <td>874</td>\n      <td>0</td>\n      <td>3</td>\n      <td>Vander Cruyssen, Mr. Victor</td>\n    </tr>\n    <tr>\n      <th>874</th>\n      <td>875</td>\n      <td>1</td>\n      <td>2</td>\n      <td>Abelson, Mrs. Samuel (Hannah Wizosky)</td>\n    </tr>\n    <tr>\n      <th>875</th>\n      <td>876</td>\n      <td>1</td>\n      <td>3</td>\n      <td>Najib, Miss. Adele Kiamie \"Jane\"</td>\n    </tr>\n    <tr>\n      <th>876</th>\n      <td>877</td>\n      <td>0</td>\n      <td>3</td>\n      <td>Gustafsson, Mr. Alfred Ossian</td>\n    </tr>\n    <tr>\n      <th>877</th>\n      <td>878</td>\n      <td>0</td>\n      <td>3</td>\n      <td>Petroff, Mr. Nedelio</td>\n    </tr>\n    <tr>\n      <th>878</th>\n      <td>879</td>\n      <td>0</td>\n      <td>3</td>\n      <td>Laleff, Mr. Kristo</td>\n    </tr>\n    <tr>\n      <th>879</th>\n      <td>880</td>\n      <td>1</td>\n      <td>1</td>\n      <td>Potter, Mrs. Thomas Jr (Lily Alexenia Wilson)</td>\n    </tr>\n    <tr>\n      <th>880</th>\n      <td>881</td>\n      <td>1</td>\n      <td>2</td>\n      <td>Shelley, Mrs. William (Imanita Parrish Hall)</td>\n    </tr>\n    <tr>\n      <th>881</th>\n      <td>882</td>\n      <td>0</td>\n      <td>3</td>\n      <td>Markun, Mr. Johann</td>\n    </tr>\n    <tr>\n      <th>882</th>\n      <td>883</td>\n      <td>0</td>\n      <td>3</td>\n      <td>Dahlberg, Miss. Gerda Ulrika</td>\n    </tr>\n    <tr>\n      <th>883</th>\n      <td>884</td>\n      <td>0</td>\n      <td>2</td>\n      <td>Banfield, Mr. Frederick James</td>\n    </tr>\n    <tr>\n      <th>884</th>\n      <td>885</td>\n      <td>0</td>\n      <td>3</td>\n      <td>Sutehall, Mr. Henry Jr</td>\n    </tr>\n    <tr>\n      <th>885</th>\n      <td>886</td>\n      <td>0</td>\n      <td>3</td>\n      <td>Rice, Mrs. William (Margaret Norton)</td>\n    </tr>\n    <tr>\n      <th>886</th>\n      <td>887</td>\n      <td>0</td>\n      <td>2</td>\n      <td>Montvila, Rev. Juozas</td>\n    </tr>\n    <tr>\n      <th>887</th>\n      <td>888</td>\n      <td>1</td>\n      <td>1</td>\n      <td>Graham, Miss. Margaret Edith</td>\n    </tr>\n    <tr>\n      <th>888</th>\n      <td>889</td>\n      <td>0</td>\n      <td>3</td>\n      <td>Johnston, Miss. Catherine Helen \"Carrie\"</td>\n    </tr>\n    <tr>\n      <th>889</th>\n      <td>890</td>\n      <td>1</td>\n      <td>1</td>\n      <td>Behr, Mr. Karl Howell</td>\n    </tr>\n    <tr>\n      <th>890</th>\n      <td>891</td>\n      <td>0</td>\n      <td>3</td>\n      <td>Dooley, Mr. Patrick</td>\n    </tr>\n  </tbody>\n</table>\n<p>891 rows × 4 columns</p>\n</div>"
          },
          "metadata": {}
        }
      ]
    },
    {
      "metadata": {
        "_uuid": "27ee213c8d1c9f1e4d6a0f232dfedd4ad681ec0a"
      },
      "cell_type": "markdown",
      "source": "## Lets understand Group By \n"
    },
    {
      "metadata": {
        "trusted": true,
        "_uuid": "76978c888a99cfd3717e821a08ea048b0df50135"
      },
      "cell_type": "code",
      "source": "## how many Male & Female survived\ntrain[train['Survived'] == 1].groupby(['Sex'])['Survived'].count()",
      "execution_count": 344,
      "outputs": [
        {
          "output_type": "execute_result",
          "execution_count": 344,
          "data": {
            "text/plain": "Sex\nfemale    233\nmale      109\nName: Survived, dtype: int64"
          },
          "metadata": {}
        }
      ]
    },
    {
      "metadata": {
        "trusted": true,
        "_uuid": "25a98dbea240c0645638ff06c1585637656b3228"
      },
      "cell_type": "code",
      "source": "train.columns",
      "execution_count": 345,
      "outputs": [
        {
          "output_type": "execute_result",
          "execution_count": 345,
          "data": {
            "text/plain": "Index(['PassengerId', 'Survived', 'Pclass', 'Name', 'Sex', 'Age', 'SibSp',\n       'Parch', 'Ticket', 'Fare', 'Cabin', 'Embarked'],\n      dtype='object')"
          },
          "metadata": {}
        }
      ]
    },
    {
      "metadata": {
        "trusted": true,
        "_uuid": "4f96b2771f99a318189492f5a1cc2af9f402ca5d"
      },
      "cell_type": "code",
      "source": "## group by Embrked",
      "execution_count": 346,
      "outputs": []
    },
    {
      "metadata": {
        "trusted": true,
        "_uuid": "e4cd5eb25bf4c092248797e5d4af9568c8900e05"
      },
      "cell_type": "code",
      "source": "train[train['Survived'] == 1].groupby(['Embarked'])['Survived'].count()",
      "execution_count": 347,
      "outputs": [
        {
          "output_type": "execute_result",
          "execution_count": 347,
          "data": {
            "text/plain": "Embarked\nC     93\nQ     30\nS    217\nName: Survived, dtype: int64"
          },
          "metadata": {}
        }
      ]
    },
    {
      "metadata": {
        "_uuid": "762e4fa6a067b9661183936c7897172a0556ebc3"
      },
      "cell_type": "markdown",
      "source": "## lets do some operations in Columns"
    },
    {
      "metadata": {
        "_uuid": "f4a27300ad4de70a37acbaa3bdbe62b0aff65180"
      },
      "cell_type": "markdown",
      "source": "We'll create a function that:\n\nUses the pandas.fillna() method to fill all of the missing values with -0.5\n\nCuts the Age column into six segments:\n\nMissing, from -1 to 0\n\nInfant, from 0 to 5\n\nChild, from 5 to 12\n\nTeenager, from 12 to 18\n\nYoung Adult, from 18 to 35\n\nAdult, from 35 to 60\n\nSenior, from 60 to 100\n"
    },
    {
      "metadata": {
        "trusted": true,
        "_uuid": "39a0d3f021ab6ee982f93f7b2f54be8328b7acbc"
      },
      "cell_type": "code",
      "source": "def process_age(df,cut_points,label_names):\n    df[\"Age\"] = df[\"Age\"].fillna(-0.5)\n    df[\"Age_categories\"] = pd.cut(df[\"Age\"],cut_points,labels=label_names)\n    return df\n\ncut_points = [-1,0,5,12,18,35,60,100]\nlabel_names = [\"Missing\",\"Infant\",\"Child\",\"Teenager\",\"Young Adult\",\"Adult\",\"Senior\"]\n\ntrain = process_age(train,cut_points,label_names)\n",
      "execution_count": 348,
      "outputs": []
    },
    {
      "metadata": {
        "trusted": true,
        "_uuid": "0a6355e2c8b896245b10936b15b7f0b99d9a6654"
      },
      "cell_type": "code",
      "source": "train['Age_categories'].head()",
      "execution_count": 349,
      "outputs": [
        {
          "output_type": "execute_result",
          "execution_count": 349,
          "data": {
            "text/plain": "0    Young Adult\n1          Adult\n2    Young Adult\n3    Young Adult\n4    Young Adult\nName: Age_categories, dtype: category\nCategories (7, object): [Missing < Infant < Child < Teenager < Young Adult < Adult < Senior]"
          },
          "metadata": {}
        }
      ]
    },
    {
      "metadata": {
        "trusted": true,
        "_uuid": "c39fa71989fb96fb797d93061d6a5c80c9a518ec"
      },
      "cell_type": "code",
      "source": "### lets try Pandas Join - different example than Titanic",
      "execution_count": 350,
      "outputs": []
    },
    {
      "metadata": {
        "trusted": true,
        "_uuid": "a97e7175125336fd3236eedb59ec312e882cd271"
      },
      "cell_type": "code",
      "source": "train.columns",
      "execution_count": 351,
      "outputs": [
        {
          "output_type": "execute_result",
          "execution_count": 351,
          "data": {
            "text/plain": "Index(['PassengerId', 'Survived', 'Pclass', 'Name', 'Sex', 'Age', 'SibSp',\n       'Parch', 'Ticket', 'Fare', 'Cabin', 'Embarked', 'Age_categories'],\n      dtype='object')"
          },
          "metadata": {}
        }
      ]
    },
    {
      "metadata": {
        "_uuid": "9a1087ebb776f1711e3291e2d6f778006ee8c88d"
      },
      "cell_type": "markdown",
      "source": "## lets see how Join works"
    },
    {
      "metadata": {
        "trusted": true,
        "_uuid": "d6ff353becd872d16d53959117abb4529f2435c8"
      },
      "cell_type": "code",
      "source": "# lets create 2 df and join them\ndf1 = train[['PassengerId','Survived']]\ndf2 = train[['PassengerId','Name','Sex']]",
      "execution_count": 380,
      "outputs": []
    },
    {
      "metadata": {
        "trusted": true,
        "_uuid": "ab97b97ac6cf37d5adb773381955b98e0b856405"
      },
      "cell_type": "code",
      "source": "result = pd.merge(df1,\n                 df2,\n                 on='PassengerId',how='inner')  \n                 #on='PassengerId',how='left')  ## for left outer join - use left in how.\n                 #on='PassengerId',how='right')  ## for right outer join - use right in how.\n\nresult.head()\n",
      "execution_count": 381,
      "outputs": [
        {
          "output_type": "execute_result",
          "execution_count": 381,
          "data": {
            "text/plain": "   PassengerId   ...       Sex\n0            1   ...      male\n1            2   ...    female\n2            3   ...    female\n3            4   ...    female\n4            5   ...      male\n\n[5 rows x 4 columns]",
            "text/html": "<div>\n<style scoped>\n    .dataframe tbody tr th:only-of-type {\n        vertical-align: middle;\n    }\n\n    .dataframe tbody tr th {\n        vertical-align: top;\n    }\n\n    .dataframe thead th {\n        text-align: right;\n    }\n</style>\n<table border=\"1\" class=\"dataframe\">\n  <thead>\n    <tr style=\"text-align: right;\">\n      <th></th>\n      <th>PassengerId</th>\n      <th>Survived</th>\n      <th>Name</th>\n      <th>Sex</th>\n    </tr>\n  </thead>\n  <tbody>\n    <tr>\n      <th>0</th>\n      <td>1</td>\n      <td>0</td>\n      <td>Braund, Mr. Owen Harris</td>\n      <td>male</td>\n    </tr>\n    <tr>\n      <th>1</th>\n      <td>2</td>\n      <td>1</td>\n      <td>Cumings, Mrs. John Bradley (Florence Briggs Th...</td>\n      <td>female</td>\n    </tr>\n    <tr>\n      <th>2</th>\n      <td>3</td>\n      <td>1</td>\n      <td>Heikkinen, Miss. Laina</td>\n      <td>female</td>\n    </tr>\n    <tr>\n      <th>3</th>\n      <td>4</td>\n      <td>1</td>\n      <td>Futrelle, Mrs. Jacques Heath (Lily May Peel)</td>\n      <td>female</td>\n    </tr>\n    <tr>\n      <th>4</th>\n      <td>5</td>\n      <td>0</td>\n      <td>Allen, Mr. William Henry</td>\n      <td>male</td>\n    </tr>\n  </tbody>\n</table>\n</div>"
          },
          "metadata": {}
        }
      ]
    },
    {
      "metadata": {
        "_uuid": "52bc915d97c46e19753a61f285d5e0b5680fd5eb"
      },
      "cell_type": "markdown",
      "source": "## Concat 2 dataset\n*( understand how axis=0,axis=1 works)*"
    },
    {
      "metadata": {
        "trusted": true,
        "_uuid": "f2f6fadbf8bc2b815c22177fa2d9e5315abce305"
      },
      "cell_type": "code",
      "source": "## concat example\nimport pandas as pd\ndict_data = {'Treatment': ['C', 'C', 'C'], \n             'Biorep': ['A', 'A', 'A'], \n             'Techrep': [1, 1, 1],\n             'AAseq': ['ELVISLIVES', 'ELVISLIVES', 'ELVISLIVES'], \n             'mz':[500.0, 500.5, 501.0]}\ndf_a = pd.DataFrame(dict_data)\ndict_data = {'Treatment1': ['C', 'C', 'C'], \n             'Biorep1': ['A', 'A', 'A'],\n             'Techrep1': [1, 1, 1], \n             'AAseq1': ['ELVISLIVES', 'ELVISLIVES', 'ELVISLIVES'], \n             'inte1':[1100.0, 1050.0, 1010.0]}\ndf_b = pd.DataFrame(dict_data)",
      "execution_count": 398,
      "outputs": []
    },
    {
      "metadata": {
        "trusted": true,
        "_uuid": "9e354c1c23f3c46d23b11c324351803bfe442d8e"
      },
      "cell_type": "code",
      "source": "pd.concat([df_a,df_b], axis=1)",
      "execution_count": 399,
      "outputs": [
        {
          "output_type": "execute_result",
          "execution_count": 399,
          "data": {
            "text/plain": "  Treatment Biorep  Techrep   ...   Techrep1      AAseq1   inte1\n0         C      A        1   ...          1  ELVISLIVES  1100.0\n1         C      A        1   ...          1  ELVISLIVES  1050.0\n2         C      A        1   ...          1  ELVISLIVES  1010.0\n\n[3 rows x 10 columns]",
            "text/html": "<div>\n<style scoped>\n    .dataframe tbody tr th:only-of-type {\n        vertical-align: middle;\n    }\n\n    .dataframe tbody tr th {\n        vertical-align: top;\n    }\n\n    .dataframe thead th {\n        text-align: right;\n    }\n</style>\n<table border=\"1\" class=\"dataframe\">\n  <thead>\n    <tr style=\"text-align: right;\">\n      <th></th>\n      <th>Treatment</th>\n      <th>Biorep</th>\n      <th>Techrep</th>\n      <th>AAseq</th>\n      <th>mz</th>\n      <th>Treatment1</th>\n      <th>Biorep1</th>\n      <th>Techrep1</th>\n      <th>AAseq1</th>\n      <th>inte1</th>\n    </tr>\n  </thead>\n  <tbody>\n    <tr>\n      <th>0</th>\n      <td>C</td>\n      <td>A</td>\n      <td>1</td>\n      <td>ELVISLIVES</td>\n      <td>500.0</td>\n      <td>C</td>\n      <td>A</td>\n      <td>1</td>\n      <td>ELVISLIVES</td>\n      <td>1100.0</td>\n    </tr>\n    <tr>\n      <th>1</th>\n      <td>C</td>\n      <td>A</td>\n      <td>1</td>\n      <td>ELVISLIVES</td>\n      <td>500.5</td>\n      <td>C</td>\n      <td>A</td>\n      <td>1</td>\n      <td>ELVISLIVES</td>\n      <td>1050.0</td>\n    </tr>\n    <tr>\n      <th>2</th>\n      <td>C</td>\n      <td>A</td>\n      <td>1</td>\n      <td>ELVISLIVES</td>\n      <td>501.0</td>\n      <td>C</td>\n      <td>A</td>\n      <td>1</td>\n      <td>ELVISLIVES</td>\n      <td>1010.0</td>\n    </tr>\n  </tbody>\n</table>\n</div>"
          },
          "metadata": {}
        }
      ]
    },
    {
      "metadata": {
        "trusted": true,
        "_uuid": "e07a8035439df5c3e1c98a4e5bc1292697cf9641"
      },
      "cell_type": "code",
      "source": "dict_1 = {'A': ['1', '2', '3'], \n             'B': ['a', 'b', 'c']}\n\ndict_2 =  {'A': ['4', '5', '6'], \n             'B': ['d', 'e', 'f']}\n\ndf_a = pd.DataFrame(dict_1)\ndf_b = pd.DataFrame(dict_2)\n\nresult = pd.concat([df_a, df_b], axis=0)\nresult",
      "execution_count": 400,
      "outputs": [
        {
          "output_type": "execute_result",
          "execution_count": 400,
          "data": {
            "text/plain": "   A  B\n0  1  a\n1  2  b\n2  3  c\n0  4  d\n1  5  e\n2  6  f",
            "text/html": "<div>\n<style scoped>\n    .dataframe tbody tr th:only-of-type {\n        vertical-align: middle;\n    }\n\n    .dataframe tbody tr th {\n        vertical-align: top;\n    }\n\n    .dataframe thead th {\n        text-align: right;\n    }\n</style>\n<table border=\"1\" class=\"dataframe\">\n  <thead>\n    <tr style=\"text-align: right;\">\n      <th></th>\n      <th>A</th>\n      <th>B</th>\n    </tr>\n  </thead>\n  <tbody>\n    <tr>\n      <th>0</th>\n      <td>1</td>\n      <td>a</td>\n    </tr>\n    <tr>\n      <th>1</th>\n      <td>2</td>\n      <td>b</td>\n    </tr>\n    <tr>\n      <th>2</th>\n      <td>3</td>\n      <td>c</td>\n    </tr>\n    <tr>\n      <th>0</th>\n      <td>4</td>\n      <td>d</td>\n    </tr>\n    <tr>\n      <th>1</th>\n      <td>5</td>\n      <td>e</td>\n    </tr>\n    <tr>\n      <th>2</th>\n      <td>6</td>\n      <td>f</td>\n    </tr>\n  </tbody>\n</table>\n</div>"
          },
          "metadata": {}
        }
      ]
    },
    {
      "metadata": {
        "trusted": true,
        "_uuid": "b3a10c0f3a883cec2540a04d8906b4bc40da5a7c"
      },
      "cell_type": "code",
      "source": "### END  - PANDAS Tutorial",
      "execution_count": null,
      "outputs": []
    },
    {
      "metadata": {
        "trusted": true,
        "_uuid": "25f433668df0bc5af5584ee7c9d46d31bae43f55"
      },
      "cell_type": "code",
      "source": "",
      "execution_count": null,
      "outputs": []
    }
  ],
  "metadata": {
    "kernelspec": {
      "display_name": "Python 3",
      "language": "python",
      "name": "python3"
    },
    "language_info": {
      "name": "python",
      "version": "3.6.6",
      "mimetype": "text/x-python",
      "codemirror_mode": {
        "name": "ipython",
        "version": 3
      },
      "pygments_lexer": "ipython3",
      "nbconvert_exporter": "python",
      "file_extension": ".py"
    }
  },
  "nbformat": 4,
  "nbformat_minor": 1
}